{
 "cells": [
  {
   "attachments": {},
   "cell_type": "markdown",
   "id": "84e029e6",
   "metadata": {},
   "source": [
    "# Deep Neural Networks"
   ]
  },
  {
   "cell_type": "code",
   "execution_count": 1,
   "id": "f3a5b25d",
   "metadata": {},
   "outputs": [],
   "source": [
    "%matplotlib inline\n",
    "\n",
    "import numpy as np\n",
    "import pandas as pd\n",
    "import matplotlib.pyplot as plt\n",
    "from sklearn.preprocessing import StandardScaler\n",
    "from sklearn.model_selection import KFold\n",
    "from sklearn.metrics import accuracy_score, f1_score, classification_report\n",
    "from sklearn.naive_bayes import GaussianNB\n",
    "from sklearn.svm import SVC\n",
    "from sklearn.datasets import load_digits\n",
    "from sklearn.model_selection import learning_curve\n",
    "from sklearn.model_selection import ShuffleSplit\n",
    "from sklearn.linear_model import LogisticRegression\n",
    "from sklearn.model_selection import StratifiedKFold, cross_val_score\n",
    "from sklearn.model_selection import GridSearchCV\n",
    "from sklearn.model_selection import train_test_split, cross_val_score \n",
    "from keras.models import Sequential\n",
    "from keras.layers import Dense\n",
    "from keras.callbacks import EarlyStopping, ModelCheckpoint\n",
    "from tensorflow.keras.optimizers import Adam\n",
    "from tensorflow.keras.regularizers import L2\n",
    "from keras.utils import np_utils\n",
    "from sklearn.preprocessing import LabelEncoder\n",
    "\n",
    "import warnings\n",
    "warnings.filterwarnings('ignore')\n",
    "from sklearn.exceptions import ConvergenceWarning"
   ]
  },
  {
   "cell_type": "code",
   "execution_count": 2,
   "id": "28838e8c",
   "metadata": {},
   "outputs": [],
   "source": [
    "X_train = pd.read_csv('.\\data\\csv_data\\X_TR_561_SENZA_OUTLIERS.csv')\n",
    "X_test = pd.read_csv('.\\data\\csv_data\\X_test.csv')\n",
    "y_train = pd.read_csv('.\\data\\csv_data\\Y_TR_561_SENZA_OUTLIERS.csv')\n",
    "y_test = pd.read_csv('.\\data\\csv_data\\y_test.csv')"
   ]
  },
  {
   "cell_type": "code",
   "execution_count": 3,
   "id": "6bf406d3",
   "metadata": {},
   "outputs": [],
   "source": [
    "# standardizzazione\n",
    "scaler = StandardScaler()\n",
    "scaler.fit(X_train)\n",
    "X_train = scaler.transform(X_train)\n",
    "X_test = scaler.transform(X_test)"
   ]
  },
  {
   "cell_type": "code",
   "execution_count": 4,
   "id": "46b04522",
   "metadata": {},
   "outputs": [],
   "source": [
    "# encode class values as integers\n",
    "encoder = LabelEncoder()\n",
    "encoder.fit(y_train)\n",
    "encoded_Y = encoder.transform(y_train)\n",
    "# convert integers to dummy variables (i.e. one hot encoded)\n",
    "dummy_y = np_utils.to_categorical(encoded_Y)"
   ]
  },
  {
   "cell_type": "code",
   "execution_count": 5,
   "id": "71760df0",
   "metadata": {},
   "outputs": [
    {
     "data": {
      "text/plain": [
       "(7278, 6)"
      ]
     },
     "execution_count": 5,
     "metadata": {},
     "output_type": "execute_result"
    }
   ],
   "source": [
    "dummy_y.shape"
   ]
  },
  {
   "cell_type": "code",
   "execution_count": 7,
   "id": "4240ccee",
   "metadata": {},
   "outputs": [],
   "source": [
    "#train & val \n",
    "X_train2, X_val, y_train2, y_val = train_test_split(X_train, dummy_y, test_size=0.1, random_state=42)"
   ]
  },
  {
   "cell_type": "markdown",
   "id": "6f5edce2",
   "metadata": {},
   "source": [
    "## MODEL 4"
   ]
  },
  {
   "cell_type": "code",
   "execution_count": 22,
   "id": "f4438f1a",
   "metadata": {},
   "outputs": [],
   "source": [
    "def build_model():\n",
    "    \n",
    "    n_feature = X_train2.shape[1]\n",
    "    model = Sequential()\n",
    "    model.add(Dense(128, input_dim=n_feature, activation='relu'))\n",
    "    model.add(Dense(64, activation='relu'))\n",
    "    model.add(Dense(6, activation='softmax'))\n",
    "\n",
    "    model.compile(loss='categorical_crossentropy', optimizer='adam', metrics=['accuracy'])\n",
    "    return model"
   ]
  },
  {
   "cell_type": "code",
   "execution_count": 15,
   "id": "7dab4a02",
   "metadata": {
    "scrolled": true
   },
   "outputs": [
    {
     "name": "stdout",
     "output_type": "stream",
     "text": [
      "Epoch 1/100\n",
      "655/655 [==============================] - 2s 3ms/step - loss: 0.2173 - accuracy: 0.9153 - val_loss: 0.1092 - val_accuracy: 0.9505\n",
      "Epoch 2/100\n",
      "655/655 [==============================] - 1s 2ms/step - loss: 0.0960 - accuracy: 0.9626 - val_loss: 0.0909 - val_accuracy: 0.9725\n",
      "Epoch 3/100\n",
      "655/655 [==============================] - 1s 2ms/step - loss: 0.0807 - accuracy: 0.9705 - val_loss: 0.0586 - val_accuracy: 0.9835\n",
      "Epoch 4/100\n",
      "655/655 [==============================] - 1s 2ms/step - loss: 0.0657 - accuracy: 0.9747 - val_loss: 0.0890 - val_accuracy: 0.9684\n",
      "Epoch 5/100\n",
      "655/655 [==============================] - 1s 2ms/step - loss: 0.0807 - accuracy: 0.9730 - val_loss: 0.0801 - val_accuracy: 0.9670\n",
      "Epoch 6/100\n",
      "655/655 [==============================] - 1s 2ms/step - loss: 0.0403 - accuracy: 0.9838 - val_loss: 0.0541 - val_accuracy: 0.9808\n",
      "Epoch 7/100\n",
      "655/655 [==============================] - 1s 2ms/step - loss: 0.0610 - accuracy: 0.9769 - val_loss: 0.0878 - val_accuracy: 0.9615\n",
      "Epoch 8/100\n",
      "655/655 [==============================] - 1s 2ms/step - loss: 0.0529 - accuracy: 0.9812 - val_loss: 0.0340 - val_accuracy: 0.9876\n",
      "Epoch 9/100\n",
      "655/655 [==============================] - 1s 2ms/step - loss: 0.0317 - accuracy: 0.9882 - val_loss: 0.0635 - val_accuracy: 0.9794\n",
      "Epoch 10/100\n",
      "655/655 [==============================] - 1s 2ms/step - loss: 0.0380 - accuracy: 0.9872 - val_loss: 0.0657 - val_accuracy: 0.9835\n",
      "Epoch 11/100\n",
      "655/655 [==============================] - 1s 2ms/step - loss: 0.0259 - accuracy: 0.9907 - val_loss: 0.0660 - val_accuracy: 0.9780\n",
      "Epoch 12/100\n",
      "655/655 [==============================] - 1s 2ms/step - loss: 0.0171 - accuracy: 0.9942 - val_loss: 0.0555 - val_accuracy: 0.9808\n",
      "Epoch 13/100\n",
      "655/655 [==============================] - 1s 2ms/step - loss: 0.0259 - accuracy: 0.9922 - val_loss: 0.1812 - val_accuracy: 0.9602\n",
      "Epoch 14/100\n",
      "655/655 [==============================] - 1s 2ms/step - loss: 0.0299 - accuracy: 0.9915 - val_loss: 0.0564 - val_accuracy: 0.9808\n",
      "Epoch 15/100\n",
      "655/655 [==============================] - 1s 2ms/step - loss: 0.0272 - accuracy: 0.9925 - val_loss: 0.0354 - val_accuracy: 0.9904\n",
      "Epoch 16/100\n",
      "655/655 [==============================] - 1s 2ms/step - loss: 0.0314 - accuracy: 0.9901 - val_loss: 0.0649 - val_accuracy: 0.9821\n",
      "Epoch 17/100\n",
      "655/655 [==============================] - 1s 2ms/step - loss: 0.0155 - accuracy: 0.9940 - val_loss: 0.0686 - val_accuracy: 0.9876\n",
      "Epoch 18/100\n",
      "655/655 [==============================] - 1s 2ms/step - loss: 0.0232 - accuracy: 0.9951 - val_loss: 0.0862 - val_accuracy: 0.9835\n"
     ]
    }
   ],
   "source": [
    "es = EarlyStopping(monitor='val_loss', patience=10)\n",
    "#mc = ModelCheckpoint('best_model_NOREG.h5', monitor='val_loss', save_best_only=True)\n",
    "\n",
    "model4 = build_model()\n",
    "history4 = model4.fit(X_train2, y_train2, validation_data=(X_val, y_val), epochs=100, \n",
    "                      batch_size=10, callbacks=[es]).history"
   ]
  },
  {
   "cell_type": "code",
   "execution_count": 16,
   "id": "6b65a941",
   "metadata": {},
   "outputs": [],
   "source": [
    "encoded_Y_test = encoder.transform(y_test)\n",
    "# convert integers to dummy variables (i.e. one hot encoded)\n",
    "dummy_y_test = np_utils.to_categorical(encoded_Y_test)"
   ]
  },
  {
   "cell_type": "code",
   "execution_count": 17,
   "id": "1da3f6d2",
   "metadata": {},
   "outputs": [
    {
     "data": {
      "text/plain": [
       "array([[0., 0., 0., 0., 1., 0.],\n",
       "       [0., 0., 0., 0., 1., 0.],\n",
       "       [0., 0., 0., 0., 1., 0.],\n",
       "       ...,\n",
       "       [0., 1., 0., 0., 0., 0.],\n",
       "       [0., 1., 0., 0., 0., 0.],\n",
       "       [0., 1., 0., 0., 0., 0.]], dtype=float32)"
      ]
     },
     "execution_count": 17,
     "metadata": {},
     "output_type": "execute_result"
    }
   ],
   "source": [
    "dummy_y_test"
   ]
  },
  {
   "cell_type": "code",
   "execution_count": 18,
   "id": "652dacc9",
   "metadata": {},
   "outputs": [
    {
     "name": "stdout",
     "output_type": "stream",
     "text": [
      "93/93 [==============================] - 0s 1ms/step - loss: 0.3380 - accuracy: 0.9444\n"
     ]
    },
    {
     "data": {
      "text/plain": [
       "[0.33801156282424927, 0.9443501830101013]"
      ]
     },
     "execution_count": 18,
     "metadata": {},
     "output_type": "execute_result"
    }
   ],
   "source": [
    "model4.evaluate(X_test, dummy_y_test)"
   ]
  },
  {
   "cell_type": "markdown",
   "id": "135d7d84",
   "metadata": {},
   "source": [
    "### PROVA SENZA EARLY STOPPING"
   ]
  },
  {
   "cell_type": "code",
   "execution_count": 23,
   "id": "0899a310",
   "metadata": {
    "scrolled": true
   },
   "outputs": [
    {
     "name": "stdout",
     "output_type": "stream",
     "text": [
      "Epoch 1/200\n",
      "655/655 [==============================] - 2s 2ms/step - loss: 0.2234 - accuracy: 0.9116 - val_loss: 0.0872 - val_accuracy: 0.9725\n",
      "Epoch 2/200\n",
      "655/655 [==============================] - 1s 2ms/step - loss: 0.1050 - accuracy: 0.9594 - val_loss: 0.1095 - val_accuracy: 0.9602\n",
      "Epoch 3/200\n",
      "655/655 [==============================] - 1s 2ms/step - loss: 0.0742 - accuracy: 0.9699 - val_loss: 0.0514 - val_accuracy: 0.9766\n",
      "Epoch 4/200\n",
      "655/655 [==============================] - 1s 2ms/step - loss: 0.0662 - accuracy: 0.9782 - val_loss: 0.0847 - val_accuracy: 0.9753\n",
      "Epoch 5/200\n",
      "655/655 [==============================] - 1s 2ms/step - loss: 0.0690 - accuracy: 0.9757 - val_loss: 0.0934 - val_accuracy: 0.9643\n",
      "Epoch 6/200\n",
      "655/655 [==============================] - 1s 2ms/step - loss: 0.0449 - accuracy: 0.9823 - val_loss: 0.0517 - val_accuracy: 0.9780\n",
      "Epoch 7/200\n",
      "655/655 [==============================] - 1s 2ms/step - loss: 0.0299 - accuracy: 0.9878 - val_loss: 0.0374 - val_accuracy: 0.9890\n",
      "Epoch 8/200\n",
      "655/655 [==============================] - 1s 2ms/step - loss: 0.0340 - accuracy: 0.9875 - val_loss: 0.0713 - val_accuracy: 0.9712\n",
      "Epoch 9/200\n",
      "655/655 [==============================] - 1s 2ms/step - loss: 0.0779 - accuracy: 0.9797 - val_loss: 0.0572 - val_accuracy: 0.9808\n",
      "Epoch 10/200\n",
      "655/655 [==============================] - 1s 2ms/step - loss: 0.0334 - accuracy: 0.9856 - val_loss: 0.0469 - val_accuracy: 0.9876\n",
      "Epoch 11/200\n",
      "655/655 [==============================] - 1s 2ms/step - loss: 0.0272 - accuracy: 0.9924 - val_loss: 0.0440 - val_accuracy: 0.9808\n",
      "Epoch 12/200\n",
      "655/655 [==============================] - 1s 2ms/step - loss: 0.0151 - accuracy: 0.9939 - val_loss: 0.0440 - val_accuracy: 0.9821\n",
      "Epoch 13/200\n",
      "655/655 [==============================] - 1s 2ms/step - loss: 0.0239 - accuracy: 0.9919 - val_loss: 0.0362 - val_accuracy: 0.9849\n",
      "Epoch 14/200\n",
      "655/655 [==============================] - 1s 2ms/step - loss: 0.0151 - accuracy: 0.9945 - val_loss: 0.0398 - val_accuracy: 0.9904\n",
      "Epoch 15/200\n",
      "655/655 [==============================] - 1s 2ms/step - loss: 0.0369 - accuracy: 0.9911 - val_loss: 0.0993 - val_accuracy: 0.9780\n",
      "Epoch 16/200\n",
      "655/655 [==============================] - 1s 2ms/step - loss: 0.0413 - accuracy: 0.9892 - val_loss: 0.0423 - val_accuracy: 0.9835\n",
      "Epoch 17/200\n",
      "655/655 [==============================] - 1s 2ms/step - loss: 0.0129 - accuracy: 0.9953 - val_loss: 0.0613 - val_accuracy: 0.9794\n",
      "Epoch 18/200\n",
      "655/655 [==============================] - 1s 2ms/step - loss: 0.0117 - accuracy: 0.9959 - val_loss: 0.0352 - val_accuracy: 0.9890\n",
      "Epoch 19/200\n",
      "655/655 [==============================] - 1s 2ms/step - loss: 0.0113 - accuracy: 0.9962 - val_loss: 0.0432 - val_accuracy: 0.9904\n",
      "Epoch 20/200\n",
      "655/655 [==============================] - 1s 2ms/step - loss: 0.0290 - accuracy: 0.9936 - val_loss: 0.3204 - val_accuracy: 0.9464\n",
      "Epoch 21/200\n",
      "655/655 [==============================] - 1s 2ms/step - loss: 0.0427 - accuracy: 0.9896 - val_loss: 0.0638 - val_accuracy: 0.9808\n",
      "Epoch 22/200\n",
      "655/655 [==============================] - 1s 2ms/step - loss: 0.0077 - accuracy: 0.9979 - val_loss: 0.0702 - val_accuracy: 0.9808\n",
      "Epoch 23/200\n",
      "655/655 [==============================] - 1s 2ms/step - loss: 9.3087e-04 - accuracy: 1.0000 - val_loss: 0.0556 - val_accuracy: 0.9849\n",
      "Epoch 24/200\n",
      "655/655 [==============================] - 1s 2ms/step - loss: 2.3253e-04 - accuracy: 1.0000 - val_loss: 0.0560 - val_accuracy: 0.9863\n",
      "Epoch 25/200\n",
      "655/655 [==============================] - 1s 2ms/step - loss: 0.0363 - accuracy: 0.9916 - val_loss: 0.0796 - val_accuracy: 0.9780\n",
      "Epoch 26/200\n",
      "655/655 [==============================] - 1s 2ms/step - loss: 0.0227 - accuracy: 0.9925 - val_loss: 0.0573 - val_accuracy: 0.9863\n",
      "Epoch 27/200\n",
      "655/655 [==============================] - 1s 2ms/step - loss: 0.0043 - accuracy: 0.9986 - val_loss: 0.0630 - val_accuracy: 0.9876\n",
      "Epoch 28/200\n",
      "655/655 [==============================] - 1s 2ms/step - loss: 0.0104 - accuracy: 0.9963 - val_loss: 0.0246 - val_accuracy: 0.9918\n",
      "Epoch 29/200\n",
      "655/655 [==============================] - 1s 2ms/step - loss: 0.0055 - accuracy: 0.9980 - val_loss: 0.0815 - val_accuracy: 0.9739\n",
      "Epoch 30/200\n",
      "655/655 [==============================] - 1s 2ms/step - loss: 0.0058 - accuracy: 0.9980 - val_loss: 0.0617 - val_accuracy: 0.9835\n",
      "Epoch 31/200\n",
      "655/655 [==============================] - 1s 2ms/step - loss: 0.0537 - accuracy: 0.9915 - val_loss: 0.1395 - val_accuracy: 0.9615\n",
      "Epoch 32/200\n",
      "655/655 [==============================] - 1s 2ms/step - loss: 0.0123 - accuracy: 0.9960 - val_loss: 0.0435 - val_accuracy: 0.9890\n",
      "Epoch 33/200\n",
      "655/655 [==============================] - 1s 2ms/step - loss: 0.0026 - accuracy: 0.9995 - val_loss: 0.0597 - val_accuracy: 0.9780\n",
      "Epoch 34/200\n",
      "655/655 [==============================] - 1s 2ms/step - loss: 0.0248 - accuracy: 0.9921 - val_loss: 0.0491 - val_accuracy: 0.9890\n",
      "Epoch 35/200\n",
      "655/655 [==============================] - 1s 2ms/step - loss: 0.0035 - accuracy: 0.9986 - val_loss: 0.0497 - val_accuracy: 0.9876\n",
      "Epoch 36/200\n",
      "655/655 [==============================] - 1s 2ms/step - loss: 0.0025 - accuracy: 0.9994 - val_loss: 0.0749 - val_accuracy: 0.9835\n",
      "Epoch 37/200\n",
      "655/655 [==============================] - 1s 2ms/step - loss: 0.0029 - accuracy: 0.9991 - val_loss: 0.0585 - val_accuracy: 0.9890\n",
      "Epoch 38/200\n",
      "655/655 [==============================] - 1s 2ms/step - loss: 0.0444 - accuracy: 0.9904 - val_loss: 0.1146 - val_accuracy: 0.9849\n",
      "Epoch 39/200\n",
      "655/655 [==============================] - 1s 2ms/step - loss: 0.0144 - accuracy: 0.9963 - val_loss: 0.0732 - val_accuracy: 0.9835\n",
      "Epoch 40/200\n",
      "655/655 [==============================] - 1s 2ms/step - loss: 0.0040 - accuracy: 0.9985 - val_loss: 0.0652 - val_accuracy: 0.9849\n",
      "Epoch 41/200\n",
      "655/655 [==============================] - 1s 2ms/step - loss: 4.0103e-04 - accuracy: 1.0000 - val_loss: 0.0546 - val_accuracy: 0.9863\n",
      "Epoch 42/200\n",
      "655/655 [==============================] - 1s 2ms/step - loss: 4.8308e-05 - accuracy: 1.0000 - val_loss: 0.0542 - val_accuracy: 0.9876\n",
      "Epoch 43/200\n",
      "655/655 [==============================] - 1s 2ms/step - loss: 2.6330e-05 - accuracy: 1.0000 - val_loss: 0.0540 - val_accuracy: 0.9876\n",
      "Epoch 44/200\n",
      "655/655 [==============================] - 1s 2ms/step - loss: 1.7404e-05 - accuracy: 1.0000 - val_loss: 0.0549 - val_accuracy: 0.9876\n",
      "Epoch 45/200\n",
      "655/655 [==============================] - 1s 2ms/step - loss: 1.0866e-05 - accuracy: 1.0000 - val_loss: 0.0553 - val_accuracy: 0.9876\n",
      "Epoch 46/200\n",
      "655/655 [==============================] - 1s 2ms/step - loss: 7.3311e-06 - accuracy: 1.0000 - val_loss: 0.0553 - val_accuracy: 0.9890\n",
      "Epoch 47/200\n",
      "655/655 [==============================] - 1s 2ms/step - loss: 5.2225e-06 - accuracy: 1.0000 - val_loss: 0.0573 - val_accuracy: 0.9890\n",
      "Epoch 48/200\n",
      "655/655 [==============================] - 1s 2ms/step - loss: 3.4598e-06 - accuracy: 1.0000 - val_loss: 0.0582 - val_accuracy: 0.9890\n",
      "Epoch 49/200\n",
      "655/655 [==============================] - 1s 2ms/step - loss: 2.5249e-06 - accuracy: 1.0000 - val_loss: 0.0602 - val_accuracy: 0.9890\n",
      "Epoch 50/200\n",
      "655/655 [==============================] - 1s 2ms/step - loss: 1.6905e-06 - accuracy: 1.0000 - val_loss: 0.0604 - val_accuracy: 0.9890\n",
      "Epoch 51/200\n",
      "655/655 [==============================] - 1s 2ms/step - loss: 1.1848e-06 - accuracy: 1.0000 - val_loss: 0.0625 - val_accuracy: 0.9890\n",
      "Epoch 52/200\n",
      "655/655 [==============================] - 1s 2ms/step - loss: 8.3178e-07 - accuracy: 1.0000 - val_loss: 0.0652 - val_accuracy: 0.9904\n",
      "Epoch 53/200\n",
      "655/655 [==============================] - 1s 2ms/step - loss: 6.3941e-07 - accuracy: 1.0000 - val_loss: 0.0665 - val_accuracy: 0.9904\n",
      "Epoch 54/200\n",
      "655/655 [==============================] - 1s 2ms/step - loss: 4.4041e-07 - accuracy: 1.0000 - val_loss: 0.0684 - val_accuracy: 0.9904\n",
      "Epoch 55/200\n",
      "655/655 [==============================] - 1s 2ms/step - loss: 3.1352e-07 - accuracy: 1.0000 - val_loss: 0.0701 - val_accuracy: 0.9904\n",
      "Epoch 56/200\n",
      "655/655 [==============================] - 1s 2ms/step - loss: 2.1741e-07 - accuracy: 1.0000 - val_loss: 0.0703 - val_accuracy: 0.9904\n",
      "Epoch 57/200\n"
     ]
    },
    {
     "name": "stdout",
     "output_type": "stream",
     "text": [
      "655/655 [==============================] - 1s 2ms/step - loss: 1.5419e-07 - accuracy: 1.0000 - val_loss: 0.0731 - val_accuracy: 0.9904\n",
      "Epoch 58/200\n",
      "655/655 [==============================] - 1s 2ms/step - loss: 1.1138e-07 - accuracy: 1.0000 - val_loss: 0.0722 - val_accuracy: 0.9904\n",
      "Epoch 59/200\n",
      "655/655 [==============================] - 1s 2ms/step - loss: 7.7349e-08 - accuracy: 1.0000 - val_loss: 0.0741 - val_accuracy: 0.9904\n",
      "Epoch 60/200\n",
      "655/655 [==============================] - 1s 2ms/step - loss: 5.6074e-08 - accuracy: 1.0000 - val_loss: 0.0758 - val_accuracy: 0.9918\n",
      "Epoch 61/200\n",
      "655/655 [==============================] - 1s 2ms/step - loss: 3.9785e-08 - accuracy: 1.0000 - val_loss: 0.0769 - val_accuracy: 0.9904\n",
      "Epoch 62/200\n",
      "655/655 [==============================] - 1s 2ms/step - loss: 2.7828e-08 - accuracy: 1.0000 - val_loss: 0.0782 - val_accuracy: 0.9890\n",
      "Epoch 63/200\n",
      "655/655 [==============================] - 1s 2ms/step - loss: 2.0475e-08 - accuracy: 1.0000 - val_loss: 0.0806 - val_accuracy: 0.9904\n",
      "Epoch 64/200\n",
      "655/655 [==============================] - 1s 2ms/step - loss: 1.4342e-08 - accuracy: 1.0000 - val_loss: 0.0814 - val_accuracy: 0.9904\n",
      "Epoch 65/200\n",
      "655/655 [==============================] - 1s 2ms/step - loss: 1.0702e-08 - accuracy: 1.0000 - val_loss: 0.0828 - val_accuracy: 0.9890\n",
      "Epoch 66/200\n",
      "655/655 [==============================] - 1s 2ms/step - loss: 7.4620e-09 - accuracy: 1.0000 - val_loss: 0.0844 - val_accuracy: 0.9904\n",
      "Epoch 67/200\n",
      "655/655 [==============================] - 1s 2ms/step - loss: 5.2780e-09 - accuracy: 1.0000 - val_loss: 0.0859 - val_accuracy: 0.9890\n",
      "Epoch 68/200\n",
      "655/655 [==============================] - 1s 2ms/step - loss: 4.0768e-09 - accuracy: 1.0000 - val_loss: 0.0867 - val_accuracy: 0.9904\n",
      "Epoch 69/200\n",
      "655/655 [==============================] - 1s 2ms/step - loss: 3.1486e-09 - accuracy: 1.0000 - val_loss: 0.0888 - val_accuracy: 0.9904\n",
      "Epoch 70/200\n",
      "655/655 [==============================] - 1s 2ms/step - loss: 2.1476e-09 - accuracy: 1.0000 - val_loss: 0.0898 - val_accuracy: 0.9904\n",
      "Epoch 71/200\n",
      "655/655 [==============================] - 1s 2ms/step - loss: 1.4924e-09 - accuracy: 1.0000 - val_loss: 0.0911 - val_accuracy: 0.9904\n",
      "Epoch 72/200\n",
      "655/655 [==============================] - 1s 2ms/step - loss: 1.0738e-09 - accuracy: 1.0000 - val_loss: 0.0913 - val_accuracy: 0.9904\n",
      "Epoch 73/200\n",
      "655/655 [==============================] - 1s 2ms/step - loss: 7.0980e-10 - accuracy: 1.0000 - val_loss: 0.0925 - val_accuracy: 0.9904\n",
      "Epoch 74/200\n",
      "655/655 [==============================] - 1s 2ms/step - loss: 5.0960e-10 - accuracy: 1.0000 - val_loss: 0.0942 - val_accuracy: 0.9904\n",
      "Epoch 75/200\n",
      "655/655 [==============================] - 1s 2ms/step - loss: 4.3680e-10 - accuracy: 1.0000 - val_loss: 0.0954 - val_accuracy: 0.9904\n",
      "Epoch 76/200\n",
      "655/655 [==============================] - 1s 2ms/step - loss: 2.5480e-10 - accuracy: 1.0000 - val_loss: 0.0967 - val_accuracy: 0.9904\n",
      "Epoch 77/200\n",
      "655/655 [==============================] - 1s 2ms/step - loss: 1.4560e-10 - accuracy: 1.0000 - val_loss: 0.0975 - val_accuracy: 0.9890\n",
      "Epoch 78/200\n",
      "655/655 [==============================] - 1s 2ms/step - loss: 1.0920e-10 - accuracy: 1.0000 - val_loss: 0.0987 - val_accuracy: 0.9890\n",
      "Epoch 79/200\n",
      "655/655 [==============================] - 1s 2ms/step - loss: 5.4600e-11 - accuracy: 1.0000 - val_loss: 0.0987 - val_accuracy: 0.9904\n",
      "Epoch 80/200\n",
      "655/655 [==============================] - 1s 2ms/step - loss: 1.8200e-11 - accuracy: 1.0000 - val_loss: 0.0998 - val_accuracy: 0.9904\n",
      "Epoch 81/200\n",
      "655/655 [==============================] - 1s 2ms/step - loss: 1.8200e-11 - accuracy: 1.0000 - val_loss: 0.1006 - val_accuracy: 0.9904\n",
      "Epoch 82/200\n",
      "655/655 [==============================] - 1s 2ms/step - loss: 1.8200e-11 - accuracy: 1.0000 - val_loss: 0.1013 - val_accuracy: 0.9904\n",
      "Epoch 83/200\n",
      "655/655 [==============================] - 1s 2ms/step - loss: 1.8200e-11 - accuracy: 1.0000 - val_loss: 0.1020 - val_accuracy: 0.9904\n",
      "Epoch 84/200\n",
      "655/655 [==============================] - 1s 2ms/step - loss: 0.0000e+00 - accuracy: 1.0000 - val_loss: 0.1025 - val_accuracy: 0.9904\n",
      "Epoch 85/200\n",
      "655/655 [==============================] - 1s 2ms/step - loss: 0.0000e+00 - accuracy: 1.0000 - val_loss: 0.1029 - val_accuracy: 0.9904\n",
      "Epoch 86/200\n",
      "655/655 [==============================] - 1s 2ms/step - loss: 0.0000e+00 - accuracy: 1.0000 - val_loss: 0.1033 - val_accuracy: 0.9904\n",
      "Epoch 87/200\n",
      "655/655 [==============================] - 1s 2ms/step - loss: 0.0000e+00 - accuracy: 1.0000 - val_loss: 0.1037 - val_accuracy: 0.9904\n",
      "Epoch 88/200\n",
      "655/655 [==============================] - 1s 2ms/step - loss: 0.0000e+00 - accuracy: 1.0000 - val_loss: 0.1041 - val_accuracy: 0.9904\n",
      "Epoch 89/200\n",
      "655/655 [==============================] - 1s 2ms/step - loss: 0.0000e+00 - accuracy: 1.0000 - val_loss: 0.1045 - val_accuracy: 0.9904\n",
      "Epoch 90/200\n",
      "655/655 [==============================] - 1s 2ms/step - loss: 0.0000e+00 - accuracy: 1.0000 - val_loss: 0.1048 - val_accuracy: 0.9904\n",
      "Epoch 91/200\n",
      "655/655 [==============================] - 1s 2ms/step - loss: 0.0000e+00 - accuracy: 1.0000 - val_loss: 0.1052 - val_accuracy: 0.9904\n",
      "Epoch 92/200\n",
      "655/655 [==============================] - 1s 2ms/step - loss: 0.0000e+00 - accuracy: 1.0000 - val_loss: 0.1056 - val_accuracy: 0.9904\n",
      "Epoch 93/200\n",
      "655/655 [==============================] - 1s 2ms/step - loss: 0.0000e+00 - accuracy: 1.0000 - val_loss: 0.1058 - val_accuracy: 0.9904\n",
      "Epoch 94/200\n",
      "655/655 [==============================] - 1s 2ms/step - loss: 0.0000e+00 - accuracy: 1.0000 - val_loss: 0.1062 - val_accuracy: 0.9904\n",
      "Epoch 95/200\n",
      "655/655 [==============================] - 1s 2ms/step - loss: 0.0000e+00 - accuracy: 1.0000 - val_loss: 0.1064 - val_accuracy: 0.9904\n",
      "Epoch 96/200\n",
      "655/655 [==============================] - 1s 2ms/step - loss: 0.0000e+00 - accuracy: 1.0000 - val_loss: 0.1066 - val_accuracy: 0.9904\n",
      "Epoch 97/200\n",
      "655/655 [==============================] - 1s 2ms/step - loss: 0.0000e+00 - accuracy: 1.0000 - val_loss: 0.1068 - val_accuracy: 0.9904\n",
      "Epoch 98/200\n",
      "655/655 [==============================] - 1s 2ms/step - loss: 0.0000e+00 - accuracy: 1.0000 - val_loss: 0.1070 - val_accuracy: 0.9904\n",
      "Epoch 99/200\n",
      "655/655 [==============================] - 1s 2ms/step - loss: 0.0000e+00 - accuracy: 1.0000 - val_loss: 0.1072 - val_accuracy: 0.9904\n",
      "Epoch 100/200\n",
      "655/655 [==============================] - 1s 2ms/step - loss: 0.0000e+00 - accuracy: 1.0000 - val_loss: 0.1074 - val_accuracy: 0.9904\n",
      "Epoch 101/200\n",
      "655/655 [==============================] - 1s 2ms/step - loss: 0.0000e+00 - accuracy: 1.0000 - val_loss: 0.1075 - val_accuracy: 0.9904\n",
      "Epoch 102/200\n",
      "655/655 [==============================] - 1s 2ms/step - loss: 0.0000e+00 - accuracy: 1.0000 - val_loss: 0.1078 - val_accuracy: 0.9904\n",
      "Epoch 103/200\n",
      "655/655 [==============================] - 1s 2ms/step - loss: 0.0000e+00 - accuracy: 1.0000 - val_loss: 0.1080 - val_accuracy: 0.9904\n",
      "Epoch 104/200\n",
      "655/655 [==============================] - 1s 2ms/step - loss: 0.0000e+00 - accuracy: 1.0000 - val_loss: 0.1082 - val_accuracy: 0.9904\n",
      "Epoch 105/200\n",
      "655/655 [==============================] - 1s 2ms/step - loss: 0.0000e+00 - accuracy: 1.0000 - val_loss: 0.1084 - val_accuracy: 0.9904\n",
      "Epoch 106/200\n",
      "655/655 [==============================] - 1s 2ms/step - loss: 0.0000e+00 - accuracy: 1.0000 - val_loss: 0.1085 - val_accuracy: 0.9904\n",
      "Epoch 107/200\n",
      "655/655 [==============================] - 1s 2ms/step - loss: 0.0000e+00 - accuracy: 1.0000 - val_loss: 0.1088 - val_accuracy: 0.9904\n",
      "Epoch 108/200\n",
      "655/655 [==============================] - 1s 2ms/step - loss: 0.0000e+00 - accuracy: 1.0000 - val_loss: 0.1090 - val_accuracy: 0.9904\n",
      "Epoch 109/200\n",
      "655/655 [==============================] - 1s 2ms/step - loss: 0.0000e+00 - accuracy: 1.0000 - val_loss: 0.1092 - val_accuracy: 0.9904\n",
      "Epoch 110/200\n",
      "655/655 [==============================] - 1s 2ms/step - loss: 0.0000e+00 - accuracy: 1.0000 - val_loss: 0.1094 - val_accuracy: 0.9904\n",
      "Epoch 111/200\n",
      "655/655 [==============================] - 1s 2ms/step - loss: 0.0000e+00 - accuracy: 1.0000 - val_loss: 0.1095 - val_accuracy: 0.9904\n",
      "Epoch 112/200\n"
     ]
    },
    {
     "name": "stdout",
     "output_type": "stream",
     "text": [
      "655/655 [==============================] - 1s 2ms/step - loss: 0.0000e+00 - accuracy: 1.0000 - val_loss: 0.1097 - val_accuracy: 0.9904\n",
      "Epoch 113/200\n",
      "655/655 [==============================] - 1s 2ms/step - loss: 0.0000e+00 - accuracy: 1.0000 - val_loss: 0.1099 - val_accuracy: 0.9904\n",
      "Epoch 114/200\n",
      "655/655 [==============================] - 1s 2ms/step - loss: 0.0000e+00 - accuracy: 1.0000 - val_loss: 0.1101 - val_accuracy: 0.9904\n",
      "Epoch 115/200\n",
      "655/655 [==============================] - 1s 2ms/step - loss: 0.0000e+00 - accuracy: 1.0000 - val_loss: 0.1102 - val_accuracy: 0.9904\n",
      "Epoch 116/200\n",
      "655/655 [==============================] - 1s 2ms/step - loss: 0.0000e+00 - accuracy: 1.0000 - val_loss: 0.1103 - val_accuracy: 0.9904\n",
      "Epoch 117/200\n",
      "655/655 [==============================] - 1s 2ms/step - loss: 0.0000e+00 - accuracy: 1.0000 - val_loss: 0.1105 - val_accuracy: 0.9904\n",
      "Epoch 118/200\n",
      "655/655 [==============================] - 1s 2ms/step - loss: 0.0000e+00 - accuracy: 1.0000 - val_loss: 0.1106 - val_accuracy: 0.9904\n",
      "Epoch 119/200\n",
      "655/655 [==============================] - 1s 2ms/step - loss: 0.0000e+00 - accuracy: 1.0000 - val_loss: 0.1107 - val_accuracy: 0.9904\n",
      "Epoch 120/200\n",
      "655/655 [==============================] - 1s 2ms/step - loss: 0.0000e+00 - accuracy: 1.0000 - val_loss: 0.1109 - val_accuracy: 0.9904\n",
      "Epoch 121/200\n",
      "655/655 [==============================] - 1s 2ms/step - loss: 0.0000e+00 - accuracy: 1.0000 - val_loss: 0.1111 - val_accuracy: 0.9904\n",
      "Epoch 122/200\n",
      "655/655 [==============================] - 1s 2ms/step - loss: 0.0000e+00 - accuracy: 1.0000 - val_loss: 0.1112 - val_accuracy: 0.9904\n",
      "Epoch 123/200\n",
      "655/655 [==============================] - 1s 2ms/step - loss: 0.0000e+00 - accuracy: 1.0000 - val_loss: 0.1113 - val_accuracy: 0.9904\n",
      "Epoch 124/200\n",
      "655/655 [==============================] - 1s 2ms/step - loss: 0.0000e+00 - accuracy: 1.0000 - val_loss: 0.1115 - val_accuracy: 0.9904\n",
      "Epoch 125/200\n",
      "655/655 [==============================] - 1s 2ms/step - loss: 0.0000e+00 - accuracy: 1.0000 - val_loss: 0.1117 - val_accuracy: 0.9904\n",
      "Epoch 126/200\n",
      "655/655 [==============================] - 1s 2ms/step - loss: 0.0000e+00 - accuracy: 1.0000 - val_loss: 0.1118 - val_accuracy: 0.9904\n",
      "Epoch 127/200\n",
      "655/655 [==============================] - 1s 2ms/step - loss: 0.0000e+00 - accuracy: 1.0000 - val_loss: 0.1119 - val_accuracy: 0.9904\n",
      "Epoch 128/200\n",
      "655/655 [==============================] - 1s 2ms/step - loss: 0.0000e+00 - accuracy: 1.0000 - val_loss: 0.1121 - val_accuracy: 0.9904\n",
      "Epoch 129/200\n",
      "655/655 [==============================] - 1s 2ms/step - loss: 0.0000e+00 - accuracy: 1.0000 - val_loss: 0.1122 - val_accuracy: 0.9904\n",
      "Epoch 130/200\n",
      "655/655 [==============================] - 1s 2ms/step - loss: 0.0000e+00 - accuracy: 1.0000 - val_loss: 0.1124 - val_accuracy: 0.9904\n",
      "Epoch 131/200\n",
      "655/655 [==============================] - 1s 2ms/step - loss: 0.0000e+00 - accuracy: 1.0000 - val_loss: 0.1125 - val_accuracy: 0.9904\n",
      "Epoch 132/200\n",
      "655/655 [==============================] - 1s 2ms/step - loss: 0.0000e+00 - accuracy: 1.0000 - val_loss: 0.1126 - val_accuracy: 0.9904\n",
      "Epoch 133/200\n",
      "655/655 [==============================] - 1s 2ms/step - loss: 0.0000e+00 - accuracy: 1.0000 - val_loss: 0.1127 - val_accuracy: 0.9904\n",
      "Epoch 134/200\n",
      "655/655 [==============================] - 1s 2ms/step - loss: 0.0000e+00 - accuracy: 1.0000 - val_loss: 0.1128 - val_accuracy: 0.9904\n",
      "Epoch 135/200\n",
      "655/655 [==============================] - 1s 2ms/step - loss: 0.0000e+00 - accuracy: 1.0000 - val_loss: 0.1130 - val_accuracy: 0.9904\n",
      "Epoch 136/200\n",
      "655/655 [==============================] - 1s 2ms/step - loss: 0.0000e+00 - accuracy: 1.0000 - val_loss: 0.1131 - val_accuracy: 0.9904\n",
      "Epoch 137/200\n",
      "655/655 [==============================] - 1s 2ms/step - loss: 0.0000e+00 - accuracy: 1.0000 - val_loss: 0.1132 - val_accuracy: 0.9904\n",
      "Epoch 138/200\n",
      "655/655 [==============================] - 1s 2ms/step - loss: 0.0000e+00 - accuracy: 1.0000 - val_loss: 0.1133 - val_accuracy: 0.9904\n",
      "Epoch 139/200\n",
      "655/655 [==============================] - 1s 2ms/step - loss: 0.0000e+00 - accuracy: 1.0000 - val_loss: 0.1134 - val_accuracy: 0.9904\n",
      "Epoch 140/200\n",
      "655/655 [==============================] - 1s 2ms/step - loss: 0.0000e+00 - accuracy: 1.0000 - val_loss: 0.1136 - val_accuracy: 0.9904\n",
      "Epoch 141/200\n",
      "655/655 [==============================] - 1s 2ms/step - loss: 0.0000e+00 - accuracy: 1.0000 - val_loss: 0.1137 - val_accuracy: 0.9904\n",
      "Epoch 142/200\n",
      "655/655 [==============================] - 1s 2ms/step - loss: 0.0000e+00 - accuracy: 1.0000 - val_loss: 0.1138 - val_accuracy: 0.9904\n",
      "Epoch 143/200\n",
      "655/655 [==============================] - 1s 2ms/step - loss: 0.0000e+00 - accuracy: 1.0000 - val_loss: 0.1139 - val_accuracy: 0.9904\n",
      "Epoch 144/200\n",
      "655/655 [==============================] - 1s 2ms/step - loss: 0.0000e+00 - accuracy: 1.0000 - val_loss: 0.1140 - val_accuracy: 0.9904\n",
      "Epoch 145/200\n",
      "655/655 [==============================] - 1s 2ms/step - loss: 0.0000e+00 - accuracy: 1.0000 - val_loss: 0.1141 - val_accuracy: 0.9904\n",
      "Epoch 146/200\n",
      "655/655 [==============================] - 1s 2ms/step - loss: 0.0000e+00 - accuracy: 1.0000 - val_loss: 0.1142 - val_accuracy: 0.9904\n",
      "Epoch 147/200\n",
      "655/655 [==============================] - 1s 2ms/step - loss: 0.0000e+00 - accuracy: 1.0000 - val_loss: 0.1143 - val_accuracy: 0.9904\n",
      "Epoch 148/200\n",
      "655/655 [==============================] - 1s 2ms/step - loss: 0.0000e+00 - accuracy: 1.0000 - val_loss: 0.1144 - val_accuracy: 0.9904\n",
      "Epoch 149/200\n",
      "655/655 [==============================] - 1s 2ms/step - loss: 0.0000e+00 - accuracy: 1.0000 - val_loss: 0.1145 - val_accuracy: 0.9904\n",
      "Epoch 150/200\n",
      "655/655 [==============================] - 1s 2ms/step - loss: 0.0000e+00 - accuracy: 1.0000 - val_loss: 0.1146 - val_accuracy: 0.9904\n",
      "Epoch 151/200\n",
      "655/655 [==============================] - 1s 2ms/step - loss: 0.0000e+00 - accuracy: 1.0000 - val_loss: 0.1147 - val_accuracy: 0.9904\n",
      "Epoch 152/200\n",
      "655/655 [==============================] - 1s 2ms/step - loss: 0.0000e+00 - accuracy: 1.0000 - val_loss: 0.1149 - val_accuracy: 0.9904\n",
      "Epoch 153/200\n",
      "655/655 [==============================] - 1s 2ms/step - loss: 0.0000e+00 - accuracy: 1.0000 - val_loss: 0.1149 - val_accuracy: 0.9904\n",
      "Epoch 154/200\n",
      "655/655 [==============================] - 1s 2ms/step - loss: 0.0000e+00 - accuracy: 1.0000 - val_loss: 0.1150 - val_accuracy: 0.9904\n",
      "Epoch 155/200\n",
      "655/655 [==============================] - 1s 2ms/step - loss: 0.0000e+00 - accuracy: 1.0000 - val_loss: 0.1151 - val_accuracy: 0.9904\n",
      "Epoch 156/200\n",
      "655/655 [==============================] - 1s 2ms/step - loss: 0.0000e+00 - accuracy: 1.0000 - val_loss: 0.1152 - val_accuracy: 0.9904\n",
      "Epoch 157/200\n",
      "655/655 [==============================] - 1s 2ms/step - loss: 0.0000e+00 - accuracy: 1.0000 - val_loss: 0.1153 - val_accuracy: 0.9904\n",
      "Epoch 158/200\n",
      "655/655 [==============================] - 1s 2ms/step - loss: 0.0000e+00 - accuracy: 1.0000 - val_loss: 0.1154 - val_accuracy: 0.9904\n",
      "Epoch 159/200\n",
      "655/655 [==============================] - 1s 2ms/step - loss: 0.0000e+00 - accuracy: 1.0000 - val_loss: 0.1155 - val_accuracy: 0.9904\n",
      "Epoch 160/200\n",
      "655/655 [==============================] - 1s 2ms/step - loss: 0.0000e+00 - accuracy: 1.0000 - val_loss: 0.1156 - val_accuracy: 0.9904\n",
      "Epoch 161/200\n",
      "655/655 [==============================] - 1s 2ms/step - loss: 0.0000e+00 - accuracy: 1.0000 - val_loss: 0.1156 - val_accuracy: 0.9904\n",
      "Epoch 162/200\n",
      "655/655 [==============================] - 1s 2ms/step - loss: 0.0000e+00 - accuracy: 1.0000 - val_loss: 0.1157 - val_accuracy: 0.9904\n",
      "Epoch 163/200\n",
      "655/655 [==============================] - 1s 2ms/step - loss: 0.0000e+00 - accuracy: 1.0000 - val_loss: 0.1158 - val_accuracy: 0.9904\n",
      "Epoch 164/200\n",
      "655/655 [==============================] - 1s 2ms/step - loss: 0.0000e+00 - accuracy: 1.0000 - val_loss: 0.1159 - val_accuracy: 0.9904\n",
      "Epoch 165/200\n",
      "655/655 [==============================] - 1s 2ms/step - loss: 0.0000e+00 - accuracy: 1.0000 - val_loss: 0.1160 - val_accuracy: 0.9904\n",
      "Epoch 166/200\n",
      "655/655 [==============================] - 1s 2ms/step - loss: 0.0000e+00 - accuracy: 1.0000 - val_loss: 0.1161 - val_accuracy: 0.9904\n",
      "Epoch 167/200\n"
     ]
    },
    {
     "name": "stdout",
     "output_type": "stream",
     "text": [
      "655/655 [==============================] - 1s 2ms/step - loss: 0.0000e+00 - accuracy: 1.0000 - val_loss: 0.1161 - val_accuracy: 0.9904\n",
      "Epoch 168/200\n",
      "655/655 [==============================] - 1s 2ms/step - loss: 0.0000e+00 - accuracy: 1.0000 - val_loss: 0.1162 - val_accuracy: 0.9904\n",
      "Epoch 169/200\n",
      "655/655 [==============================] - 1s 2ms/step - loss: 0.0000e+00 - accuracy: 1.0000 - val_loss: 0.1163 - val_accuracy: 0.9904\n",
      "Epoch 170/200\n",
      "655/655 [==============================] - 1s 2ms/step - loss: 0.0000e+00 - accuracy: 1.0000 - val_loss: 0.1164 - val_accuracy: 0.9904\n",
      "Epoch 171/200\n",
      "655/655 [==============================] - 1s 2ms/step - loss: 0.0000e+00 - accuracy: 1.0000 - val_loss: 0.1165 - val_accuracy: 0.9904\n",
      "Epoch 172/200\n",
      "655/655 [==============================] - 1s 2ms/step - loss: 0.0000e+00 - accuracy: 1.0000 - val_loss: 0.1165 - val_accuracy: 0.9904\n",
      "Epoch 173/200\n",
      "655/655 [==============================] - 2s 2ms/step - loss: 0.0000e+00 - accuracy: 1.0000 - val_loss: 0.1166 - val_accuracy: 0.9904\n",
      "Epoch 174/200\n",
      "655/655 [==============================] - 1s 2ms/step - loss: 0.0000e+00 - accuracy: 1.0000 - val_loss: 0.1167 - val_accuracy: 0.9904\n",
      "Epoch 175/200\n",
      "655/655 [==============================] - 1s 2ms/step - loss: 0.0000e+00 - accuracy: 1.0000 - val_loss: 0.1168 - val_accuracy: 0.9904\n",
      "Epoch 176/200\n",
      "655/655 [==============================] - 1s 2ms/step - loss: 0.0000e+00 - accuracy: 1.0000 - val_loss: 0.1168 - val_accuracy: 0.9904\n",
      "Epoch 177/200\n",
      "655/655 [==============================] - 1s 2ms/step - loss: 0.0000e+00 - accuracy: 1.0000 - val_loss: 0.1169 - val_accuracy: 0.9904\n",
      "Epoch 178/200\n",
      "655/655 [==============================] - 1s 2ms/step - loss: 0.0000e+00 - accuracy: 1.0000 - val_loss: 0.1170 - val_accuracy: 0.9904\n",
      "Epoch 179/200\n",
      "655/655 [==============================] - 1s 2ms/step - loss: 0.0000e+00 - accuracy: 1.0000 - val_loss: 0.1171 - val_accuracy: 0.9904\n",
      "Epoch 180/200\n",
      "655/655 [==============================] - 1s 2ms/step - loss: 0.0000e+00 - accuracy: 1.0000 - val_loss: 0.1172 - val_accuracy: 0.9904\n",
      "Epoch 181/200\n",
      "655/655 [==============================] - 1s 2ms/step - loss: 0.0000e+00 - accuracy: 1.0000 - val_loss: 0.1172 - val_accuracy: 0.9904\n",
      "Epoch 182/200\n",
      "655/655 [==============================] - 1s 2ms/step - loss: 0.0000e+00 - accuracy: 1.0000 - val_loss: 0.1173 - val_accuracy: 0.9904\n",
      "Epoch 183/200\n",
      "655/655 [==============================] - 1s 2ms/step - loss: 0.0000e+00 - accuracy: 1.0000 - val_loss: 0.1174 - val_accuracy: 0.9904\n",
      "Epoch 184/200\n",
      "655/655 [==============================] - 1s 2ms/step - loss: 0.0000e+00 - accuracy: 1.0000 - val_loss: 0.1175 - val_accuracy: 0.9904\n",
      "Epoch 185/200\n",
      "655/655 [==============================] - 2s 2ms/step - loss: 0.0000e+00 - accuracy: 1.0000 - val_loss: 0.1175 - val_accuracy: 0.9904\n",
      "Epoch 186/200\n",
      "655/655 [==============================] - 1s 2ms/step - loss: 0.0000e+00 - accuracy: 1.0000 - val_loss: 0.1176 - val_accuracy: 0.9904\n",
      "Epoch 187/200\n",
      "655/655 [==============================] - 1s 2ms/step - loss: 0.0000e+00 - accuracy: 1.0000 - val_loss: 0.1177 - val_accuracy: 0.9904\n",
      "Epoch 188/200\n",
      "655/655 [==============================] - 1s 2ms/step - loss: 0.0000e+00 - accuracy: 1.0000 - val_loss: 0.1178 - val_accuracy: 0.9904\n",
      "Epoch 189/200\n",
      "655/655 [==============================] - 1s 2ms/step - loss: 0.0000e+00 - accuracy: 1.0000 - val_loss: 0.1178 - val_accuracy: 0.9904\n",
      "Epoch 190/200\n",
      "655/655 [==============================] - 1s 2ms/step - loss: 0.0000e+00 - accuracy: 1.0000 - val_loss: 0.1179 - val_accuracy: 0.9904\n",
      "Epoch 191/200\n",
      "655/655 [==============================] - 1s 2ms/step - loss: 0.0000e+00 - accuracy: 1.0000 - val_loss: 0.1180 - val_accuracy: 0.9904\n",
      "Epoch 192/200\n",
      "655/655 [==============================] - 1s 2ms/step - loss: 0.0000e+00 - accuracy: 1.0000 - val_loss: 0.1180 - val_accuracy: 0.9904\n",
      "Epoch 193/200\n",
      "655/655 [==============================] - 1s 2ms/step - loss: 0.0000e+00 - accuracy: 1.0000 - val_loss: 0.1181 - val_accuracy: 0.9904\n",
      "Epoch 194/200\n",
      "655/655 [==============================] - 1s 2ms/step - loss: 0.0000e+00 - accuracy: 1.0000 - val_loss: 0.1182 - val_accuracy: 0.9904\n",
      "Epoch 195/200\n",
      "655/655 [==============================] - 1s 2ms/step - loss: 0.0000e+00 - accuracy: 1.0000 - val_loss: 0.1182 - val_accuracy: 0.9904\n",
      "Epoch 196/200\n",
      "655/655 [==============================] - 1s 2ms/step - loss: 0.0000e+00 - accuracy: 1.0000 - val_loss: 0.1183 - val_accuracy: 0.9904\n",
      "Epoch 197/200\n",
      "655/655 [==============================] - 2s 2ms/step - loss: 0.0000e+00 - accuracy: 1.0000 - val_loss: 0.1183 - val_accuracy: 0.9904\n",
      "Epoch 198/200\n",
      "655/655 [==============================] - 1s 2ms/step - loss: 0.0000e+00 - accuracy: 1.0000 - val_loss: 0.1184 - val_accuracy: 0.9904\n",
      "Epoch 199/200\n",
      "655/655 [==============================] - 1s 2ms/step - loss: 0.0000e+00 - accuracy: 1.0000 - val_loss: 0.1184 - val_accuracy: 0.9904\n",
      "Epoch 200/200\n",
      "655/655 [==============================] - 1s 2ms/step - loss: 0.0000e+00 - accuracy: 1.0000 - val_loss: 0.1185 - val_accuracy: 0.9904\n"
     ]
    }
   ],
   "source": [
    "model3 = build_model()\n",
    "history3 = model3.fit(X_train2, y_train2, validation_data=(X_val, y_val), epochs=200, batch_size=10).history"
   ]
  },
  {
   "cell_type": "code",
   "execution_count": 24,
   "id": "2a200c1a",
   "metadata": {},
   "outputs": [
    {
     "name": "stdout",
     "output_type": "stream",
     "text": [
      "93/93 [==============================] - 0s 1ms/step - loss: 1.1173 - accuracy: 0.9420\n"
     ]
    },
    {
     "data": {
      "text/plain": [
       "[1.1173250675201416, 0.9419748783111572]"
      ]
     },
     "execution_count": 24,
     "metadata": {},
     "output_type": "execute_result"
    }
   ],
   "source": [
    "model3.evaluate(X_test, dummy_y_test)"
   ]
  },
  {
   "cell_type": "code",
   "execution_count": 51,
   "id": "853b2428",
   "metadata": {},
   "outputs": [
    {
     "data": {
      "image/png": "[encoded data removed]",
      "text/plain": [
       "<Figure size 432x288 with 1 Axes>"
      ]
     },
     "metadata": {
      "needs_background": "light"
     },
     "output_type": "display_data"
    }
   ],
   "source": [
    "plt.plot(history3['loss'], label='Train', c='k')\n",
    "plt.plot(history3['val_loss'], label='Val')\n",
    "plt.xlabel('Epochs')\n",
    "plt.ylabel('Cross-Entropy')\n",
    "plt.legend()\n",
    "plt.show()"
   ]
  },
  {
   "cell_type": "code",
   "execution_count": 31,
   "id": "b0bdd932",
   "metadata": {},
   "outputs": [
    {
     "data": {
      "image/png": "[encoded data removed]",
      "text/plain": [
       "<Figure size 432x288 with 1 Axes>"
      ]
     },
     "metadata": {
      "needs_background": "light"
     },
     "output_type": "display_data"
    }
   ],
   "source": [
    "plt.plot(history3['accuracy'], label='Train')\n",
    "plt.plot(history3['val_accuracy'], label='Val')\n",
    "plt.xlabel('Epochs')\n",
    "plt.ylabel('Accuracy')\n",
    "plt.legend()\n",
    "plt.show()"
   ]
  },
  {
   "cell_type": "markdown",
   "id": "8e50056d",
   "metadata": {},
   "source": [
    "## MODEL 1"
   ]
  },
  {
   "cell_type": "code",
   "execution_count": 19,
   "id": "86b5e354",
   "metadata": {},
   "outputs": [],
   "source": [
    "def build_model1():\n",
    "    \n",
    "    n_feature = X_train2.shape[1]\n",
    "    model = Sequential()\n",
    "    model.add(Dense(128, input_dim=n_feature, activation='relu'))\n",
    "    model.add(Dense(64, activation='relu'))\n",
    "    model.add(Dense(32, activation='relu'))\n",
    "    model.add(Dense(6, activation='softmax'))\n",
    "\n",
    "    model.compile(loss='categorical_crossentropy', optimizer='adam', metrics=['accuracy'])\n",
    "    return model"
   ]
  },
  {
   "cell_type": "code",
   "execution_count": 20,
   "id": "4ffa9359",
   "metadata": {
    "scrolled": true
   },
   "outputs": [
    {
     "name": "stdout",
     "output_type": "stream",
     "text": [
      "Epoch 1/100\n",
      "655/655 [==============================] - 2s 2ms/step - loss: 0.2551 - accuracy: 0.9002 - val_loss: 0.0915 - val_accuracy: 0.9670\n",
      "Epoch 2/100\n",
      "655/655 [==============================] - 1s 2ms/step - loss: 0.0977 - accuracy: 0.9606 - val_loss: 0.0799 - val_accuracy: 0.9657\n",
      "Epoch 3/100\n",
      "655/655 [==============================] - 1s 2ms/step - loss: 0.0733 - accuracy: 0.9728 - val_loss: 0.0711 - val_accuracy: 0.9753\n",
      "Epoch 4/100\n",
      "655/655 [==============================] - 1s 2ms/step - loss: 0.0688 - accuracy: 0.9742 - val_loss: 0.0684 - val_accuracy: 0.9766\n",
      "Epoch 5/100\n",
      "655/655 [==============================] - 1s 2ms/step - loss: 0.0623 - accuracy: 0.9774 - val_loss: 0.0822 - val_accuracy: 0.9712\n",
      "Epoch 6/100\n",
      "655/655 [==============================] - 1s 2ms/step - loss: 0.0488 - accuracy: 0.9806 - val_loss: 0.1995 - val_accuracy: 0.9451\n",
      "Epoch 7/100\n",
      "655/655 [==============================] - 1s 2ms/step - loss: 0.0680 - accuracy: 0.9748 - val_loss: 0.0796 - val_accuracy: 0.9780\n",
      "Epoch 8/100\n",
      "655/655 [==============================] - 1s 2ms/step - loss: 0.0470 - accuracy: 0.9827 - val_loss: 0.0595 - val_accuracy: 0.9835\n",
      "Epoch 9/100\n",
      "655/655 [==============================] - 1s 2ms/step - loss: 0.0272 - accuracy: 0.9905 - val_loss: 0.0519 - val_accuracy: 0.9808\n",
      "Epoch 10/100\n",
      "655/655 [==============================] - 1s 2ms/step - loss: 0.0270 - accuracy: 0.9896 - val_loss: 0.0460 - val_accuracy: 0.9835\n",
      "Epoch 11/100\n",
      "655/655 [==============================] - 1s 2ms/step - loss: 0.0496 - accuracy: 0.9847 - val_loss: 0.3154 - val_accuracy: 0.9093\n",
      "Epoch 12/100\n",
      "655/655 [==============================] - 1s 2ms/step - loss: 0.0259 - accuracy: 0.9907 - val_loss: 0.0309 - val_accuracy: 0.9890\n",
      "Epoch 13/100\n",
      "655/655 [==============================] - 1s 2ms/step - loss: 0.0293 - accuracy: 0.9901 - val_loss: 0.1000 - val_accuracy: 0.9629\n",
      "Epoch 14/100\n",
      "655/655 [==============================] - 1s 2ms/step - loss: 0.0209 - accuracy: 0.9916 - val_loss: 0.0421 - val_accuracy: 0.9863\n",
      "Epoch 15/100\n",
      "655/655 [==============================] - 1s 2ms/step - loss: 0.0784 - accuracy: 0.9795 - val_loss: 0.0544 - val_accuracy: 0.9821\n",
      "Epoch 16/100\n",
      "655/655 [==============================] - 1s 2ms/step - loss: 0.0216 - accuracy: 0.9910 - val_loss: 0.0542 - val_accuracy: 0.9849\n",
      "Epoch 17/100\n",
      "655/655 [==============================] - 1s 2ms/step - loss: 0.0313 - accuracy: 0.9904 - val_loss: 0.1670 - val_accuracy: 0.9602\n",
      "Epoch 18/100\n",
      "655/655 [==============================] - 1s 2ms/step - loss: 0.0175 - accuracy: 0.9936 - val_loss: 0.0779 - val_accuracy: 0.9849\n",
      "Epoch 19/100\n",
      "655/655 [==============================] - 1s 2ms/step - loss: 0.0284 - accuracy: 0.9925 - val_loss: 0.0273 - val_accuracy: 0.9904\n",
      "Epoch 20/100\n",
      "655/655 [==============================] - 1s 2ms/step - loss: 0.0155 - accuracy: 0.9939 - val_loss: 0.0387 - val_accuracy: 0.9835\n",
      "Epoch 21/100\n",
      "655/655 [==============================] - 1s 2ms/step - loss: 0.0076 - accuracy: 0.9974 - val_loss: 0.0576 - val_accuracy: 0.9863\n",
      "Epoch 22/100\n",
      "655/655 [==============================] - 1s 2ms/step - loss: 0.0236 - accuracy: 0.9924 - val_loss: 0.0475 - val_accuracy: 0.9863\n",
      "Epoch 23/100\n",
      "655/655 [==============================] - 1s 2ms/step - loss: 0.0257 - accuracy: 0.9937 - val_loss: 0.0333 - val_accuracy: 0.9849\n",
      "Epoch 24/100\n",
      "655/655 [==============================] - 1s 2ms/step - loss: 0.0159 - accuracy: 0.9947 - val_loss: 0.0240 - val_accuracy: 0.9918\n",
      "Epoch 25/100\n",
      "655/655 [==============================] - 1s 2ms/step - loss: 0.0071 - accuracy: 0.9977 - val_loss: 0.0424 - val_accuracy: 0.9821\n",
      "Epoch 26/100\n",
      "655/655 [==============================] - 1s 2ms/step - loss: 0.0214 - accuracy: 0.9940 - val_loss: 0.0439 - val_accuracy: 0.9876\n",
      "Epoch 27/100\n",
      "655/655 [==============================] - 1s 2ms/step - loss: 0.0248 - accuracy: 0.9937 - val_loss: 0.1043 - val_accuracy: 0.9670\n",
      "Epoch 28/100\n",
      "655/655 [==============================] - 1s 2ms/step - loss: 0.0062 - accuracy: 0.9977 - val_loss: 0.0466 - val_accuracy: 0.9876\n",
      "Epoch 29/100\n",
      "655/655 [==============================] - 1s 2ms/step - loss: 2.1719e-04 - accuracy: 1.0000 - val_loss: 0.0488 - val_accuracy: 0.9890\n",
      "Epoch 30/100\n",
      "655/655 [==============================] - 1s 2ms/step - loss: 0.0214 - accuracy: 0.9945 - val_loss: 0.0601 - val_accuracy: 0.9863\n",
      "Epoch 31/100\n",
      "655/655 [==============================] - 1s 2ms/step - loss: 0.0066 - accuracy: 0.9968 - val_loss: 0.0914 - val_accuracy: 0.9753\n",
      "Epoch 32/100\n",
      "655/655 [==============================] - 1s 2ms/step - loss: 0.0391 - accuracy: 0.9905 - val_loss: 0.0621 - val_accuracy: 0.9863\n",
      "Epoch 33/100\n",
      "655/655 [==============================] - 1s 2ms/step - loss: 0.0048 - accuracy: 0.9985 - val_loss: 0.0991 - val_accuracy: 0.9753\n",
      "Epoch 34/100\n",
      "655/655 [==============================] - 1s 2ms/step - loss: 0.0050 - accuracy: 0.9986 - val_loss: 0.0513 - val_accuracy: 0.9890\n"
     ]
    }
   ],
   "source": [
    "es = EarlyStopping(monitor='val_loss', patience=10)\n",
    "\n",
    "model1 = build_model1()\n",
    "history1 = model1.fit(X_train2, y_train2, validation_data=(X_val, y_val), epochs=100, \n",
    "                      batch_size=10, callbacks=[es]).history"
   ]
  },
  {
   "cell_type": "code",
   "execution_count": 21,
   "id": "c02bec0b",
   "metadata": {},
   "outputs": [
    {
     "name": "stdout",
     "output_type": "stream",
     "text": [
      "93/93 [==============================] - 0s 1ms/step - loss: 0.3799 - accuracy: 0.9447\n"
     ]
    },
    {
     "data": {
      "text/plain": [
       "[0.37991711497306824, 0.9446895122528076]"
      ]
     },
     "execution_count": 21,
     "metadata": {},
     "output_type": "execute_result"
    }
   ],
   "source": [
    "model1.evaluate(X_test, dummy_y_test)"
   ]
  },
  {
   "cell_type": "markdown",
   "id": "f5eb14cf",
   "metadata": {},
   "source": [
    "## REGULARIZATIONS"
   ]
  },
  {
   "cell_type": "markdown",
   "id": "9c87eec2",
   "metadata": {},
   "source": [
    "### L2"
   ]
  },
  {
   "cell_type": "code",
   "execution_count": 28,
   "id": "112da4ca",
   "metadata": {},
   "outputs": [],
   "source": [
    "from keras.regularizers import l2\n",
    "\n",
    "def build_L2_model():\n",
    "    # define the model\n",
    "    model = Sequential()\n",
    "\n",
    "    n_feature = X_train.shape[1]\n",
    "    #h_dim=100\n",
    "    model.add(Dense(128, activation='relu', input_shape=(n_feature,), kernel_regularizer=l2(0.01)))\n",
    "    model.add(Dense(64, activation='relu', kernel_regularizer=l2(0.01)))\n",
    "    #model.add(Dense(h_dim, activation='relu', kernel_regularizer=l2(0.01)))\n",
    "    #model.add(Dense(h_dim, activation='relu', kernel_regularizer=l2(0.01)))\n",
    "    model.add(Dense(6, activation='softmax'))\n",
    "\n",
    "    #compile the model\n",
    "    model.compile(loss='categorical_crossentropy', optimizer='adam', metrics=['accuracy'])\n",
    "    \n",
    "    return model"
   ]
  },
  {
   "cell_type": "code",
   "execution_count": 29,
   "id": "3d049dea",
   "metadata": {
    "scrolled": true
   },
   "outputs": [
    {
     "name": "stdout",
     "output_type": "stream",
     "text": [
      "Epoch 1/100\n",
      "655/655 [==============================] - 2s 2ms/step - loss: 1.4756 - accuracy: 0.9116 - val_loss: 0.5570 - val_accuracy: 0.9451\n",
      "Epoch 2/100\n",
      "655/655 [==============================] - 1s 2ms/step - loss: 0.4255 - accuracy: 0.9438 - val_loss: 0.2983 - val_accuracy: 0.9615\n",
      "Epoch 3/100\n",
      "655/655 [==============================] - 1s 2ms/step - loss: 0.3031 - accuracy: 0.9502 - val_loss: 0.3394 - val_accuracy: 0.9245\n",
      "Epoch 4/100\n",
      "655/655 [==============================] - 1s 2ms/step - loss: 0.2622 - accuracy: 0.9536 - val_loss: 0.2415 - val_accuracy: 0.9615\n",
      "Epoch 5/100\n",
      "655/655 [==============================] - 1s 2ms/step - loss: 0.2327 - accuracy: 0.9585 - val_loss: 0.2873 - val_accuracy: 0.9272\n",
      "Epoch 6/100\n",
      "655/655 [==============================] - 1s 2ms/step - loss: 0.2104 - accuracy: 0.9621 - val_loss: 0.2175 - val_accuracy: 0.9547\n",
      "Epoch 7/100\n",
      "655/655 [==============================] - 1s 2ms/step - loss: 0.2100 - accuracy: 0.9608 - val_loss: 0.2325 - val_accuracy: 0.9478\n",
      "Epoch 8/100\n",
      "655/655 [==============================] - 1s 2ms/step - loss: 0.2127 - accuracy: 0.9598 - val_loss: 0.1824 - val_accuracy: 0.9643\n",
      "Epoch 9/100\n",
      "655/655 [==============================] - 1s 2ms/step - loss: 0.1806 - accuracy: 0.9678 - val_loss: 0.2245 - val_accuracy: 0.9519\n",
      "Epoch 10/100\n",
      "655/655 [==============================] - 1s 2ms/step - loss: 0.1799 - accuracy: 0.9681 - val_loss: 0.1574 - val_accuracy: 0.9780\n",
      "Epoch 11/100\n",
      "655/655 [==============================] - 1s 2ms/step - loss: 0.1768 - accuracy: 0.9667 - val_loss: 0.1457 - val_accuracy: 0.9794\n",
      "Epoch 12/100\n",
      "655/655 [==============================] - 1s 2ms/step - loss: 0.1647 - accuracy: 0.9707 - val_loss: 0.1606 - val_accuracy: 0.9712\n",
      "Epoch 13/100\n",
      "655/655 [==============================] - 1s 2ms/step - loss: 0.1516 - accuracy: 0.9713 - val_loss: 0.1546 - val_accuracy: 0.9712\n",
      "Epoch 14/100\n",
      "655/655 [==============================] - 1s 2ms/step - loss: 0.1438 - accuracy: 0.9731 - val_loss: 0.1697 - val_accuracy: 0.9629\n",
      "Epoch 15/100\n",
      "655/655 [==============================] - 1s 2ms/step - loss: 0.1641 - accuracy: 0.9676 - val_loss: 0.1977 - val_accuracy: 0.9478\n",
      "Epoch 16/100\n",
      "655/655 [==============================] - 1s 2ms/step - loss: 0.1488 - accuracy: 0.9728 - val_loss: 0.1511 - val_accuracy: 0.9670\n",
      "Epoch 17/100\n",
      "655/655 [==============================] - 1s 2ms/step - loss: 0.1455 - accuracy: 0.9719 - val_loss: 0.1916 - val_accuracy: 0.9588\n",
      "Epoch 18/100\n",
      "655/655 [==============================] - 1s 2ms/step - loss: 0.1391 - accuracy: 0.9748 - val_loss: 0.1641 - val_accuracy: 0.9615\n",
      "Epoch 19/100\n",
      "655/655 [==============================] - 1s 2ms/step - loss: 0.1374 - accuracy: 0.9753 - val_loss: 0.1365 - val_accuracy: 0.9753\n",
      "Epoch 20/100\n",
      "655/655 [==============================] - 1s 2ms/step - loss: 0.1409 - accuracy: 0.9733 - val_loss: 0.1720 - val_accuracy: 0.9574\n",
      "Epoch 21/100\n",
      "655/655 [==============================] - 1s 2ms/step - loss: 0.1310 - accuracy: 0.9780 - val_loss: 0.1344 - val_accuracy: 0.9753\n",
      "Epoch 22/100\n",
      "655/655 [==============================] - 1s 2ms/step - loss: 0.1366 - accuracy: 0.9744 - val_loss: 0.1685 - val_accuracy: 0.9533\n",
      "Epoch 23/100\n",
      "655/655 [==============================] - 1s 2ms/step - loss: 0.1340 - accuracy: 0.9745 - val_loss: 0.1360 - val_accuracy: 0.9753\n",
      "Epoch 24/100\n",
      "655/655 [==============================] - 1s 2ms/step - loss: 0.1288 - accuracy: 0.9776 - val_loss: 0.1903 - val_accuracy: 0.9492\n",
      "Epoch 25/100\n",
      "655/655 [==============================] - 1s 2ms/step - loss: 0.1306 - accuracy: 0.9751 - val_loss: 0.1589 - val_accuracy: 0.9574\n",
      "Epoch 26/100\n",
      "655/655 [==============================] - 1s 2ms/step - loss: 0.1420 - accuracy: 0.9724 - val_loss: 0.1591 - val_accuracy: 0.9643\n",
      "Epoch 27/100\n",
      "655/655 [==============================] - 1s 2ms/step - loss: 0.1300 - accuracy: 0.9742 - val_loss: 0.1437 - val_accuracy: 0.9698\n",
      "Epoch 28/100\n",
      "655/655 [==============================] - 1s 2ms/step - loss: 0.1262 - accuracy: 0.9745 - val_loss: 0.1269 - val_accuracy: 0.9766\n",
      "Epoch 29/100\n",
      "655/655 [==============================] - 1s 2ms/step - loss: 0.1305 - accuracy: 0.9734 - val_loss: 0.1457 - val_accuracy: 0.9670\n",
      "Epoch 30/100\n",
      "655/655 [==============================] - 1s 2ms/step - loss: 0.1197 - accuracy: 0.9786 - val_loss: 0.1225 - val_accuracy: 0.9766\n",
      "Epoch 31/100\n",
      "655/655 [==============================] - 1s 2ms/step - loss: 0.1311 - accuracy: 0.9751 - val_loss: 0.1351 - val_accuracy: 0.9739\n",
      "Epoch 32/100\n",
      "655/655 [==============================] - 1s 2ms/step - loss: 0.1193 - accuracy: 0.9783 - val_loss: 0.1426 - val_accuracy: 0.9670\n",
      "Epoch 33/100\n",
      "655/655 [==============================] - 1s 2ms/step - loss: 0.1268 - accuracy: 0.9765 - val_loss: 0.1236 - val_accuracy: 0.9739\n",
      "Epoch 34/100\n",
      "655/655 [==============================] - 1s 2ms/step - loss: 0.1224 - accuracy: 0.9751 - val_loss: 0.2477 - val_accuracy: 0.9382\n",
      "Epoch 35/100\n",
      "655/655 [==============================] - 1s 2ms/step - loss: 0.1337 - accuracy: 0.9754 - val_loss: 0.2206 - val_accuracy: 0.9437\n",
      "Epoch 36/100\n",
      "655/655 [==============================] - 1s 2ms/step - loss: 0.1241 - accuracy: 0.9760 - val_loss: 0.1177 - val_accuracy: 0.9849\n",
      "Epoch 37/100\n",
      "655/655 [==============================] - 1s 2ms/step - loss: 0.1150 - accuracy: 0.9797 - val_loss: 0.1214 - val_accuracy: 0.9753\n",
      "Epoch 38/100\n",
      "655/655 [==============================] - 1s 2ms/step - loss: 0.1236 - accuracy: 0.9751 - val_loss: 0.1347 - val_accuracy: 0.9712\n",
      "Epoch 39/100\n",
      "655/655 [==============================] - 1s 2ms/step - loss: 0.1261 - accuracy: 0.9754 - val_loss: 0.1223 - val_accuracy: 0.9780\n",
      "Epoch 40/100\n",
      "655/655 [==============================] - 1s 2ms/step - loss: 0.1235 - accuracy: 0.9774 - val_loss: 0.1183 - val_accuracy: 0.9808\n",
      "Epoch 41/100\n",
      "655/655 [==============================] - 1s 2ms/step - loss: 0.1209 - accuracy: 0.9780 - val_loss: 0.1461 - val_accuracy: 0.9725\n",
      "Epoch 42/100\n",
      "655/655 [==============================] - 1s 2ms/step - loss: 0.1317 - accuracy: 0.9744 - val_loss: 0.1167 - val_accuracy: 0.9794\n",
      "Epoch 43/100\n",
      "655/655 [==============================] - 1s 2ms/step - loss: 0.1122 - accuracy: 0.9786 - val_loss: 0.1669 - val_accuracy: 0.9505\n",
      "Epoch 44/100\n",
      "655/655 [==============================] - 1s 2ms/step - loss: 0.1307 - accuracy: 0.9721 - val_loss: 0.1308 - val_accuracy: 0.9821\n",
      "Epoch 45/100\n",
      "655/655 [==============================] - 1s 2ms/step - loss: 0.1242 - accuracy: 0.9742 - val_loss: 0.1275 - val_accuracy: 0.9766\n",
      "Epoch 46/100\n",
      "655/655 [==============================] - 1s 2ms/step - loss: 0.1202 - accuracy: 0.9747 - val_loss: 0.1254 - val_accuracy: 0.9725\n",
      "Epoch 47/100\n",
      "655/655 [==============================] - 1s 2ms/step - loss: 0.1172 - accuracy: 0.9771 - val_loss: 0.1396 - val_accuracy: 0.9670\n",
      "Epoch 48/100\n",
      "655/655 [==============================] - 1s 2ms/step - loss: 0.1236 - accuracy: 0.9748 - val_loss: 0.1349 - val_accuracy: 0.9698\n",
      "Epoch 49/100\n",
      "655/655 [==============================] - 1s 2ms/step - loss: 0.1251 - accuracy: 0.9760 - val_loss: 0.1405 - val_accuracy: 0.9670\n",
      "Epoch 50/100\n",
      "655/655 [==============================] - 1s 2ms/step - loss: 0.1112 - accuracy: 0.9788 - val_loss: 0.1096 - val_accuracy: 0.9780\n",
      "Epoch 51/100\n",
      "655/655 [==============================] - 1s 2ms/step - loss: 0.1288 - accuracy: 0.9711 - val_loss: 0.1510 - val_accuracy: 0.9657\n",
      "Epoch 52/100\n",
      "655/655 [==============================] - 1s 2ms/step - loss: 0.1284 - accuracy: 0.9728 - val_loss: 0.1328 - val_accuracy: 0.9712\n",
      "Epoch 53/100\n",
      "655/655 [==============================] - 1s 2ms/step - loss: 0.1187 - accuracy: 0.9786 - val_loss: 0.1384 - val_accuracy: 0.9739\n",
      "Epoch 54/100\n",
      "655/655 [==============================] - 1s 2ms/step - loss: 0.1177 - accuracy: 0.9757 - val_loss: 0.1521 - val_accuracy: 0.9547\n",
      "Epoch 55/100\n",
      "655/655 [==============================] - 1s 2ms/step - loss: 0.1356 - accuracy: 0.9721 - val_loss: 0.1444 - val_accuracy: 0.9712\n",
      "Epoch 56/100\n",
      "655/655 [==============================] - 1s 2ms/step - loss: 0.1170 - accuracy: 0.9766 - val_loss: 0.1084 - val_accuracy: 0.9794\n",
      "Epoch 57/100\n",
      "655/655 [==============================] - 1s 2ms/step - loss: 0.1050 - accuracy: 0.9811 - val_loss: 0.1713 - val_accuracy: 0.9533\n"
     ]
    },
    {
     "name": "stdout",
     "output_type": "stream",
     "text": [
      "Epoch 58/100\n",
      "655/655 [==============================] - 1s 2ms/step - loss: 0.1226 - accuracy: 0.9745 - val_loss: 0.1054 - val_accuracy: 0.9821\n",
      "Epoch 59/100\n",
      "655/655 [==============================] - 1s 2ms/step - loss: 0.1157 - accuracy: 0.9748 - val_loss: 0.1180 - val_accuracy: 0.9794\n",
      "Epoch 60/100\n",
      "655/655 [==============================] - 1s 2ms/step - loss: 0.1085 - accuracy: 0.9805 - val_loss: 0.1226 - val_accuracy: 0.9808\n",
      "Epoch 61/100\n",
      "655/655 [==============================] - 1s 2ms/step - loss: 0.1284 - accuracy: 0.9742 - val_loss: 0.1260 - val_accuracy: 0.9698\n",
      "Epoch 62/100\n",
      "655/655 [==============================] - 1s 2ms/step - loss: 0.1249 - accuracy: 0.9759 - val_loss: 0.1272 - val_accuracy: 0.9712\n",
      "Epoch 63/100\n",
      "655/655 [==============================] - 1s 2ms/step - loss: 0.1096 - accuracy: 0.9803 - val_loss: 0.1072 - val_accuracy: 0.9821\n",
      "Epoch 64/100\n",
      "655/655 [==============================] - 1s 2ms/step - loss: 0.1222 - accuracy: 0.9757 - val_loss: 0.2609 - val_accuracy: 0.9258\n",
      "Epoch 65/100\n",
      "655/655 [==============================] - 1s 2ms/step - loss: 0.1236 - accuracy: 0.9756 - val_loss: 0.1211 - val_accuracy: 0.9780\n",
      "Epoch 66/100\n",
      "655/655 [==============================] - 1s 2ms/step - loss: 0.1043 - accuracy: 0.9815 - val_loss: 0.1144 - val_accuracy: 0.9780\n",
      "Epoch 67/100\n",
      "655/655 [==============================] - 1s 2ms/step - loss: 0.1266 - accuracy: 0.9739 - val_loss: 0.1572 - val_accuracy: 0.9533\n",
      "Epoch 68/100\n",
      "655/655 [==============================] - 1s 2ms/step - loss: 0.1148 - accuracy: 0.9777 - val_loss: 0.1264 - val_accuracy: 0.9739\n"
     ]
    }
   ],
   "source": [
    "L2_model = build_L2_model()\n",
    "h_L2 = L2_model.fit(X_train2, y_train2, validation_data=(X_val, y_val), epochs=100, \n",
    "                    batch_size=10, callbacks=[es]).history"
   ]
  },
  {
   "cell_type": "code",
   "execution_count": 30,
   "id": "597d33e9",
   "metadata": {},
   "outputs": [
    {
     "name": "stdout",
     "output_type": "stream",
     "text": [
      "93/93 [==============================] - 0s 1ms/step - loss: 0.2232 - accuracy: 0.9447\n"
     ]
    },
    {
     "data": {
      "text/plain": [
       "[0.22324949502944946, 0.9446895122528076]"
      ]
     },
     "execution_count": 30,
     "metadata": {},
     "output_type": "execute_result"
    }
   ],
   "source": [
    "L2_model.evaluate(X_test, dummy_y_test)"
   ]
  },
  {
   "cell_type": "code",
   "execution_count": 32,
   "id": "fc9503ff",
   "metadata": {},
   "outputs": [],
   "source": [
    "def build_L2_model_2():\n",
    "    # define the model\n",
    "    model = Sequential()\n",
    "\n",
    "    n_feature = X_train.shape[1]\n",
    "    #h_dim=100\n",
    "    model.add(Dense(128, activation='relu', input_shape=(n_feature,), kernel_regularizer=l2(0.001)))\n",
    "    model.add(Dense(64, activation='relu', kernel_regularizer=l2(0.001)))\n",
    "    #model.add(Dense(h_dim, activation='relu', kernel_regularizer=l2(0.01)))\n",
    "    #model.add(Dense(h_dim, activation='relu', kernel_regularizer=l2(0.01)))\n",
    "    model.add(Dense(6, activation='softmax'))\n",
    "\n",
    "    #compile the model\n",
    "    model.compile(loss='categorical_crossentropy', optimizer='adam', metrics=['accuracy'])\n",
    "    \n",
    "    return model"
   ]
  },
  {
   "cell_type": "code",
   "execution_count": 33,
   "id": "9803fb7f",
   "metadata": {
    "scrolled": true
   },
   "outputs": [
    {
     "name": "stdout",
     "output_type": "stream",
     "text": [
      "Epoch 1/100\n",
      "655/655 [==============================] - 2s 2ms/step - loss: 0.4966 - accuracy: 0.9153 - val_loss: 0.4476 - val_accuracy: 0.9313\n",
      "Epoch 2/100\n",
      "655/655 [==============================] - 1s 2ms/step - loss: 0.3165 - accuracy: 0.9643 - val_loss: 0.2790 - val_accuracy: 0.9657\n",
      "Epoch 3/100\n",
      "655/655 [==============================] - 1s 2ms/step - loss: 0.2606 - accuracy: 0.9669 - val_loss: 0.2227 - val_accuracy: 0.9794\n",
      "Epoch 4/100\n",
      "655/655 [==============================] - 1s 2ms/step - loss: 0.2265 - accuracy: 0.9676 - val_loss: 0.2358 - val_accuracy: 0.9574\n",
      "Epoch 5/100\n",
      "655/655 [==============================] - 1s 2ms/step - loss: 0.1897 - accuracy: 0.9722 - val_loss: 0.1761 - val_accuracy: 0.9725\n",
      "Epoch 6/100\n",
      "655/655 [==============================] - 1s 2ms/step - loss: 0.1713 - accuracy: 0.9751 - val_loss: 0.1464 - val_accuracy: 0.9712\n",
      "Epoch 7/100\n",
      "655/655 [==============================] - 1s 2ms/step - loss: 0.1492 - accuracy: 0.9762 - val_loss: 0.1440 - val_accuracy: 0.9808\n",
      "Epoch 8/100\n",
      "655/655 [==============================] - 1s 2ms/step - loss: 0.1647 - accuracy: 0.9719 - val_loss: 0.1344 - val_accuracy: 0.9821\n",
      "Epoch 9/100\n",
      "655/655 [==============================] - 1s 2ms/step - loss: 0.1318 - accuracy: 0.9818 - val_loss: 0.1548 - val_accuracy: 0.9602\n",
      "Epoch 10/100\n",
      "655/655 [==============================] - 1s 2ms/step - loss: 0.1216 - accuracy: 0.9823 - val_loss: 0.1432 - val_accuracy: 0.9670\n",
      "Epoch 11/100\n",
      "655/655 [==============================] - 1s 2ms/step - loss: 0.1178 - accuracy: 0.9798 - val_loss: 0.1354 - val_accuracy: 0.9766\n",
      "Epoch 12/100\n",
      "655/655 [==============================] - 1s 2ms/step - loss: 0.1197 - accuracy: 0.9814 - val_loss: 0.1835 - val_accuracy: 0.9615\n",
      "Epoch 13/100\n",
      "655/655 [==============================] - 1s 2ms/step - loss: 0.1200 - accuracy: 0.9803 - val_loss: 0.1222 - val_accuracy: 0.9835\n",
      "Epoch 14/100\n",
      "655/655 [==============================] - 1s 2ms/step - loss: 0.0987 - accuracy: 0.9864 - val_loss: 0.1244 - val_accuracy: 0.9780\n",
      "Epoch 15/100\n",
      "655/655 [==============================] - 1s 2ms/step - loss: 0.1012 - accuracy: 0.9840 - val_loss: 0.0997 - val_accuracy: 0.9863\n",
      "Epoch 16/100\n",
      "655/655 [==============================] - 1s 2ms/step - loss: 0.0817 - accuracy: 0.9895 - val_loss: 0.1208 - val_accuracy: 0.9712\n",
      "Epoch 17/100\n",
      "655/655 [==============================] - 1s 2ms/step - loss: 0.1208 - accuracy: 0.9798 - val_loss: 0.1439 - val_accuracy: 0.9670\n",
      "Epoch 18/100\n",
      "655/655 [==============================] - 1s 2ms/step - loss: 0.0835 - accuracy: 0.9885 - val_loss: 0.1150 - val_accuracy: 0.9780\n",
      "Epoch 19/100\n",
      "655/655 [==============================] - 1s 2ms/step - loss: 0.0787 - accuracy: 0.9892 - val_loss: 0.1447 - val_accuracy: 0.9643\n",
      "Epoch 20/100\n",
      "655/655 [==============================] - 1s 2ms/step - loss: 0.0730 - accuracy: 0.9918 - val_loss: 0.1144 - val_accuracy: 0.9780\n",
      "Epoch 21/100\n",
      "655/655 [==============================] - 1s 2ms/step - loss: 0.0737 - accuracy: 0.9904 - val_loss: 0.1110 - val_accuracy: 0.9780\n",
      "Epoch 22/100\n",
      "655/655 [==============================] - 1s 2ms/step - loss: 0.1008 - accuracy: 0.9832 - val_loss: 0.0905 - val_accuracy: 0.9849\n",
      "Epoch 23/100\n",
      "655/655 [==============================] - 1s 2ms/step - loss: 0.0659 - accuracy: 0.9931 - val_loss: 0.1324 - val_accuracy: 0.9643\n",
      "Epoch 24/100\n",
      "655/655 [==============================] - 1s 2ms/step - loss: 0.0686 - accuracy: 0.9908 - val_loss: 0.0897 - val_accuracy: 0.9835\n",
      "Epoch 25/100\n",
      "655/655 [==============================] - 1s 2ms/step - loss: 0.0915 - accuracy: 0.9847 - val_loss: 0.1142 - val_accuracy: 0.9780\n",
      "Epoch 26/100\n",
      "655/655 [==============================] - 1s 2ms/step - loss: 0.0683 - accuracy: 0.9924 - val_loss: 0.0838 - val_accuracy: 0.9863\n",
      "Epoch 27/100\n",
      "655/655 [==============================] - 1s 2ms/step - loss: 0.0698 - accuracy: 0.9904 - val_loss: 0.0915 - val_accuracy: 0.9835\n",
      "Epoch 28/100\n",
      "655/655 [==============================] - 1s 2ms/step - loss: 0.0697 - accuracy: 0.9913 - val_loss: 0.0978 - val_accuracy: 0.9794\n",
      "Epoch 29/100\n",
      "655/655 [==============================] - 1s 2ms/step - loss: 0.0579 - accuracy: 0.9942 - val_loss: 0.2370 - val_accuracy: 0.9451\n",
      "Epoch 30/100\n",
      "655/655 [==============================] - 1s 2ms/step - loss: 0.0774 - accuracy: 0.9858 - val_loss: 0.1042 - val_accuracy: 0.9780\n",
      "Epoch 31/100\n",
      "655/655 [==============================] - 1s 2ms/step - loss: 0.0610 - accuracy: 0.9930 - val_loss: 0.0723 - val_accuracy: 0.9904\n",
      "Epoch 32/100\n",
      "655/655 [==============================] - 1s 2ms/step - loss: 0.0602 - accuracy: 0.9919 - val_loss: 0.1150 - val_accuracy: 0.9698\n",
      "Epoch 33/100\n",
      "655/655 [==============================] - 1s 2ms/step - loss: 0.0669 - accuracy: 0.9895 - val_loss: 0.1236 - val_accuracy: 0.9698\n",
      "Epoch 34/100\n",
      "655/655 [==============================] - 1s 2ms/step - loss: 0.0694 - accuracy: 0.9901 - val_loss: 0.1040 - val_accuracy: 0.9808\n",
      "Epoch 35/100\n",
      "655/655 [==============================] - 1s 2ms/step - loss: 0.0543 - accuracy: 0.9945 - val_loss: 0.1114 - val_accuracy: 0.9780\n",
      "Epoch 36/100\n",
      "655/655 [==============================] - 1s 2ms/step - loss: 0.0650 - accuracy: 0.9908 - val_loss: 0.0905 - val_accuracy: 0.9835\n",
      "Epoch 37/100\n",
      "655/655 [==============================] - 1s 2ms/step - loss: 0.0648 - accuracy: 0.9892 - val_loss: 0.1248 - val_accuracy: 0.9670\n",
      "Epoch 38/100\n",
      "655/655 [==============================] - 1s 2ms/step - loss: 0.0555 - accuracy: 0.9933 - val_loss: 0.0900 - val_accuracy: 0.9780\n",
      "Epoch 39/100\n",
      "655/655 [==============================] - 1s 2ms/step - loss: 0.0590 - accuracy: 0.9905 - val_loss: 0.0804 - val_accuracy: 0.9876\n",
      "Epoch 40/100\n",
      "655/655 [==============================] - 1s 2ms/step - loss: 0.0578 - accuracy: 0.9922 - val_loss: 0.0713 - val_accuracy: 0.9904\n",
      "Epoch 41/100\n",
      "655/655 [==============================] - 1s 2ms/step - loss: 0.0550 - accuracy: 0.9928 - val_loss: 0.1107 - val_accuracy: 0.9766\n",
      "Epoch 42/100\n",
      "655/655 [==============================] - 1s 2ms/step - loss: 0.0719 - accuracy: 0.9882 - val_loss: 0.0823 - val_accuracy: 0.9835\n",
      "Epoch 43/100\n",
      "655/655 [==============================] - 1s 2ms/step - loss: 0.0561 - accuracy: 0.9918 - val_loss: 0.0680 - val_accuracy: 0.9904\n",
      "Epoch 44/100\n",
      "655/655 [==============================] - 1s 2ms/step - loss: 0.0471 - accuracy: 0.9953 - val_loss: 0.0837 - val_accuracy: 0.9808\n",
      "Epoch 45/100\n",
      "655/655 [==============================] - 1s 2ms/step - loss: 0.0609 - accuracy: 0.9907 - val_loss: 0.1068 - val_accuracy: 0.9780\n",
      "Epoch 46/100\n",
      "655/655 [==============================] - 1s 2ms/step - loss: 0.0664 - accuracy: 0.9896 - val_loss: 0.0768 - val_accuracy: 0.9876\n",
      "Epoch 47/100\n",
      "655/655 [==============================] - 1s 2ms/step - loss: 0.0504 - accuracy: 0.9940 - val_loss: 0.0861 - val_accuracy: 0.9821\n",
      "Epoch 48/100\n",
      "655/655 [==============================] - 1s 2ms/step - loss: 0.0523 - accuracy: 0.9927 - val_loss: 0.0996 - val_accuracy: 0.9698\n",
      "Epoch 49/100\n",
      "655/655 [==============================] - 1s 2ms/step - loss: 0.0508 - accuracy: 0.9937 - val_loss: 0.0787 - val_accuracy: 0.9835\n",
      "Epoch 50/100\n",
      "655/655 [==============================] - 1s 2ms/step - loss: 0.0639 - accuracy: 0.9901 - val_loss: 0.0983 - val_accuracy: 0.9808\n",
      "Epoch 51/100\n",
      "655/655 [==============================] - 1s 2ms/step - loss: 0.0550 - accuracy: 0.9930 - val_loss: 0.1165 - val_accuracy: 0.9753\n",
      "Epoch 52/100\n",
      "655/655 [==============================] - 1s 2ms/step - loss: 0.0628 - accuracy: 0.9910 - val_loss: 0.0960 - val_accuracy: 0.9725\n",
      "Epoch 53/100\n",
      "655/655 [==============================] - 1s 2ms/step - loss: 0.0543 - accuracy: 0.9930 - val_loss: 0.0849 - val_accuracy: 0.9863\n"
     ]
    }
   ],
   "source": [
    "L2_model_2 = build_L2_model_2()\n",
    "h_L2_2 = L2_model_2.fit(X_train2, y_train2, validation_data=(X_val, y_val), epochs=100, \n",
    "                    batch_size=10, callbacks=[es]).history"
   ]
  },
  {
   "cell_type": "code",
   "execution_count": 34,
   "id": "24c5c191",
   "metadata": {},
   "outputs": [
    {
     "name": "stdout",
     "output_type": "stream",
     "text": [
      "93/93 [==============================] - 0s 1ms/step - loss: 0.2991 - accuracy: 0.9396\n"
     ]
    },
    {
     "data": {
      "text/plain": [
       "[0.2991251051425934, 0.9395995736122131]"
      ]
     },
     "execution_count": 34,
     "metadata": {},
     "output_type": "execute_result"
    }
   ],
   "source": [
    "L2_model_2.evaluate(X_test, dummy_y_test)"
   ]
  },
  {
   "cell_type": "code",
   "execution_count": 35,
   "id": "332a56f6",
   "metadata": {},
   "outputs": [],
   "source": [
    "def build_L2_model_3():\n",
    "    # define the model\n",
    "    model = Sequential()\n",
    "\n",
    "    n_feature = X_train.shape[1]\n",
    "    #h_dim=100\n",
    "    model.add(Dense(128, activation='relu', input_shape=(n_feature,), kernel_regularizer=l2(0.1)))\n",
    "    model.add(Dense(64, activation='relu', kernel_regularizer=l2(0.1)))\n",
    "    #model.add(Dense(h_dim, activation='relu', kernel_regularizer=l2(0.01)))\n",
    "    #model.add(Dense(h_dim, activation='relu', kernel_regularizer=l2(0.01)))\n",
    "    model.add(Dense(6, activation='softmax'))\n",
    "\n",
    "    #compile the model\n",
    "    model.compile(loss='categorical_crossentropy', optimizer='adam', metrics=['accuracy'])\n",
    "    \n",
    "    return model"
   ]
  },
  {
   "cell_type": "code",
   "execution_count": 36,
   "id": "74d8a35c",
   "metadata": {
    "scrolled": true
   },
   "outputs": [
    {
     "name": "stdout",
     "output_type": "stream",
     "text": [
      "Epoch 1/100\n",
      "655/655 [==============================] - 2s 2ms/step - loss: 2.9958 - accuracy: 0.8624 - val_loss: 0.7135 - val_accuracy: 0.8008\n",
      "Epoch 2/100\n",
      "655/655 [==============================] - 1s 2ms/step - loss: 0.5991 - accuracy: 0.8969 - val_loss: 0.5802 - val_accuracy: 0.8970\n",
      "Epoch 3/100\n",
      "655/655 [==============================] - 1s 2ms/step - loss: 0.5051 - accuracy: 0.9252 - val_loss: 0.4494 - val_accuracy: 0.9354\n",
      "Epoch 4/100\n",
      "655/655 [==============================] - 1s 2ms/step - loss: 0.4497 - accuracy: 0.9315 - val_loss: 0.4310 - val_accuracy: 0.9533\n",
      "Epoch 5/100\n",
      "655/655 [==============================] - 1s 2ms/step - loss: 0.4085 - accuracy: 0.9389 - val_loss: 0.4293 - val_accuracy: 0.9231\n",
      "Epoch 6/100\n",
      "655/655 [==============================] - 1s 2ms/step - loss: 0.3836 - accuracy: 0.9437 - val_loss: 0.5029 - val_accuracy: 0.8750\n",
      "Epoch 7/100\n",
      "655/655 [==============================] - 1s 2ms/step - loss: 0.3740 - accuracy: 0.9437 - val_loss: 0.3835 - val_accuracy: 0.9327\n",
      "Epoch 8/100\n",
      "655/655 [==============================] - 1s 2ms/step - loss: 0.3600 - accuracy: 0.9446 - val_loss: 0.3530 - val_accuracy: 0.9341\n",
      "Epoch 9/100\n",
      "655/655 [==============================] - 1s 2ms/step - loss: 0.3305 - accuracy: 0.9502 - val_loss: 0.3456 - val_accuracy: 0.9382\n",
      "Epoch 10/100\n",
      "655/655 [==============================] - 1s 2ms/step - loss: 0.3263 - accuracy: 0.9478 - val_loss: 0.3699 - val_accuracy: 0.9382\n",
      "Epoch 11/100\n",
      "655/655 [==============================] - 1s 2ms/step - loss: 0.3163 - accuracy: 0.9528 - val_loss: 0.3263 - val_accuracy: 0.9464\n",
      "Epoch 12/100\n",
      "655/655 [==============================] - 1s 2ms/step - loss: 0.3123 - accuracy: 0.9530 - val_loss: 0.3653 - val_accuracy: 0.9135\n",
      "Epoch 13/100\n",
      "655/655 [==============================] - 1s 2ms/step - loss: 0.3042 - accuracy: 0.9490 - val_loss: 0.3029 - val_accuracy: 0.9492\n",
      "Epoch 14/100\n",
      "655/655 [==============================] - 1s 2ms/step - loss: 0.3091 - accuracy: 0.9485 - val_loss: 0.3122 - val_accuracy: 0.9423\n",
      "Epoch 15/100\n",
      "655/655 [==============================] - 1s 2ms/step - loss: 0.3015 - accuracy: 0.9515 - val_loss: 0.2791 - val_accuracy: 0.9670\n",
      "Epoch 16/100\n",
      "655/655 [==============================] - 1s 2ms/step - loss: 0.2905 - accuracy: 0.9533 - val_loss: 0.3122 - val_accuracy: 0.9492\n",
      "Epoch 17/100\n",
      "655/655 [==============================] - 1s 2ms/step - loss: 0.2922 - accuracy: 0.9490 - val_loss: 0.2806 - val_accuracy: 0.9547\n",
      "Epoch 18/100\n",
      "655/655 [==============================] - 1s 2ms/step - loss: 0.2849 - accuracy: 0.9534 - val_loss: 0.2920 - val_accuracy: 0.9588\n",
      "Epoch 19/100\n",
      "655/655 [==============================] - 1s 2ms/step - loss: 0.2840 - accuracy: 0.9521 - val_loss: 0.2662 - val_accuracy: 0.9533\n",
      "Epoch 20/100\n",
      "655/655 [==============================] - 1s 2ms/step - loss: 0.2811 - accuracy: 0.9533 - val_loss: 0.2712 - val_accuracy: 0.9588\n",
      "Epoch 21/100\n",
      "655/655 [==============================] - 1s 2ms/step - loss: 0.2709 - accuracy: 0.9568 - val_loss: 0.3174 - val_accuracy: 0.9313\n",
      "Epoch 22/100\n",
      "655/655 [==============================] - 1s 2ms/step - loss: 0.2793 - accuracy: 0.9511 - val_loss: 0.2726 - val_accuracy: 0.9588\n",
      "Epoch 23/100\n",
      "655/655 [==============================] - 1s 2ms/step - loss: 0.2838 - accuracy: 0.9507 - val_loss: 0.2450 - val_accuracy: 0.9629\n",
      "Epoch 24/100\n",
      "655/655 [==============================] - 1s 2ms/step - loss: 0.2754 - accuracy: 0.9521 - val_loss: 0.2503 - val_accuracy: 0.9588\n",
      "Epoch 25/100\n",
      "655/655 [==============================] - 1s 2ms/step - loss: 0.2809 - accuracy: 0.9493 - val_loss: 0.2900 - val_accuracy: 0.9396\n",
      "Epoch 26/100\n",
      "655/655 [==============================] - 1s 2ms/step - loss: 0.2739 - accuracy: 0.9522 - val_loss: 0.2776 - val_accuracy: 0.9560\n",
      "Epoch 27/100\n",
      "655/655 [==============================] - 1s 2ms/step - loss: 0.2698 - accuracy: 0.9539 - val_loss: 0.2692 - val_accuracy: 0.9560\n",
      "Epoch 28/100\n",
      "655/655 [==============================] - 1s 2ms/step - loss: 0.2596 - accuracy: 0.9557 - val_loss: 0.2889 - val_accuracy: 0.9505\n",
      "Epoch 29/100\n",
      "655/655 [==============================] - 1s 2ms/step - loss: 0.2713 - accuracy: 0.9504 - val_loss: 0.2604 - val_accuracy: 0.9574\n",
      "Epoch 30/100\n",
      "655/655 [==============================] - 1s 2ms/step - loss: 0.2852 - accuracy: 0.9481 - val_loss: 0.2688 - val_accuracy: 0.9602\n",
      "Epoch 31/100\n",
      "655/655 [==============================] - 1s 2ms/step - loss: 0.2611 - accuracy: 0.9574 - val_loss: 0.2747 - val_accuracy: 0.9478\n",
      "Epoch 32/100\n",
      "655/655 [==============================] - 1s 2ms/step - loss: 0.2794 - accuracy: 0.9485 - val_loss: 0.3109 - val_accuracy: 0.9313\n",
      "Epoch 33/100\n",
      "655/655 [==============================] - 1s 2ms/step - loss: 0.2679 - accuracy: 0.9522 - val_loss: 0.2630 - val_accuracy: 0.9602\n"
     ]
    }
   ],
   "source": [
    "L2_model_3 = build_L2_model_3()\n",
    "h_L2_3 = L2_model_3.fit(X_train2, y_train2, validation_data=(X_val, y_val), epochs=100, \n",
    "                    batch_size=10, callbacks=[es]).history"
   ]
  },
  {
   "cell_type": "code",
   "execution_count": 37,
   "id": "96f42c66",
   "metadata": {},
   "outputs": [
    {
     "name": "stdout",
     "output_type": "stream",
     "text": [
      "93/93 [==============================] - 0s 1ms/step - loss: 0.3750 - accuracy: 0.9091\n"
     ]
    },
    {
     "data": {
      "text/plain": [
       "[0.37495994567871094, 0.9090600609779358]"
      ]
     },
     "execution_count": 37,
     "metadata": {},
     "output_type": "execute_result"
    }
   ],
   "source": [
    "L2_model_3.evaluate(X_test, dummy_y_test)"
   ]
  },
  {
   "cell_type": "markdown",
   "id": "70b399a7",
   "metadata": {},
   "source": [
    "### DROPOUT"
   ]
  },
  {
   "cell_type": "code",
   "execution_count": 38,
   "id": "627e1aba",
   "metadata": {},
   "outputs": [],
   "source": [
    "from keras.layers import Dropout\n",
    "\n",
    "def build_DROPOUT_model():\n",
    "    # define the model\n",
    "    model = Sequential()\n",
    "\n",
    "    n_feature = X_train.shape[1]\n",
    "    #h_dim=100\n",
    "    model.add(Dense(128, activation='relu', input_shape=(n_feature,)))\n",
    "    model.add(Dropout(0.2))\n",
    "    model.add(Dense(64, activation='relu'))\n",
    "    #model.add(Dropout(0.2))\n",
    "    #model.add(Dense(h_dim, activation='relu'))\n",
    "    #model.add(Dropout(0.2))\n",
    "    #model.add(Dense(h_dim, activation='relu'))\n",
    "    #linear activation\n",
    "    model.add(Dense(6, activation='softmax'))\n",
    "\n",
    "    #compile the model\n",
    "    model.compile(loss='categorical_crossentropy', optimizer='adam', metrics=['accuracy'])\n",
    "    \n",
    "    return model"
   ]
  },
  {
   "cell_type": "code",
   "execution_count": 39,
   "id": "dd366c1e",
   "metadata": {
    "scrolled": true
   },
   "outputs": [
    {
     "name": "stdout",
     "output_type": "stream",
     "text": [
      "Epoch 1/100\n",
      "655/655 [==============================] - 2s 2ms/step - loss: 0.2665 - accuracy: 0.8965 - val_loss: 0.1858 - val_accuracy: 0.9341\n",
      "Epoch 2/100\n",
      "655/655 [==============================] - 1s 2ms/step - loss: 0.1184 - accuracy: 0.9563 - val_loss: 0.0735 - val_accuracy: 0.9712\n",
      "Epoch 3/100\n",
      "655/655 [==============================] - 1s 2ms/step - loss: 0.1031 - accuracy: 0.9608 - val_loss: 0.0571 - val_accuracy: 0.9794\n",
      "Epoch 4/100\n",
      "655/655 [==============================] - 1s 2ms/step - loss: 0.0891 - accuracy: 0.9664 - val_loss: 0.0576 - val_accuracy: 0.9725\n",
      "Epoch 5/100\n",
      "655/655 [==============================] - 1s 2ms/step - loss: 0.0645 - accuracy: 0.9766 - val_loss: 0.0515 - val_accuracy: 0.9780\n",
      "Epoch 6/100\n",
      "655/655 [==============================] - 1s 2ms/step - loss: 0.0686 - accuracy: 0.9734 - val_loss: 0.0655 - val_accuracy: 0.9766\n",
      "Epoch 7/100\n",
      "655/655 [==============================] - 1s 2ms/step - loss: 0.0660 - accuracy: 0.9766 - val_loss: 0.0952 - val_accuracy: 0.9684\n",
      "Epoch 8/100\n",
      "655/655 [==============================] - 1s 2ms/step - loss: 0.0566 - accuracy: 0.9794 - val_loss: 0.0888 - val_accuracy: 0.9725\n",
      "Epoch 9/100\n",
      "655/655 [==============================] - 1s 2ms/step - loss: 0.0498 - accuracy: 0.9817 - val_loss: 0.1050 - val_accuracy: 0.9588\n",
      "Epoch 10/100\n",
      "655/655 [==============================] - 1s 2ms/step - loss: 0.0502 - accuracy: 0.9805 - val_loss: 0.0603 - val_accuracy: 0.9766\n",
      "Epoch 11/100\n",
      "655/655 [==============================] - 1s 2ms/step - loss: 0.0684 - accuracy: 0.9771 - val_loss: 0.0924 - val_accuracy: 0.9684\n",
      "Epoch 12/100\n",
      "655/655 [==============================] - 1s 2ms/step - loss: 0.0429 - accuracy: 0.9826 - val_loss: 0.0494 - val_accuracy: 0.9794\n",
      "Epoch 13/100\n",
      "655/655 [==============================] - 1s 2ms/step - loss: 0.0278 - accuracy: 0.9887 - val_loss: 0.0437 - val_accuracy: 0.9808\n",
      "Epoch 14/100\n",
      "655/655 [==============================] - 1s 2ms/step - loss: 0.0500 - accuracy: 0.9820 - val_loss: 0.0574 - val_accuracy: 0.9794\n",
      "Epoch 15/100\n",
      "655/655 [==============================] - 1s 2ms/step - loss: 0.0381 - accuracy: 0.9843 - val_loss: 0.0536 - val_accuracy: 0.9794\n",
      "Epoch 16/100\n",
      "655/655 [==============================] - 1s 2ms/step - loss: 0.0359 - accuracy: 0.9875 - val_loss: 0.0517 - val_accuracy: 0.9849\n",
      "Epoch 17/100\n",
      "655/655 [==============================] - 1s 2ms/step - loss: 0.0276 - accuracy: 0.9907 - val_loss: 0.0406 - val_accuracy: 0.9876\n",
      "Epoch 18/100\n",
      "655/655 [==============================] - 1s 2ms/step - loss: 0.0367 - accuracy: 0.9879 - val_loss: 0.0735 - val_accuracy: 0.9739\n",
      "Epoch 19/100\n",
      "655/655 [==============================] - 1s 2ms/step - loss: 0.0341 - accuracy: 0.9887 - val_loss: 0.0336 - val_accuracy: 0.9849\n",
      "Epoch 20/100\n",
      "655/655 [==============================] - 1s 2ms/step - loss: 0.0253 - accuracy: 0.9910 - val_loss: 0.0712 - val_accuracy: 0.9698\n",
      "Epoch 21/100\n",
      "655/655 [==============================] - 1s 2ms/step - loss: 0.0342 - accuracy: 0.9887 - val_loss: 0.0337 - val_accuracy: 0.9835\n",
      "Epoch 22/100\n",
      "655/655 [==============================] - 1s 2ms/step - loss: 0.0370 - accuracy: 0.9892 - val_loss: 0.0343 - val_accuracy: 0.9890\n",
      "Epoch 23/100\n",
      "655/655 [==============================] - 1s 2ms/step - loss: 0.0150 - accuracy: 0.9948 - val_loss: 0.0380 - val_accuracy: 0.9863\n",
      "Epoch 24/100\n",
      "655/655 [==============================] - 1s 2ms/step - loss: 0.0217 - accuracy: 0.9928 - val_loss: 0.0489 - val_accuracy: 0.9835\n",
      "Epoch 25/100\n",
      "655/655 [==============================] - 1s 2ms/step - loss: 0.0248 - accuracy: 0.9915 - val_loss: 0.0329 - val_accuracy: 0.9876\n",
      "Epoch 26/100\n",
      "655/655 [==============================] - 1s 2ms/step - loss: 0.0173 - accuracy: 0.9947 - val_loss: 0.1081 - val_accuracy: 0.9684\n",
      "Epoch 27/100\n",
      "655/655 [==============================] - 1s 2ms/step - loss: 0.0335 - accuracy: 0.9905 - val_loss: 0.0362 - val_accuracy: 0.9890\n",
      "Epoch 28/100\n",
      "655/655 [==============================] - 1s 2ms/step - loss: 0.0433 - accuracy: 0.9860 - val_loss: 0.0374 - val_accuracy: 0.9876\n",
      "Epoch 29/100\n",
      "655/655 [==============================] - 1s 2ms/step - loss: 0.0182 - accuracy: 0.9939 - val_loss: 0.0395 - val_accuracy: 0.9876\n",
      "Epoch 30/100\n",
      "655/655 [==============================] - 1s 2ms/step - loss: 0.0228 - accuracy: 0.9925 - val_loss: 0.0964 - val_accuracy: 0.9794\n",
      "Epoch 31/100\n",
      "655/655 [==============================] - 1s 2ms/step - loss: 0.0254 - accuracy: 0.9927 - val_loss: 0.0373 - val_accuracy: 0.9849\n",
      "Epoch 32/100\n",
      "655/655 [==============================] - 1s 2ms/step - loss: 0.0231 - accuracy: 0.9924 - val_loss: 0.0832 - val_accuracy: 0.9849\n",
      "Epoch 33/100\n",
      "655/655 [==============================] - 1s 2ms/step - loss: 0.0154 - accuracy: 0.9933 - val_loss: 0.0323 - val_accuracy: 0.9904\n",
      "Epoch 34/100\n",
      "655/655 [==============================] - 1s 2ms/step - loss: 0.0103 - accuracy: 0.9966 - val_loss: 0.0355 - val_accuracy: 0.9890\n",
      "Epoch 35/100\n",
      "655/655 [==============================] - 1s 2ms/step - loss: 0.0363 - accuracy: 0.9902 - val_loss: 0.0753 - val_accuracy: 0.9753\n",
      "Epoch 36/100\n",
      "655/655 [==============================] - 1s 2ms/step - loss: 0.0153 - accuracy: 0.9954 - val_loss: 0.0461 - val_accuracy: 0.9876\n",
      "Epoch 37/100\n",
      "655/655 [==============================] - 1s 2ms/step - loss: 0.0123 - accuracy: 0.9956 - val_loss: 0.1147 - val_accuracy: 0.9739\n",
      "Epoch 38/100\n",
      "655/655 [==============================] - 1s 2ms/step - loss: 0.0248 - accuracy: 0.9931 - val_loss: 0.0541 - val_accuracy: 0.9794\n",
      "Epoch 39/100\n",
      "655/655 [==============================] - 1s 2ms/step - loss: 0.0159 - accuracy: 0.9950 - val_loss: 0.0560 - val_accuracy: 0.9794\n",
      "Epoch 40/100\n",
      "655/655 [==============================] - 1s 2ms/step - loss: 0.0288 - accuracy: 0.9930 - val_loss: 0.1217 - val_accuracy: 0.9766\n",
      "Epoch 41/100\n",
      "655/655 [==============================] - 1s 2ms/step - loss: 0.0174 - accuracy: 0.9942 - val_loss: 0.0504 - val_accuracy: 0.9863\n",
      "Epoch 42/100\n",
      "655/655 [==============================] - 1s 2ms/step - loss: 0.0138 - accuracy: 0.9957 - val_loss: 0.0881 - val_accuracy: 0.9890\n",
      "Epoch 43/100\n",
      "655/655 [==============================] - 1s 2ms/step - loss: 0.0275 - accuracy: 0.9924 - val_loss: 0.0459 - val_accuracy: 0.9863\n"
     ]
    }
   ],
   "source": [
    "DROPOUT_model = build_DROPOUT_model()\n",
    "h_DROPOUT = DROPOUT_model.fit(X_train2, y_train2, validation_data=(X_val, y_val), \n",
    "                              epochs=100, batch_size=10, callbacks=[es]).history"
   ]
  },
  {
   "cell_type": "code",
   "execution_count": 41,
   "id": "0595e225",
   "metadata": {},
   "outputs": [
    {
     "name": "stdout",
     "output_type": "stream",
     "text": [
      "93/93 [==============================] - 0s 1ms/step - loss: 0.3314 - accuracy: 0.9460\n"
     ]
    },
    {
     "data": {
      "text/plain": [
       "[0.33139973878860474, 0.9460468292236328]"
      ]
     },
     "execution_count": 41,
     "metadata": {},
     "output_type": "execute_result"
    }
   ],
   "source": [
    "DROPOUT_model.evaluate(X_test, dummy_y_test)"
   ]
  },
  {
   "cell_type": "code",
   "execution_count": 42,
   "id": "9b89b63b",
   "metadata": {},
   "outputs": [],
   "source": [
    "def build_DROPOUT_model_2():\n",
    "    # define the model\n",
    "    model = Sequential()\n",
    "\n",
    "    n_feature = X_train.shape[1]\n",
    "    #h_dim=100\n",
    "    model.add(Dense(128, activation='relu', input_shape=(n_feature,)))\n",
    "    model.add(Dropout(0.3))\n",
    "    model.add(Dense(64, activation='relu'))\n",
    "    #model.add(Dropout(0.2))\n",
    "    #model.add(Dense(h_dim, activation='relu'))\n",
    "    #model.add(Dropout(0.2))\n",
    "    #model.add(Dense(h_dim, activation='relu'))\n",
    "    #linear activation\n",
    "    model.add(Dense(6, activation='softmax'))\n",
    "\n",
    "    #compile the model\n",
    "    model.compile(loss='categorical_crossentropy', optimizer='adam', metrics=['accuracy'])\n",
    "    \n",
    "    return model"
   ]
  },
  {
   "cell_type": "code",
   "execution_count": 43,
   "id": "05459806",
   "metadata": {
    "scrolled": true
   },
   "outputs": [
    {
     "name": "stdout",
     "output_type": "stream",
     "text": [
      "Epoch 1/100\n",
      "655/655 [==============================] - 2s 2ms/step - loss: 0.3266 - accuracy: 0.8718 - val_loss: 0.1111 - val_accuracy: 0.9629\n",
      "Epoch 2/100\n",
      "655/655 [==============================] - 1s 2ms/step - loss: 0.1533 - accuracy: 0.9395 - val_loss: 0.0751 - val_accuracy: 0.9684\n",
      "Epoch 3/100\n",
      "655/655 [==============================] - 1s 2ms/step - loss: 0.1254 - accuracy: 0.9576 - val_loss: 0.0586 - val_accuracy: 0.9766\n",
      "Epoch 4/100\n",
      "655/655 [==============================] - 1s 2ms/step - loss: 0.0918 - accuracy: 0.9655 - val_loss: 0.0784 - val_accuracy: 0.9684\n",
      "Epoch 5/100\n",
      "655/655 [==============================] - 1s 2ms/step - loss: 0.0860 - accuracy: 0.9682 - val_loss: 0.0594 - val_accuracy: 0.9766\n",
      "Epoch 6/100\n",
      "655/655 [==============================] - 1s 2ms/step - loss: 0.0863 - accuracy: 0.9673 - val_loss: 0.0881 - val_accuracy: 0.9712\n",
      "Epoch 7/100\n",
      "655/655 [==============================] - 1s 2ms/step - loss: 0.0783 - accuracy: 0.9733 - val_loss: 0.0609 - val_accuracy: 0.9794\n",
      "Epoch 8/100\n",
      "655/655 [==============================] - 1s 2ms/step - loss: 0.0721 - accuracy: 0.9739 - val_loss: 0.0477 - val_accuracy: 0.9808\n",
      "Epoch 9/100\n",
      "655/655 [==============================] - 1s 2ms/step - loss: 0.0628 - accuracy: 0.9759 - val_loss: 0.0626 - val_accuracy: 0.9725\n",
      "Epoch 10/100\n",
      "655/655 [==============================] - 1s 2ms/step - loss: 0.0583 - accuracy: 0.9780 - val_loss: 0.0631 - val_accuracy: 0.9725\n",
      "Epoch 11/100\n",
      "655/655 [==============================] - 1s 2ms/step - loss: 0.0681 - accuracy: 0.9765 - val_loss: 0.0637 - val_accuracy: 0.9808\n",
      "Epoch 12/100\n",
      "655/655 [==============================] - 1s 2ms/step - loss: 0.0580 - accuracy: 0.9800 - val_loss: 0.0401 - val_accuracy: 0.9863\n",
      "Epoch 13/100\n",
      "655/655 [==============================] - 1s 2ms/step - loss: 0.0412 - accuracy: 0.9847 - val_loss: 0.1158 - val_accuracy: 0.9588\n",
      "Epoch 14/100\n",
      "655/655 [==============================] - 1s 2ms/step - loss: 0.0541 - accuracy: 0.9812 - val_loss: 0.1173 - val_accuracy: 0.9547\n",
      "Epoch 15/100\n",
      "655/655 [==============================] - 1s 2ms/step - loss: 0.0669 - accuracy: 0.9792 - val_loss: 0.0563 - val_accuracy: 0.9863\n",
      "Epoch 16/100\n",
      "655/655 [==============================] - 1s 2ms/step - loss: 0.0478 - accuracy: 0.9846 - val_loss: 0.0500 - val_accuracy: 0.9835\n",
      "Epoch 17/100\n",
      "655/655 [==============================] - 1s 2ms/step - loss: 0.0353 - accuracy: 0.9870 - val_loss: 0.0831 - val_accuracy: 0.9615\n",
      "Epoch 18/100\n",
      "655/655 [==============================] - 1s 2ms/step - loss: 0.0303 - accuracy: 0.9881 - val_loss: 0.0319 - val_accuracy: 0.9876\n",
      "Epoch 19/100\n",
      "655/655 [==============================] - 1s 2ms/step - loss: 0.0481 - accuracy: 0.9841 - val_loss: 0.0337 - val_accuracy: 0.9876\n",
      "Epoch 20/100\n",
      "655/655 [==============================] - 1s 2ms/step - loss: 0.0373 - accuracy: 0.9861 - val_loss: 0.0854 - val_accuracy: 0.9780\n",
      "Epoch 21/100\n",
      "655/655 [==============================] - 1s 2ms/step - loss: 0.0457 - accuracy: 0.9853 - val_loss: 0.0833 - val_accuracy: 0.9725\n",
      "Epoch 22/100\n",
      "655/655 [==============================] - 1s 2ms/step - loss: 0.0307 - accuracy: 0.9901 - val_loss: 0.0296 - val_accuracy: 0.9835\n",
      "Epoch 23/100\n",
      "655/655 [==============================] - 1s 2ms/step - loss: 0.0223 - accuracy: 0.9905 - val_loss: 0.0676 - val_accuracy: 0.9725\n",
      "Epoch 24/100\n",
      "655/655 [==============================] - 1s 2ms/step - loss: 0.0416 - accuracy: 0.9872 - val_loss: 0.0570 - val_accuracy: 0.9794\n",
      "Epoch 25/100\n",
      "655/655 [==============================] - 1s 2ms/step - loss: 0.0283 - accuracy: 0.9892 - val_loss: 0.0300 - val_accuracy: 0.9904\n",
      "Epoch 26/100\n",
      "655/655 [==============================] - 1s 2ms/step - loss: 0.0444 - accuracy: 0.9879 - val_loss: 0.0314 - val_accuracy: 0.9849\n",
      "Epoch 27/100\n",
      "655/655 [==============================] - 1s 2ms/step - loss: 0.0266 - accuracy: 0.9890 - val_loss: 0.0300 - val_accuracy: 0.9904\n",
      "Epoch 28/100\n",
      "655/655 [==============================] - 1s 2ms/step - loss: 0.0265 - accuracy: 0.9918 - val_loss: 0.0800 - val_accuracy: 0.9766\n",
      "Epoch 29/100\n",
      "655/655 [==============================] - 1s 2ms/step - loss: 0.0203 - accuracy: 0.9921 - val_loss: 0.0458 - val_accuracy: 0.9808\n",
      "Epoch 30/100\n",
      "655/655 [==============================] - 2s 2ms/step - loss: 0.0311 - accuracy: 0.9899 - val_loss: 0.0808 - val_accuracy: 0.9808\n",
      "Epoch 31/100\n",
      "655/655 [==============================] - 1s 2ms/step - loss: 0.0321 - accuracy: 0.9896 - val_loss: 0.0740 - val_accuracy: 0.9780\n",
      "Epoch 32/100\n",
      "655/655 [==============================] - 1s 2ms/step - loss: 0.0224 - accuracy: 0.9911 - val_loss: 0.0363 - val_accuracy: 0.9890\n"
     ]
    }
   ],
   "source": [
    "DROPOUT_model_2 = build_DROPOUT_model_2()\n",
    "h_DROPOUT_2 = DROPOUT_model_2.fit(X_train2, y_train2, validation_data=(X_val, y_val), \n",
    "                              epochs=100, batch_size=10, callbacks=[es]).history"
   ]
  },
  {
   "cell_type": "code",
   "execution_count": 44,
   "id": "80b1c8be",
   "metadata": {},
   "outputs": [
    {
     "name": "stdout",
     "output_type": "stream",
     "text": [
      "93/93 [==============================] - 0s 1ms/step - loss: 0.2861 - accuracy: 0.9484\n"
     ]
    },
    {
     "data": {
      "text/plain": [
       "[0.28611764311790466, 0.9484221339225769]"
      ]
     },
     "execution_count": 44,
     "metadata": {},
     "output_type": "execute_result"
    }
   ],
   "source": [
    "DROPOUT_model_2.evaluate(X_test, dummy_y_test)"
   ]
  },
  {
   "cell_type": "code",
   "execution_count": 45,
   "id": "666b20ce",
   "metadata": {},
   "outputs": [],
   "source": [
    "def build_DROPOUT_model_3():\n",
    "    # define the model\n",
    "    model = Sequential()\n",
    "\n",
    "    n_feature = X_train.shape[1]\n",
    "    #h_dim=100\n",
    "    model.add(Dense(128, activation='relu', input_shape=(n_feature,)))\n",
    "    model.add(Dropout(0.1))\n",
    "    model.add(Dense(64, activation='relu'))\n",
    "    #model.add(Dropout(0.2))\n",
    "    #model.add(Dense(h_dim, activation='relu'))\n",
    "    #model.add(Dropout(0.2))\n",
    "    #model.add(Dense(h_dim, activation='relu'))\n",
    "    #linear activation\n",
    "    model.add(Dense(6, activation='softmax'))\n",
    "\n",
    "    #compile the model\n",
    "    model.compile(loss='categorical_crossentropy', optimizer='adam', metrics=['accuracy'])\n",
    "    \n",
    "    return model"
   ]
  },
  {
   "cell_type": "code",
   "execution_count": 46,
   "id": "10fae379",
   "metadata": {
    "scrolled": true
   },
   "outputs": [
    {
     "name": "stdout",
     "output_type": "stream",
     "text": [
      "Epoch 1/100\n",
      "655/655 [==============================] - 2s 2ms/step - loss: 0.2422 - accuracy: 0.9058 - val_loss: 0.1081 - val_accuracy: 0.9547\n",
      "Epoch 2/100\n",
      "655/655 [==============================] - 1s 2ms/step - loss: 0.1046 - accuracy: 0.9586 - val_loss: 0.0728 - val_accuracy: 0.9698\n",
      "Epoch 3/100\n",
      "655/655 [==============================] - 1s 2ms/step - loss: 0.0974 - accuracy: 0.9638 - val_loss: 0.0679 - val_accuracy: 0.9739\n",
      "Epoch 4/100\n",
      "655/655 [==============================] - 1s 2ms/step - loss: 0.0706 - accuracy: 0.9692 - val_loss: 0.0549 - val_accuracy: 0.9794\n",
      "Epoch 5/100\n",
      "655/655 [==============================] - 1s 2ms/step - loss: 0.0752 - accuracy: 0.9745 - val_loss: 0.0962 - val_accuracy: 0.9615\n",
      "Epoch 6/100\n",
      "655/655 [==============================] - 1s 2ms/step - loss: 0.0601 - accuracy: 0.9786 - val_loss: 0.0752 - val_accuracy: 0.9739\n",
      "Epoch 7/100\n",
      "655/655 [==============================] - 1s 2ms/step - loss: 0.0698 - accuracy: 0.9742 - val_loss: 0.0842 - val_accuracy: 0.9766\n",
      "Epoch 8/100\n",
      "655/655 [==============================] - 1s 2ms/step - loss: 0.0398 - accuracy: 0.9856 - val_loss: 0.0547 - val_accuracy: 0.9712\n",
      "Epoch 9/100\n",
      "655/655 [==============================] - 1s 2ms/step - loss: 0.0420 - accuracy: 0.9831 - val_loss: 0.1000 - val_accuracy: 0.9629\n",
      "Epoch 10/100\n",
      "655/655 [==============================] - 1s 2ms/step - loss: 0.0510 - accuracy: 0.9844 - val_loss: 0.0561 - val_accuracy: 0.9821\n",
      "Epoch 11/100\n",
      "655/655 [==============================] - 1s 2ms/step - loss: 0.0298 - accuracy: 0.9889 - val_loss: 0.0346 - val_accuracy: 0.9849\n",
      "Epoch 12/100\n",
      "655/655 [==============================] - 1s 2ms/step - loss: 0.0503 - accuracy: 0.9824 - val_loss: 0.0427 - val_accuracy: 0.9863\n",
      "Epoch 13/100\n",
      "655/655 [==============================] - 1s 2ms/step - loss: 0.0392 - accuracy: 0.9876 - val_loss: 0.0769 - val_accuracy: 0.9780\n",
      "Epoch 14/100\n",
      "655/655 [==============================] - 1s 2ms/step - loss: 0.0330 - accuracy: 0.9887 - val_loss: 0.0512 - val_accuracy: 0.9890\n",
      "Epoch 15/100\n",
      "655/655 [==============================] - 1s 2ms/step - loss: 0.0271 - accuracy: 0.9899 - val_loss: 0.0578 - val_accuracy: 0.9849\n",
      "Epoch 16/100\n",
      "655/655 [==============================] - 1s 2ms/step - loss: 0.0393 - accuracy: 0.9869 - val_loss: 0.0671 - val_accuracy: 0.9780\n",
      "Epoch 17/100\n",
      "655/655 [==============================] - 1s 2ms/step - loss: 0.0239 - accuracy: 0.9918 - val_loss: 0.0737 - val_accuracy: 0.9821\n",
      "Epoch 18/100\n",
      "655/655 [==============================] - 1s 2ms/step - loss: 0.0216 - accuracy: 0.9924 - val_loss: 0.0447 - val_accuracy: 0.9849\n",
      "Epoch 19/100\n",
      "655/655 [==============================] - 1s 2ms/step - loss: 0.0345 - accuracy: 0.9911 - val_loss: 0.1676 - val_accuracy: 0.9464\n",
      "Epoch 20/100\n",
      "655/655 [==============================] - 1s 2ms/step - loss: 0.0194 - accuracy: 0.9927 - val_loss: 0.0454 - val_accuracy: 0.9863\n",
      "Epoch 21/100\n",
      "655/655 [==============================] - 1s 2ms/step - loss: 0.0238 - accuracy: 0.9925 - val_loss: 0.0757 - val_accuracy: 0.9849\n"
     ]
    }
   ],
   "source": [
    "DROPOUT_model_3 = build_DROPOUT_model_3()\n",
    "h_DROPOUT_3 = DROPOUT_model_3.fit(X_train2, y_train2, validation_data=(X_val, y_val), \n",
    "                              epochs=100, batch_size=10, callbacks=[es]).history"
   ]
  },
  {
   "cell_type": "code",
   "execution_count": 47,
   "id": "d7fbc9db",
   "metadata": {},
   "outputs": [
    {
     "name": "stdout",
     "output_type": "stream",
     "text": [
      "93/93 [==============================] - 0s 1ms/step - loss: 0.4634 - accuracy: 0.9223\n"
     ]
    },
    {
     "data": {
      "text/plain": [
       "[0.4633965790271759, 0.9222938418388367]"
      ]
     },
     "execution_count": 47,
     "metadata": {},
     "output_type": "execute_result"
    }
   ],
   "source": [
    "DROPOUT_model_3.evaluate(X_test, dummy_y_test)"
   ]
  },
  {
   "cell_type": "code",
   "execution_count": 48,
   "id": "cd4af2a1",
   "metadata": {},
   "outputs": [],
   "source": [
    "def build_DROPOUT_model_4():\n",
    "    # define the model\n",
    "    model = Sequential()\n",
    "\n",
    "    n_feature = X_train.shape[1]\n",
    "    #h_dim=100\n",
    "    model.add(Dense(128, activation='relu', input_shape=(n_feature,)))\n",
    "    model.add(Dropout(0.4))\n",
    "    model.add(Dense(64, activation='relu'))\n",
    "    #model.add(Dropout(0.2))\n",
    "    #model.add(Dense(h_dim, activation='relu'))\n",
    "    #model.add(Dropout(0.2))\n",
    "    #model.add(Dense(h_dim, activation='relu'))\n",
    "    #linear activation\n",
    "    model.add(Dense(6, activation='softmax'))\n",
    "\n",
    "    #compile the model\n",
    "    model.compile(loss='categorical_crossentropy', optimizer='adam', metrics=['accuracy'])\n",
    "    \n",
    "    return model"
   ]
  },
  {
   "cell_type": "code",
   "execution_count": 49,
   "id": "bd06714f",
   "metadata": {
    "scrolled": true
   },
   "outputs": [
    {
     "name": "stdout",
     "output_type": "stream",
     "text": [
      "Epoch 1/100\n",
      "655/655 [==============================] - 2s 2ms/step - loss: 0.3807 - accuracy: 0.8505 - val_loss: 0.1340 - val_accuracy: 0.9464\n",
      "Epoch 2/100\n",
      "655/655 [==============================] - 1s 2ms/step - loss: 0.1635 - accuracy: 0.9366 - val_loss: 0.0936 - val_accuracy: 0.9588\n",
      "Epoch 3/100\n",
      "655/655 [==============================] - 1s 2ms/step - loss: 0.1256 - accuracy: 0.9536 - val_loss: 0.0947 - val_accuracy: 0.9602\n",
      "Epoch 4/100\n",
      "655/655 [==============================] - 1s 2ms/step - loss: 0.1203 - accuracy: 0.9560 - val_loss: 0.0961 - val_accuracy: 0.9629\n",
      "Epoch 5/100\n",
      "655/655 [==============================] - 1s 2ms/step - loss: 0.1007 - accuracy: 0.9615 - val_loss: 0.0863 - val_accuracy: 0.9684\n",
      "Epoch 6/100\n",
      "655/655 [==============================] - 1s 2ms/step - loss: 0.1042 - accuracy: 0.9603 - val_loss: 0.0685 - val_accuracy: 0.9712\n",
      "Epoch 7/100\n",
      "655/655 [==============================] - 1s 2ms/step - loss: 0.0857 - accuracy: 0.9687 - val_loss: 0.0747 - val_accuracy: 0.9739\n",
      "Epoch 8/100\n",
      "655/655 [==============================] - 1s 2ms/step - loss: 0.0852 - accuracy: 0.9666 - val_loss: 0.1071 - val_accuracy: 0.9588\n",
      "Epoch 9/100\n",
      "655/655 [==============================] - 1s 2ms/step - loss: 0.0719 - accuracy: 0.9722 - val_loss: 0.0697 - val_accuracy: 0.9766\n",
      "Epoch 10/100\n",
      "655/655 [==============================] - 1s 2ms/step - loss: 0.0681 - accuracy: 0.9736 - val_loss: 0.0443 - val_accuracy: 0.9794\n",
      "Epoch 11/100\n",
      "655/655 [==============================] - 1s 2ms/step - loss: 0.0698 - accuracy: 0.9762 - val_loss: 0.0438 - val_accuracy: 0.9835\n",
      "Epoch 12/100\n",
      "655/655 [==============================] - 1s 2ms/step - loss: 0.0533 - accuracy: 0.9788 - val_loss: 0.0604 - val_accuracy: 0.9794\n",
      "Epoch 13/100\n",
      "655/655 [==============================] - 1s 2ms/step - loss: 0.0707 - accuracy: 0.9760 - val_loss: 0.0415 - val_accuracy: 0.9863\n",
      "Epoch 14/100\n",
      "655/655 [==============================] - 1s 2ms/step - loss: 0.0541 - accuracy: 0.9800 - val_loss: 0.0553 - val_accuracy: 0.9808\n",
      "Epoch 15/100\n",
      "655/655 [==============================] - 1s 2ms/step - loss: 0.0455 - accuracy: 0.9815 - val_loss: 0.0362 - val_accuracy: 0.9890\n",
      "Epoch 16/100\n",
      "655/655 [==============================] - 1s 2ms/step - loss: 0.0572 - accuracy: 0.9795 - val_loss: 0.0508 - val_accuracy: 0.9808\n",
      "Epoch 17/100\n",
      "655/655 [==============================] - 1s 2ms/step - loss: 0.0555 - accuracy: 0.9811 - val_loss: 0.0465 - val_accuracy: 0.9794\n",
      "Epoch 18/100\n",
      "655/655 [==============================] - 1s 2ms/step - loss: 0.0504 - accuracy: 0.9843 - val_loss: 0.0571 - val_accuracy: 0.9766\n",
      "Epoch 19/100\n",
      "655/655 [==============================] - 1s 2ms/step - loss: 0.0465 - accuracy: 0.9829 - val_loss: 0.0562 - val_accuracy: 0.9780\n",
      "Epoch 20/100\n",
      "655/655 [==============================] - 1s 2ms/step - loss: 0.0485 - accuracy: 0.9815 - val_loss: 0.0545 - val_accuracy: 0.9794\n",
      "Epoch 21/100\n",
      "655/655 [==============================] - 1s 2ms/step - loss: 0.0495 - accuracy: 0.9832 - val_loss: 0.0542 - val_accuracy: 0.9835\n",
      "Epoch 22/100\n",
      "655/655 [==============================] - 1s 2ms/step - loss: 0.0366 - accuracy: 0.9872 - val_loss: 0.0611 - val_accuracy: 0.9766\n",
      "Epoch 23/100\n",
      "655/655 [==============================] - 1s 2ms/step - loss: 0.0408 - accuracy: 0.9853 - val_loss: 0.0584 - val_accuracy: 0.9794\n",
      "Epoch 24/100\n",
      "655/655 [==============================] - 1s 2ms/step - loss: 0.0329 - accuracy: 0.9893 - val_loss: 0.0578 - val_accuracy: 0.9835\n",
      "Epoch 25/100\n",
      "655/655 [==============================] - 1s 2ms/step - loss: 0.0388 - accuracy: 0.9861 - val_loss: 0.0456 - val_accuracy: 0.9863\n"
     ]
    }
   ],
   "source": [
    "DROPOUT_model_4 = build_DROPOUT_model_4()\n",
    "h_DROPOUT_4 = DROPOUT_model_4.fit(X_train2, y_train2, validation_data=(X_val, y_val), \n",
    "                              epochs=100, batch_size=10, callbacks=[es]).history"
   ]
  },
  {
   "cell_type": "code",
   "execution_count": 50,
   "id": "4034025b",
   "metadata": {},
   "outputs": [
    {
     "name": "stdout",
     "output_type": "stream",
     "text": [
      "93/93 [==============================] - 0s 1ms/step - loss: 0.3382 - accuracy: 0.9393\n"
     ]
    },
    {
     "data": {
      "text/plain": [
       "[0.33821961283683777, 0.9392602443695068]"
      ]
     },
     "execution_count": 50,
     "metadata": {},
     "output_type": "execute_result"
    }
   ],
   "source": [
    "DROPOUT_model_4.evaluate(X_test, dummy_y_test)"
   ]
  }
 ],
 "metadata": {
  "kernelspec": {
   "display_name": "Python 3",
   "language": "python",
   "name": "python3"
  },
  "language_info": {
   "codemirror_mode": {
    "name": "ipython",
    "version": 3
   },
   "file_extension": ".py",
   "mimetype": "text/x-python",
   "name": "python",
   "nbconvert_exporter": "python",
   "pygments_lexer": "ipython3",
   "version": "3.11.1"
  },
  "vscode": {
   "interpreter": {
    "hash": "83bbea76cd4e0a75412f7c0275ae85744c819a0c5ea450c59d21b804f1344e0b"
   }
  }
 },
 "nbformat": 4,
 "nbformat_minor": 5
}
