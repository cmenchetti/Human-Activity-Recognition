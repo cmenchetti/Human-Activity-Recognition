{
 "cells": [
  {
   "attachments": {},
   "cell_type": "markdown",
   "id": "d7982dda",
   "metadata": {},
   "source": [
    "# Ensemble Classifiers"
   ]
  },
  {
   "cell_type": "code",
   "execution_count": 1,
   "id": "3a63fedc",
   "metadata": {},
   "outputs": [],
   "source": [
    "%matplotlib inline\n",
    "\n",
    "import numpy as np\n",
    "import pandas as pd\n",
    "import matplotlib.pyplot as plt\n",
    "from sklearn.metrics import accuracy_score, f1_score, classification_report\n",
    "from sklearn.metrics import roc_curve, auc, roc_auc_score\n",
    "from sklearn.model_selection import cross_val_score \n",
    "from sklearn.model_selection import RandomizedSearchCV, GridSearchCV\n",
    "from sklearn.model_selection import KFold\n",
    "\n",
    "import warnings\n",
    "warnings.filterwarnings('ignore')"
   ]
  },
  {
   "cell_type": "code",
   "execution_count": 2,
   "id": "477c928f",
   "metadata": {},
   "outputs": [],
   "source": [
    "# datasets\n",
    "X_train = pd.read_csv('.\\data\\csv_data\\X_TR_561_SENZA_OUTLIERS.csv')\n",
    "X_test = pd.read_csv('.\\data\\csv_data\\X_test.csv')\n",
    "y_train = pd.read_csv('.\\data\\csv_data\\Y_TR_561_SENZA_OUTLIERS.csv')\n",
    "y_test = pd.read_csv('.\\data\\csv_data\\y_test.csv')"
   ]
  },
  {
   "cell_type": "code",
   "execution_count": 3,
   "id": "0c2f49db",
   "metadata": {},
   "outputs": [],
   "source": [
    "# Target variable from integer to categorical\n",
    "y_train['Label'] = pd.Categorical(y_train[\"Label\"])\n",
    "y_test['Label'] = pd.Categorical(y_test[\"Label\"])"
   ]
  },
  {
   "cell_type": "code",
   "execution_count": 4,
   "id": "462ed26e",
   "metadata": {},
   "outputs": [
    {
     "name": "stdout",
     "output_type": "stream",
     "text": [
      "X_train:  (7278, 561)\n",
      "y_train:  (7278, 1)\n",
      "X_test:  (2947, 561)\n",
      "y_test:  (2947, 1)\n"
     ]
    }
   ],
   "source": [
    "print('X_train: ', X_train.shape)\n",
    "print('y_train: ', y_train.shape)\n",
    "print('X_test: ', X_test.shape)\n",
    "print('y_test: ', y_test.shape)"
   ]
  },
  {
   "cell_type": "markdown",
   "id": "4911aa54",
   "metadata": {},
   "source": [
    "# RANDOM FOREST"
   ]
  },
  {
   "cell_type": "code",
   "execution_count": 7,
   "id": "646583ca",
   "metadata": {},
   "outputs": [],
   "source": [
    "from sklearn.ensemble import RandomForestClassifier"
   ]
  },
  {
   "cell_type": "code",
   "execution_count": 9,
   "id": "78c93d79",
   "metadata": {},
   "outputs": [],
   "source": [
    "# clf random forest\n",
    "clf = RandomForestClassifier()\n",
    "\n",
    "# k folds per cross validation\n",
    "kf = KFold(n_splits=5, random_state=42, shuffle=True)\n",
    "\n",
    "# parametri per grid search\n",
    "param_list = {'max_depth': [3, 5, 10, 15, 20],\n",
    "             'n_estimators': [50, 100, 150, 200]}\n",
    "\n",
    "# grid search\n",
    "grid_search = GridSearchCV(clf, param_grid=param_list, cv=kf)\n",
    "grid_search.fit(X_train, y_train)\n",
    "\n",
    "# results of the grid search\n",
    "res = grid_search.cv_results_"
   ]
  },
  {
   "cell_type": "code",
   "execution_count": 10,
   "id": "569c7562",
   "metadata": {},
   "outputs": [],
   "source": [
    "# funzione del tutor per printare i risultati\n",
    "def report(results, n_top=3):\n",
    "    for i in range(1, n_top + 1):\n",
    "        candidates = np.flatnonzero(results['rank_test_score'] == i)\n",
    "        for candidate in candidates:\n",
    "            print(\"Model with rank: {0}\".format(i))\n",
    "            print(\"Mean validation score: {0:.3f} (std: {1:.3f})\".format(\n",
    "                  results['mean_test_score'][candidate],\n",
    "                  results['std_test_score'][candidate]))\n",
    "            print(\"Parameters: {0}\".format(results['params'][candidate]))\n",
    "            print(\"\")"
   ]
  },
  {
   "cell_type": "code",
   "execution_count": 11,
   "id": "5baaa9c4",
   "metadata": {
    "scrolled": true
   },
   "outputs": [
    {
     "name": "stdout",
     "output_type": "stream",
     "text": [
      "Model with rank: 1\n",
      "Mean validation score: 0.982 (std: 0.003)\n",
      "Parameters: {'max_depth': 20, 'n_estimators': 100}\n",
      "\n",
      "Model with rank: 2\n",
      "Mean validation score: 0.981 (std: 0.005)\n",
      "Parameters: {'max_depth': 20, 'n_estimators': 150}\n",
      "\n",
      "Model with rank: 3\n",
      "Mean validation score: 0.980 (std: 0.003)\n",
      "Parameters: {'max_depth': 20, 'n_estimators': 200}\n",
      "\n",
      "Model with rank: 4\n",
      "Mean validation score: 0.979 (std: 0.003)\n",
      "Parameters: {'max_depth': 15, 'n_estimators': 200}\n",
      "\n",
      "Model with rank: 5\n",
      "Mean validation score: 0.979 (std: 0.004)\n",
      "Parameters: {'max_depth': 15, 'n_estimators': 150}\n",
      "\n",
      "Model with rank: 6\n",
      "Mean validation score: 0.978 (std: 0.003)\n",
      "Parameters: {'max_depth': 20, 'n_estimators': 50}\n",
      "\n",
      "Model with rank: 7\n",
      "Mean validation score: 0.978 (std: 0.005)\n",
      "Parameters: {'max_depth': 15, 'n_estimators': 100}\n",
      "\n",
      "Model with rank: 8\n",
      "Mean validation score: 0.976 (std: 0.004)\n",
      "Parameters: {'max_depth': 15, 'n_estimators': 50}\n",
      "\n",
      "Model with rank: 9\n",
      "Mean validation score: 0.975 (std: 0.004)\n",
      "Parameters: {'max_depth': 10, 'n_estimators': 150}\n",
      "\n",
      "Model with rank: 10\n",
      "Mean validation score: 0.974 (std: 0.006)\n",
      "Parameters: {'max_depth': 10, 'n_estimators': 100}\n",
      "\n"
     ]
    }
   ],
   "source": [
    "# best parameter combinations\n",
    "report(res, n_top=10)"
   ]
  },
  {
   "cell_type": "code",
   "execution_count": 41,
   "id": "a7180ebb",
   "metadata": {},
   "outputs": [
    {
     "name": "stdout",
     "output_type": "stream",
     "text": [
      "\n",
      "              precision    recall  f1-score   support\n",
      "\n",
      "           1       0.89      0.97      0.93       496\n",
      "           2       0.89      0.90      0.90       471\n",
      "           3       0.97      0.85      0.90       420\n",
      "           4       0.92      0.88      0.90       491\n",
      "           5       0.89      0.92      0.91       532\n",
      "           6       1.00      1.00      1.00       537\n",
      "\n",
      "    accuracy                           0.93      2947\n",
      "   macro avg       0.93      0.92      0.92      2947\n",
      "weighted avg       0.93      0.93      0.92      2947\n",
      "\n"
     ]
    }
   ],
   "source": [
    "# RF \n",
    "clf = RandomForestClassifier(n_estimators=100 ,max_depth=20, random_state=42)\n",
    "clf.fit(X_train, y_train)\n",
    "\n",
    "y_pred = clf.predict(X_test)\n",
    "print('')\n",
    "print(classification_report(y_test, y_pred))"
   ]
  },
  {
   "cell_type": "code",
   "execution_count": 22,
   "id": "d7f274aa",
   "metadata": {},
   "outputs": [
    {
     "data": {
      "image/png": "[encoded data removed]",
      "text/plain": [
       "<Figure size 432x288 with 1 Axes>"
      ]
     },
     "metadata": {
      "needs_background": "light"
     },
     "output_type": "display_data"
    }
   ],
   "source": [
    "from scikitplot.metrics import plot_roc\n",
    "from scikitplot.metrics import plot_precision_recall\n",
    "\n",
    "y_score = clf.predict_proba(X_test)\n",
    "plot_roc(y_test, y_score)\n",
    "plt.show()"
   ]
  },
  {
   "cell_type": "code",
   "execution_count": 23,
   "id": "05e062af",
   "metadata": {},
   "outputs": [
    {
     "data": {
      "image/png": "[encoded data removed]",
      "text/plain": [
       "<Figure size 432x288 with 1 Axes>"
      ]
     },
     "metadata": {
      "needs_background": "light"
     },
     "output_type": "display_data"
    }
   ],
   "source": [
    "plot_precision_recall(y_test, y_score)\n",
    "plt.show()"
   ]
  },
  {
   "cell_type": "code",
   "execution_count": 54,
   "id": "3fb5761d",
   "metadata": {},
   "outputs": [
    {
     "data": {
      "image/png": "[encoded data removed]",
      "text/plain": [
       "<Figure size 432x360 with 1 Axes>"
      ]
     },
     "metadata": {
      "needs_background": "light"
     },
     "output_type": "display_data"
    }
   ],
   "source": [
    "# Plotting the most important features the trees splitted on\n",
    "nbr_features = 15\n",
    "tree_feature_importances = clf.feature_importances_\n",
    "sorted_idx = tree_feature_importances.argsort()[-nbr_features:]\n",
    "y_ticks = np.arange(0, len(sorted_idx))\n",
    "\n",
    "plt.figure(figsize=(6,5))\n",
    "plt.barh(y_ticks, tree_feature_importances[sorted_idx], color='grey')\n",
    "plt.yticks(y_ticks, np.array(X_train.columns)[sorted_idx])\n",
    "plt.title(\"Random Forest Feature Importances (MDI)\")\n",
    "plt.show()\n",
    "\n",
    "# Gini Importance or Mean Decrease in Impurity (MDI) calculates each feature importance as the sum over the number of splits (across all tress) \n",
    "# that include the feature, proportionally to the number of samples it splits."
   ]
  },
  {
   "cell_type": "code",
   "execution_count": 25,
   "id": "beca0405",
   "metadata": {},
   "outputs": [
    {
     "data": {
      "image/png": "[encoded data removed]",
      "text/plain": [
       "<Figure size 432x288 with 1 Axes>"
      ]
     },
     "metadata": {
      "needs_background": "light"
     },
     "output_type": "display_data"
    }
   ],
   "source": [
    "from sklearn.inspection import permutation_importance\n",
    "\n",
    "result = permutation_importance(clf, X_test, y_test, n_repeats=10, random_state=42, n_jobs=2)\n",
    "\n",
    "sorted_idx = result.importances_mean.argsort()[-nbr_features:]\n",
    "\n",
    "plt.boxplot(result.importances[sorted_idx].T, vert=False, labels=np.array(X_train.columns)[sorted_idx])\n",
    "plt.title(\"Permutation Importances (test set)\")\n",
    "plt.tight_layout()\n",
    "plt.show()"
   ]
  },
  {
   "cell_type": "markdown",
   "id": "d36de792",
   "metadata": {},
   "source": [
    "# BAGGING"
   ]
  },
  {
   "cell_type": "code",
   "execution_count": 5,
   "id": "9e7a1f91",
   "metadata": {},
   "outputs": [],
   "source": [
    "from sklearn.ensemble import BaggingClassifier\n",
    "from sklearn.tree import DecisionTreeClassifier"
   ]
  },
  {
   "cell_type": "markdown",
   "id": "b3f4aab1",
   "metadata": {},
   "source": [
    "> class sklearn.ensemble.BaggingClassifier(base_estimator=None, n_estimators=10, *, max_samples=1.0, max_features=1.0, bootstrap=True, bootstrap_features=False, oob_score=False, warm_start=False, n_jobs=None, random_state=None, verbose=0)\n",
    "\n",
    "se None, il classificatore è un albero con max_depth=1"
   ]
  },
  {
   "cell_type": "code",
   "execution_count": 34,
   "id": "f0f8688f",
   "metadata": {},
   "outputs": [],
   "source": [
    "# clf random forest\n",
    "clf = BaggingClassifier(DecisionTreeClassifier())\n",
    "\n",
    "# k folds per cross validation\n",
    "kf = KFold(n_splits=5, random_state=42, shuffle=True)\n",
    "\n",
    "# parametri per grid search\n",
    "param_list = {\n",
    "    'base_estimator__max_depth' : [1, 3, 5],\n",
    "    'n_estimators': [10, 50, 100]\n",
    "}\n",
    "\n",
    "# grid search\n",
    "grid_search = GridSearchCV(clf, param_grid=param_list, cv=kf)\n",
    "grid_search.fit(X_train, y_train)\n",
    "\n",
    "# results of the grid search\n",
    "res = grid_search.cv_results_"
   ]
  },
  {
   "cell_type": "code",
   "execution_count": 35,
   "id": "9ec7a8fa",
   "metadata": {},
   "outputs": [
    {
     "name": "stdout",
     "output_type": "stream",
     "text": [
      "Model with rank: 1\n",
      "Mean validation score: 0.925 (std: 0.010)\n",
      "Parameters: {'base_estimator__max_depth': 5, 'n_estimators': 50}\n",
      "\n",
      "Model with rank: 2\n",
      "Mean validation score: 0.923 (std: 0.007)\n",
      "Parameters: {'base_estimator__max_depth': 5, 'n_estimators': 100}\n",
      "\n",
      "Model with rank: 3\n",
      "Mean validation score: 0.920 (std: 0.006)\n",
      "Parameters: {'base_estimator__max_depth': 5, 'n_estimators': 10}\n",
      "\n",
      "Model with rank: 4\n",
      "Mean validation score: 0.788 (std: 0.007)\n",
      "Parameters: {'base_estimator__max_depth': 3, 'n_estimators': 10}\n",
      "\n",
      "Model with rank: 5\n",
      "Mean validation score: 0.788 (std: 0.007)\n",
      "Parameters: {'base_estimator__max_depth': 3, 'n_estimators': 100}\n",
      "\n",
      "Model with rank: 6\n",
      "Mean validation score: 0.787 (std: 0.006)\n",
      "Parameters: {'base_estimator__max_depth': 3, 'n_estimators': 50}\n",
      "\n",
      "Model with rank: 7\n",
      "Mean validation score: 0.378 (std: 0.012)\n",
      "Parameters: {'base_estimator__max_depth': 1, 'n_estimators': 10}\n",
      "\n",
      "Model with rank: 7\n",
      "Mean validation score: 0.378 (std: 0.012)\n",
      "Parameters: {'base_estimator__max_depth': 1, 'n_estimators': 50}\n",
      "\n",
      "Model with rank: 7\n",
      "Mean validation score: 0.378 (std: 0.012)\n",
      "Parameters: {'base_estimator__max_depth': 1, 'n_estimators': 100}\n",
      "\n"
     ]
    }
   ],
   "source": [
    "report(res, n_top=10)"
   ]
  },
  {
   "cell_type": "code",
   "execution_count": 40,
   "id": "fdc391f5",
   "metadata": {},
   "outputs": [
    {
     "name": "stdout",
     "output_type": "stream",
     "text": [
      "              precision    recall  f1-score   support\n",
      "\n",
      "           1       0.88      0.96      0.92       496\n",
      "           2       0.89      0.85      0.87       471\n",
      "           3       0.93      0.87      0.90       420\n",
      "           4       0.88      0.80      0.84       491\n",
      "           5       0.83      0.90      0.86       532\n",
      "           6       1.00      1.00      1.00       537\n",
      "\n",
      "    accuracy                           0.90      2947\n",
      "   macro avg       0.90      0.90      0.90      2947\n",
      "weighted avg       0.90      0.90      0.90      2947\n",
      "\n"
     ]
    }
   ],
   "source": [
    "clf = BaggingClassifier(base_estimator=None, n_estimators=100, random_state=42)\n",
    "clf.fit(X_train, y_train)\n",
    "\n",
    "y_pred = clf.predict(X_test)\n",
    "\n",
    "print(classification_report(y_test, y_pred))"
   ]
  },
  {
   "cell_type": "code",
   "execution_count": 28,
   "id": "7764a385",
   "metadata": {},
   "outputs": [
    {
     "name": "stdout",
     "output_type": "stream",
     "text": [
      "              precision    recall  f1-score   support\n",
      "\n",
      "           1       0.90      0.98      0.94       496\n",
      "           2       0.90      0.92      0.91       471\n",
      "           3       0.96      0.84      0.89       420\n",
      "           4       0.91      0.89      0.90       491\n",
      "           5       0.90      0.92      0.91       532\n",
      "           6       1.00      1.00      1.00       537\n",
      "\n",
      "    accuracy                           0.93      2947\n",
      "   macro avg       0.93      0.92      0.93      2947\n",
      "weighted avg       0.93      0.93      0.93      2947\n",
      "\n"
     ]
    }
   ],
   "source": [
    "clf = BaggingClassifier(base_estimator=RandomForestClassifier(n_estimators=100), n_estimators=100, random_state=42)\n",
    "clf.fit(X_train, y_train)\n",
    "\n",
    "y_pred = clf.predict(X_test)\n",
    "\n",
    "print(classification_report(y_test, y_pred))"
   ]
  },
  {
   "cell_type": "code",
   "execution_count": 6,
   "id": "a99e21ac",
   "metadata": {},
   "outputs": [],
   "source": [
    "# datasets per SVC\n",
    "X_train_151 = pd.read_csv('.\\data\\csv_data\\X_TR_151_SENZA_OUTLIERS.csv')\n",
    "X_test_151 = pd.read_csv('.\\data\\csv_data\\X_TST_151_SENZA_OUTLIERS.csv')\n",
    "y_train_151 = pd.read_csv('.\\data\\csv_data\\Y_TR_151_SENZA_OUTLIERS.csv')\n",
    "y_test_151 = pd.read_csv('.\\data\\csv_data\\y_test.csv')\n",
    "\n",
    "y_train_151['Label'] = pd.Categorical(y_train_151[\"Label\"])\n",
    "y_test_151['Label'] = pd.Categorical(y_test_151[\"Label\"])"
   ]
  },
  {
   "cell_type": "code",
   "execution_count": 7,
   "id": "98af1c59",
   "metadata": {},
   "outputs": [
    {
     "name": "stdout",
     "output_type": "stream",
     "text": [
      "              precision    recall  f1-score   support\n",
      "\n",
      "           1       0.94      1.00      0.97       496\n",
      "           2       0.95      0.92      0.94       471\n",
      "           3       0.97      0.94      0.96       420\n",
      "           4       0.94      0.90      0.92       491\n",
      "           5       0.91      0.94      0.93       532\n",
      "           6       1.00      1.00      1.00       537\n",
      "\n",
      "    accuracy                           0.95      2947\n",
      "   macro avg       0.95      0.95      0.95      2947\n",
      "weighted avg       0.95      0.95      0.95      2947\n",
      "\n"
     ]
    }
   ],
   "source": [
    "from sklearn.svm import SVC\n",
    "from sklearn.svm import LinearSVC\n",
    "\n",
    "clf = BaggingClassifier(base_estimator=SVC(C=1.0), n_estimators=10, random_state=42)\n",
    "clf.fit(X_train_151, y_train_151)\n",
    "\n",
    "y_pred = clf.predict(X_test_151)\n",
    "\n",
    "print(classification_report(y_test_151, y_pred))"
   ]
  },
  {
   "cell_type": "code",
   "execution_count": 10,
   "id": "d80d85a8",
   "metadata": {},
   "outputs": [
    {
     "name": "stdout",
     "output_type": "stream",
     "text": [
      "              precision    recall  f1-score   support\n",
      "\n",
      "           1       0.95      1.00      0.97       496\n",
      "           2       0.98      0.95      0.96       471\n",
      "           3       1.00      0.98      0.99       420\n",
      "           4       0.97      0.87      0.92       491\n",
      "           5       0.90      0.98      0.93       532\n",
      "           6       1.00      1.00      1.00       537\n",
      "\n",
      "    accuracy                           0.96      2947\n",
      "   macro avg       0.96      0.96      0.96      2947\n",
      "weighted avg       0.96      0.96      0.96      2947\n",
      "\n"
     ]
    }
   ],
   "source": [
    "clf = BaggingClassifier(base_estimator=LinearSVC(C=100), n_estimators=10, random_state=42)\n",
    "clf.fit(X_train, y_train)\n",
    "\n",
    "y_pred = clf.predict(X_test)\n",
    "\n",
    "print(classification_report(y_test, y_pred))"
   ]
  },
  {
   "cell_type": "code",
   "execution_count": 8,
   "id": "a6d4c29d",
   "metadata": {},
   "outputs": [
    {
     "name": "stdout",
     "output_type": "stream",
     "text": [
      "              precision    recall  f1-score   support\n",
      "\n",
      "           1       0.95      1.00      0.97       496\n",
      "           2       0.98      0.95      0.96       471\n",
      "           3       1.00      0.98      0.99       420\n",
      "           4       0.97      0.88      0.92       491\n",
      "           5       0.91      0.97      0.94       532\n",
      "           6       1.00      1.00      1.00       537\n",
      "\n",
      "    accuracy                           0.96      2947\n",
      "   macro avg       0.97      0.96      0.96      2947\n",
      "weighted avg       0.96      0.96      0.96      2947\n",
      "\n"
     ]
    }
   ],
   "source": [
    "clf = BaggingClassifier(base_estimator=LinearSVC(C=1000), n_estimators=10, random_state=42)\n",
    "clf.fit(X_train, y_train)\n",
    "\n",
    "y_pred = clf.predict(X_test)\n",
    "\n",
    "print(classification_report(y_test, y_pred))"
   ]
  },
  {
   "cell_type": "markdown",
   "id": "23b4b2c8",
   "metadata": {},
   "source": [
    "# BOOSTING "
   ]
  },
  {
   "cell_type": "code",
   "execution_count": 9,
   "id": "2fb0a7ab",
   "metadata": {},
   "outputs": [],
   "source": [
    "from sklearn.ensemble import AdaBoostClassifier"
   ]
  },
  {
   "cell_type": "markdown",
   "id": "bf161fce",
   "metadata": {},
   "source": [
    ">class sklearn.ensemble.AdaBoostClassifier(base_estimator=None, *, n_estimators=50, learning_rate=1.0, algorithm='SAMME.R', random_state=None)\n",
    "\n",
    "se None, il classificatore è un albero con max_depth=1"
   ]
  },
  {
   "cell_type": "code",
   "execution_count": 11,
   "id": "2ea80f80",
   "metadata": {},
   "outputs": [
    {
     "name": "stdout",
     "output_type": "stream",
     "text": [
      "              precision    recall  f1-score   support\n",
      "\n",
      "           1       0.94      0.98      0.96       496\n",
      "           2       0.90      0.93      0.92       471\n",
      "           3       0.96      0.89      0.92       420\n",
      "           4       0.95      0.86      0.90       491\n",
      "           5       0.88      0.95      0.92       532\n",
      "           6       1.00      1.00      1.00       537\n",
      "\n",
      "    accuracy                           0.94      2947\n",
      "   macro avg       0.94      0.93      0.94      2947\n",
      "weighted avg       0.94      0.94      0.94      2947\n",
      "\n"
     ]
    }
   ],
   "source": [
    "from sklearn.tree import DecisionTreeClassifier\n",
    "\n",
    "clf = AdaBoostClassifier(base_estimator=DecisionTreeClassifier(max_depth=15), n_estimators=100, random_state=42)\n",
    "clf.fit(X_train, y_train)\n",
    "\n",
    "y_pred = clf.predict(X_test)\n",
    "\n",
    "print(classification_report(y_test, y_pred))"
   ]
  },
  {
   "cell_type": "code",
   "execution_count": 12,
   "id": "4ccf2dd9",
   "metadata": {},
   "outputs": [
    {
     "name": "stdout",
     "output_type": "stream",
     "text": [
      "              precision    recall  f1-score   support\n",
      "\n",
      "           1       0.36      1.00      0.53       496\n",
      "           2       0.00      0.00      0.00       471\n",
      "           3       0.00      0.00      0.00       420\n",
      "           4       0.00      0.00      0.00       491\n",
      "           5       0.52      1.00      0.68       532\n",
      "           6       1.00      1.00      1.00       537\n",
      "\n",
      "    accuracy                           0.53      2947\n",
      "   macro avg       0.31      0.50      0.37      2947\n",
      "weighted avg       0.34      0.53      0.39      2947\n",
      "\n"
     ]
    }
   ],
   "source": [
    "clf = AdaBoostClassifier(base_estimator=None, n_estimators=100, random_state=42)\n",
    "clf.fit(X_train, y_train)\n",
    "\n",
    "y_pred = clf.predict(X_test)\n",
    "\n",
    "print(classification_report(y_test, y_pred))"
   ]
  },
  {
   "cell_type": "code",
   "execution_count": 32,
   "id": "2bc47571",
   "metadata": {},
   "outputs": [
    {
     "name": "stdout",
     "output_type": "stream",
     "text": [
      "              precision    recall  f1-score   support\n",
      "\n",
      "           1       0.90      0.97      0.94       496\n",
      "           2       0.88      0.92      0.90       471\n",
      "           3       0.97      0.84      0.90       420\n",
      "           4       0.91      0.89      0.90       491\n",
      "           5       0.90      0.92      0.91       532\n",
      "           6       1.00      1.00      1.00       537\n",
      "\n",
      "    accuracy                           0.93      2947\n",
      "   macro avg       0.93      0.92      0.93      2947\n",
      "weighted avg       0.93      0.93      0.93      2947\n",
      "\n"
     ]
    }
   ],
   "source": [
    "clf = AdaBoostClassifier(base_estimator=RandomForestClassifier(n_estimators=100), n_estimators=100, random_state=42)\n",
    "clf.fit(X_train, y_train)\n",
    "\n",
    "y_pred = clf.predict(X_test)\n",
    "\n",
    "print(classification_report(y_test, y_pred))"
   ]
  }
 ],
 "metadata": {
  "kernelspec": {
   "display_name": "Python 3",
   "language": "python",
   "name": "python3"
  },
  "language_info": {
   "codemirror_mode": {
    "name": "ipython",
    "version": 3
   },
   "file_extension": ".py",
   "mimetype": "text/x-python",
   "name": "python",
   "nbconvert_exporter": "python",
   "pygments_lexer": "ipython3",
   "version": "3.8.8"
  }
 },
 "nbformat": 4,
 "nbformat_minor": 5
}
