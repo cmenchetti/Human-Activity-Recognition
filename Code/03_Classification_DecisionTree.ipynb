{
 "cells": [
  {
   "cell_type": "code",
   "execution_count": 1,
   "id": "bd954758",
   "metadata": {},
   "outputs": [],
   "source": [
    "%matplotlib inline\n",
    "\n",
    "import numpy as np\n",
    "import pandas as pd\n",
    "import seaborn as sns\n",
    "import matplotlib.pyplot as plt\n",
    "\n",
    "from sklearn.tree import DecisionTreeClassifier\n",
    "from sklearn.metrics import roc_curve, auc, roc_auc_score\n",
    "from sklearn.model_selection import cross_val_score \n",
    "from collections import Counter\n",
    "from collections import defaultdict\n",
    "from sklearn.metrics import accuracy_score, classification_report\n",
    "from sklearn.model_selection import GridSearchCV\n",
    "from sklearn.model_selection import KFold\n",
    "from sklearn.decomposition import PCA\n",
    "from sklearn.preprocessing import StandardScaler\n",
    "\n",
    "import warnings\n",
    "warnings.filterwarnings('ignore')"
   ]
  },
  {
   "cell_type": "code",
   "execution_count": 2,
   "id": "bccb5329",
   "metadata": {},
   "outputs": [],
   "source": [
    "# datasets\n",
    "X_train = pd.read_csv('.\\data\\csv_data\\X_train.csv')\n",
    "X_test = pd.read_csv('.\\data\\csv_data\\X_test.csv')\n",
    "y_train = pd.read_csv('.\\data\\csv_data\\y_train.csv')\n",
    "y_test = pd.read_csv('.\\data\\csv_data\\y_test.csv')\n",
    "X_train_151var = pd.read_csv('.\\data\\csv_data\\TRAINING_SET_DM2.csv')"
   ]
  },
  {
   "cell_type": "code",
   "execution_count": 3,
   "id": "2133039c",
   "metadata": {},
   "outputs": [
    {
     "data": {
      "text/plain": [
       "(7352, 561)"
      ]
     },
     "execution_count": 3,
     "metadata": {},
     "output_type": "execute_result"
    }
   ],
   "source": [
    "X_train.shape"
   ]
  },
  {
   "cell_type": "code",
   "execution_count": 4,
   "id": "7ec92523",
   "metadata": {},
   "outputs": [],
   "source": [
    "# Target variable from integer to categorical\n",
    "y_train['Label'] = pd.Categorical(y_train[\"Label\"])\n",
    "y_test['Label'] = pd.Categorical(y_test[\"Label\"])"
   ]
  },
  {
   "cell_type": "markdown",
   "id": "2d214035",
   "metadata": {},
   "source": [
    "# 1. Decision Tree Classifier"
   ]
  },
  {
   "cell_type": "markdown",
   "id": "3cda47c2",
   "metadata": {},
   "source": [
    ">class sklearn.tree.DecisionTreeClassifier(*, criterion='gini', splitter='best', max_depth=None, min_samples_split=2, min_samples_leaf=1, min_weight_fraction_leaf=0.0, max_features=None, random_state=None, max_leaf_nodes=None, min_impurity_decrease=0.0, class_weight=None, ccp_alpha=0.0)"
   ]
  },
  {
   "cell_type": "markdown",
   "id": "2862cadf",
   "metadata": {},
   "source": [
    "### 1.1 DecisionTree su X_train (training set originale)"
   ]
  },
  {
   "cell_type": "code",
   "execution_count": 5,
   "id": "44a68b4a",
   "metadata": {},
   "outputs": [
    {
     "name": "stdout",
     "output_type": "stream",
     "text": [
      "              precision    recall  f1-score   support\n",
      "\n",
      "           1       0.83      0.92      0.87       496\n",
      "           2       0.83      0.78      0.80       471\n",
      "           3       0.89      0.83      0.86       420\n",
      "           4       0.83      0.76      0.80       491\n",
      "           5       0.80      0.86      0.83       532\n",
      "           6       1.00      1.00      1.00       537\n",
      "\n",
      "    accuracy                           0.86      2947\n",
      "   macro avg       0.86      0.86      0.86      2947\n",
      "weighted avg       0.86      0.86      0.86      2947\n",
      "\n"
     ]
    }
   ],
   "source": [
    "# DT senza parameter tuning\n",
    "clf = DecisionTreeClassifier(random_state=42)\n",
    "clf.fit(X_train, y_train)\n",
    "\n",
    "y_pred = clf.predict(X_test)\n",
    "\n",
    "print(classification_report(y_test, y_pred))"
   ]
  },
  {
   "cell_type": "markdown",
   "id": "e943a82f",
   "metadata": {},
   "source": [
    "#### Parameter tuning"
   ]
  },
  {
   "cell_type": "code",
   "execution_count": 7,
   "id": "170a3c1e",
   "metadata": {},
   "outputs": [],
   "source": [
    "# k folds per cross validation\n",
    "kf = KFold(n_splits=5, random_state=42, shuffle=True)\n",
    "\n",
    "# parametri per grid search\n",
    "param_list = {'max_depth': [5, 10, 15],\n",
    "             'min_samples_split': [5, 10, 20],\n",
    "             'min_samples_leaf': [1, 5]\n",
    "             }\n",
    "\n",
    "\n",
    "grid_search = GridSearchCV(clf, param_grid=param_list, cv=kf)\n",
    "grid_search.fit(X_train, y_train)\n",
    "\n",
    "# results of the grid search\n",
    "res = grid_search.cv_results_"
   ]
  },
  {
   "cell_type": "code",
   "execution_count": 8,
   "id": "0ca2d92b",
   "metadata": {},
   "outputs": [],
   "source": [
    "# funzione del tutor per printare i risultati\n",
    "def report(results, n_top=3):\n",
    "    for i in range(1, n_top + 1):\n",
    "        candidates = np.flatnonzero(results['rank_test_score'] == i)\n",
    "        for candidate in candidates:\n",
    "            print(\"Model with rank: {0}\".format(i))\n",
    "            print(\"Mean validation score: {0:.3f} (std: {1:.3f})\".format(\n",
    "                  results['mean_test_score'][candidate],\n",
    "                  results['std_test_score'][candidate]))\n",
    "            print(\"Parameters: {0}\".format(results['params'][candidate]))\n",
    "            print(\"\")"
   ]
  },
  {
   "cell_type": "code",
   "execution_count": 38,
   "id": "740c8a65",
   "metadata": {
    "scrolled": true
   },
   "outputs": [
    {
     "name": "stdout",
     "output_type": "stream",
     "text": [
      "Model with rank: 1\n",
      "Mean validation score: 0.942 (std: 0.004)\n",
      "Parameters: {'max_depth': 10, 'min_samples_leaf': 1, 'min_samples_split': 2}\n",
      "\n",
      "Model with rank: 2\n",
      "Mean validation score: 0.941 (std: 0.004)\n",
      "Parameters: {'max_depth': 10, 'min_samples_leaf': 7, 'min_samples_split': 2}\n",
      "\n",
      "Model with rank: 2\n",
      "Mean validation score: 0.941 (std: 0.004)\n",
      "Parameters: {'max_depth': 10, 'min_samples_leaf': 7, 'min_samples_split': 5}\n",
      "\n",
      "Model with rank: 2\n",
      "Mean validation score: 0.941 (std: 0.004)\n",
      "Parameters: {'max_depth': 10, 'min_samples_leaf': 7, 'min_samples_split': 7}\n",
      "\n",
      "Model with rank: 2\n",
      "Mean validation score: 0.941 (std: 0.004)\n",
      "Parameters: {'max_depth': 10, 'min_samples_leaf': 7, 'min_samples_split': 10}\n",
      "\n",
      "Model with rank: 6\n",
      "Mean validation score: 0.940 (std: 0.004)\n",
      "Parameters: {'max_depth': 10, 'min_samples_leaf': 1, 'min_samples_split': 7}\n",
      "\n",
      "Model with rank: 7\n",
      "Mean validation score: 0.940 (std: 0.003)\n",
      "Parameters: {'max_depth': 15, 'min_samples_leaf': 7, 'min_samples_split': 2}\n",
      "\n",
      "Model with rank: 7\n",
      "Mean validation score: 0.940 (std: 0.003)\n",
      "Parameters: {'max_depth': 15, 'min_samples_leaf': 7, 'min_samples_split': 5}\n",
      "\n",
      "Model with rank: 7\n",
      "Mean validation score: 0.940 (std: 0.003)\n",
      "Parameters: {'max_depth': 15, 'min_samples_leaf': 7, 'min_samples_split': 7}\n",
      "\n",
      "Model with rank: 7\n",
      "Mean validation score: 0.940 (std: 0.003)\n",
      "Parameters: {'max_depth': 15, 'min_samples_leaf': 7, 'min_samples_split': 10}\n",
      "\n",
      "Model with rank: 7\n",
      "Mean validation score: 0.940 (std: 0.003)\n",
      "Parameters: {'max_depth': 20, 'min_samples_leaf': 7, 'min_samples_split': 2}\n",
      "\n",
      "Model with rank: 7\n",
      "Mean validation score: 0.940 (std: 0.003)\n",
      "Parameters: {'max_depth': 20, 'min_samples_leaf': 7, 'min_samples_split': 5}\n",
      "\n",
      "Model with rank: 7\n",
      "Mean validation score: 0.940 (std: 0.003)\n",
      "Parameters: {'max_depth': 20, 'min_samples_leaf': 7, 'min_samples_split': 7}\n",
      "\n",
      "Model with rank: 7\n",
      "Mean validation score: 0.940 (std: 0.003)\n",
      "Parameters: {'max_depth': 20, 'min_samples_leaf': 7, 'min_samples_split': 10}\n",
      "\n",
      "Model with rank: 7\n",
      "Mean validation score: 0.940 (std: 0.003)\n",
      "Parameters: {'max_depth': None, 'min_samples_leaf': 7, 'min_samples_split': 2}\n",
      "\n",
      "Model with rank: 7\n",
      "Mean validation score: 0.940 (std: 0.003)\n",
      "Parameters: {'max_depth': None, 'min_samples_leaf': 7, 'min_samples_split': 5}\n",
      "\n",
      "Model with rank: 7\n",
      "Mean validation score: 0.940 (std: 0.003)\n",
      "Parameters: {'max_depth': None, 'min_samples_leaf': 7, 'min_samples_split': 7}\n",
      "\n",
      "Model with rank: 7\n",
      "Mean validation score: 0.940 (std: 0.003)\n",
      "Parameters: {'max_depth': None, 'min_samples_leaf': 7, 'min_samples_split': 10}\n",
      "\n",
      "Model with rank: 19\n",
      "Mean validation score: 0.940 (std: 0.004)\n",
      "Parameters: {'max_depth': 10, 'min_samples_leaf': 1, 'min_samples_split': 5}\n",
      "\n",
      "Model with rank: 20\n",
      "Mean validation score: 0.939 (std: 0.003)\n",
      "Parameters: {'max_depth': 10, 'min_samples_leaf': 1, 'min_samples_split': 10}\n",
      "\n",
      "Model with rank: 21\n",
      "Mean validation score: 0.939 (std: 0.004)\n",
      "Parameters: {'max_depth': 13, 'min_samples_leaf': 1, 'min_samples_split': 2}\n",
      "\n",
      "Model with rank: 22\n",
      "Mean validation score: 0.939 (std: 0.003)\n",
      "Parameters: {'max_depth': 13, 'min_samples_leaf': 7, 'min_samples_split': 2}\n",
      "\n",
      "Model with rank: 22\n",
      "Mean validation score: 0.939 (std: 0.003)\n",
      "Parameters: {'max_depth': 13, 'min_samples_leaf': 7, 'min_samples_split': 5}\n",
      "\n",
      "Model with rank: 22\n",
      "Mean validation score: 0.939 (std: 0.003)\n",
      "Parameters: {'max_depth': 13, 'min_samples_leaf': 7, 'min_samples_split': 7}\n",
      "\n",
      "Model with rank: 22\n",
      "Mean validation score: 0.939 (std: 0.003)\n",
      "Parameters: {'max_depth': 13, 'min_samples_leaf': 7, 'min_samples_split': 10}\n",
      "\n"
     ]
    }
   ],
   "source": [
    "# best 3 parameter combinations\n",
    "report(res, n_top=25)"
   ]
  },
  {
   "cell_type": "code",
   "execution_count": 22,
   "id": "489ae2b4",
   "metadata": {},
   "outputs": [
    {
     "name": "stdout",
     "output_type": "stream",
     "text": [
      " \n",
      " \n",
      "              precision    recall  f1-score   support\n",
      "\n",
      "           1       0.83      0.95      0.89       496\n",
      "           2       0.87      0.78      0.82       471\n",
      "           3       0.89      0.84      0.86       420\n",
      "           4       0.87      0.76      0.81       491\n",
      "           5       0.80      0.89      0.85       532\n",
      "           6       1.00      1.00      1.00       537\n",
      "\n",
      "    accuracy                           0.88      2947\n",
      "   macro avg       0.88      0.87      0.87      2947\n",
      "weighted avg       0.88      0.88      0.87      2947\n",
      "\n"
     ]
    }
   ],
   "source": [
    "# DT con parameter tuning (Model with rank: 1)\n",
    "clf = DecisionTreeClassifier(max_depth=10, min_samples_leaf=7, min_samples_split=10, random_state=42)\n",
    "clf.fit(X_train, y_train)\n",
    "\n",
    "y_pred = clf.predict(X_test)\n",
    "\n",
    "#print('Accuracy %s' % accuracy_score(y_test, y_pred))\n",
    "print(classification_report(y_test, y_pred))"
   ]
  },
  {
   "cell_type": "code",
   "execution_count": 23,
   "id": "02edd24c",
   "metadata": {},
   "outputs": [
    {
     "data": {
      "text/plain": [
       "<sklearn.metrics._plot.confusion_matrix.ConfusionMatrixDisplay at 0x1af0deb7a60>"
      ]
     },
     "execution_count": 23,
     "metadata": {},
     "output_type": "execute_result"
    },
    {
     "data": {
      "image/png": "[encoded data removed]",
      "text/plain": [
       "<Figure size 432x288 with 1 Axes>"
      ]
     },
     "metadata": {
      "needs_background": "light"
     },
     "output_type": "display_data"
    }
   ],
   "source": [
    "from sklearn.metrics import plot_confusion_matrix\n",
    "plot_confusion_matrix(clf, X_test, y_test, cmap='Greys', colorbar=False)"
   ]
  },
  {
   "cell_type": "code",
   "execution_count": 24,
   "id": "4fe29794",
   "metadata": {},
   "outputs": [],
   "source": [
    "from scikitplot.metrics import plot_roc\n",
    "from scikitplot.metrics import plot_precision_recall"
   ]
  },
  {
   "cell_type": "code",
   "execution_count": 25,
   "id": "5844a755",
   "metadata": {},
   "outputs": [
    {
     "data": {
      "image/png": "[encoded data removed]",
      "text/plain": [
       "<Figure size 432x288 with 1 Axes>"
      ]
     },
     "metadata": {
      "needs_background": "light"
     },
     "output_type": "display_data"
    }
   ],
   "source": [
    "y_score = clf.predict_proba(X_test)\n",
    "plot_roc(y_test, y_score)\n",
    "plt.show()"
   ]
  },
  {
   "cell_type": "code",
   "execution_count": 26,
   "id": "b1eea3e1",
   "metadata": {},
   "outputs": [
    {
     "data": {
      "image/png": "[encoded data removed]",
      "text/plain": [
       "<Figure size 432x288 with 1 Axes>"
      ]
     },
     "metadata": {
      "needs_background": "light"
     },
     "output_type": "display_data"
    }
   ],
   "source": [
    "plot_precision_recall(y_test, y_score)\n",
    "plt.show()"
   ]
  },
  {
   "cell_type": "code",
   "execution_count": 56,
   "id": "cc0acede",
   "metadata": {},
   "outputs": [
    {
     "data": {
      "image/png": "[encoded data removed]",
      "text/plain": [
       "<Figure size 432x288 with 1 Axes>"
      ]
     },
     "metadata": {
      "needs_background": "light"
     },
     "output_type": "display_data"
    }
   ],
   "source": [
    "max_depths = np.linspace(1, 32, 32, endpoint=True)\n",
    "train_results = []\n",
    "test_results = []\n",
    "for max_depth in max_depths:\n",
    "    dt = DecisionTreeClassifier(max_depth=max_depth)\n",
    "    dt.fit(X_train, y_train)\n",
    "    train_pred = dt.predict(X_train)\n",
    "    accuracy = accuracy_score(y_train, train_pred)\n",
    "    # Add auc score to previous train results\n",
    "    train_results.append(accuracy)\n",
    "    \n",
    "    y_pred = dt.predict(X_test)\n",
    "    accuracy_test = accuracy_score(y_test, y_pred)\n",
    "    # Add auc score to previous test results\n",
    "    test_results.append(accuracy_test)\n",
    "\n",
    "from matplotlib.legend_handler import HandlerLine2D\n",
    "line1, = plt.plot(max_depths, train_results, 'b', label='Train accuracy')\n",
    "line2, = plt.plot(max_depths, test_results, 'r', label='Test accuracy')\n",
    "plt.legend(handler_map={line1: HandlerLine2D(numpoints=2)})\n",
    "plt.ylabel('Accuracy score')\n",
    "plt.xlabel('Tree max depth')\n",
    "plt.show()"
   ]
  },
  {
   "cell_type": "code",
   "execution_count": 73,
   "id": "a6ee00c9",
   "metadata": {},
   "outputs": [
    {
     "data": {
      "image/png": "[encoded data removed]",
      "text/plain": [
       "<Figure size 432x288 with 1 Axes>"
      ]
     },
     "metadata": {
      "needs_background": "light"
     },
     "output_type": "display_data"
    }
   ],
   "source": [
    "min_samples = np.linspace(2, 41, 40, endpoint=True, dtype=int)\n",
    "train_results = []\n",
    "test_results = []\n",
    "for min_samples_split in min_samples:\n",
    "    dt = DecisionTreeClassifier(min_samples_split=min_samples_split)\n",
    "    dt.fit(X_train, y_train)\n",
    "    train_pred = dt.predict(X_train)\n",
    "    accuracy = accuracy_score(y_train, train_pred)\n",
    "    # Add auc score to previous train results\n",
    "    train_results.append(accuracy)\n",
    "    \n",
    "    y_pred = dt.predict(X_test)\n",
    "    accuracy_test = accuracy_score(y_test, y_pred)\n",
    "    # Add auc score to previous test results\n",
    "    test_results.append(accuracy_test)\n",
    "\n",
    "from matplotlib.legend_handler import HandlerLine2D\n",
    "line1, = plt.plot(min_samples, train_results, 'b', label='Train accuracy')\n",
    "line2, = plt.plot(min_samples, test_results, 'r', label='Test accuracy')\n",
    "plt.legend(handler_map={line1: HandlerLine2D(numpoints=2)})\n",
    "plt.ylabel('Accuracy score')\n",
    "plt.xlabel('Tree min samples split')\n",
    "plt.show()\n"
   ]
  },
  {
   "cell_type": "code",
   "execution_count": 74,
   "id": "61c43160",
   "metadata": {},
   "outputs": [
    {
     "data": {
      "image/png": "[encoded data removed]",
      "text/plain": [
       "<Figure size 432x288 with 1 Axes>"
      ]
     },
     "metadata": {
      "needs_background": "light"
     },
     "output_type": "display_data"
    }
   ],
   "source": [
    "min_samples = np.linspace(0.1, 1.0, 20, endpoint=True)\n",
    "train_results = []\n",
    "test_results = []\n",
    "for min_samples_split in min_samples:\n",
    "    dt = DecisionTreeClassifier(min_samples_split=min_samples_split)\n",
    "    dt.fit(X_train, y_train)\n",
    "    train_pred = dt.predict(X_train)\n",
    "    accuracy = accuracy_score(y_train, train_pred)\n",
    "    # Add auc score to previous train results\n",
    "    train_results.append(accuracy)\n",
    "    \n",
    "    y_pred = dt.predict(X_test)\n",
    "    accuracy_test = accuracy_score(y_test, y_pred)\n",
    "    # Add auc score to previous test results\n",
    "    test_results.append(accuracy_test)\n",
    "\n",
    "from matplotlib.legend_handler import HandlerLine2D\n",
    "line1, = plt.plot(min_samples, train_results, 'b', label='Train accuracy')\n",
    "line2, = plt.plot(min_samples, test_results, 'r', label='Test accuracy')\n",
    "plt.legend(handler_map={line1: HandlerLine2D(numpoints=2)})\n",
    "plt.ylabel('Accuracy score')\n",
    "plt.xlabel('Tree min samples split')\n",
    "plt.show()"
   ]
  },
  {
   "cell_type": "code",
   "execution_count": 88,
   "id": "5be27d7a",
   "metadata": {},
   "outputs": [
    {
     "data": {
      "image/png": "[encoded data removed]",
      "text/plain": [
       "<Figure size 432x288 with 1 Axes>"
      ]
     },
     "metadata": {
      "needs_background": "light"
     },
     "output_type": "display_data"
    }
   ],
   "source": [
    "min_samples = np.linspace(2, 21, 20, endpoint=True, dtype=int)\n",
    "train_results = []\n",
    "test_results = []\n",
    "for min_samples_split in min_samples:\n",
    "    dt = DecisionTreeClassifier(min_samples_leaf=min_samples_split)\n",
    "    dt.fit(X_train, y_train)\n",
    "    train_pred = dt.predict(X_train)\n",
    "    accuracy = accuracy_score(y_train, train_pred)\n",
    "    # Add auc score to previous train results\n",
    "    train_results.append(accuracy)\n",
    "    \n",
    "    y_pred = dt.predict(X_test)\n",
    "    accuracy_test = accuracy_score(y_test, y_pred)\n",
    "    # Add auc score to previous test results\n",
    "    test_results.append(accuracy_test)\n",
    "\n",
    "from matplotlib.legend_handler import HandlerLine2D\n",
    "line1, = plt.plot(min_samples, train_results, 'b', label='Train accuracy')\n",
    "line2, = plt.plot(min_samples, test_results, 'r', label='Test accuracy')\n",
    "plt.legend(handler_map={line1: HandlerLine2D(numpoints=2)})\n",
    "plt.ylabel('Accuracy score')\n",
    "plt.xlabel('Tree min samples leaf')\n",
    "plt.show()\n"
   ]
  },
  {
   "cell_type": "markdown",
   "id": "c5e0224b",
   "metadata": {},
   "source": [
    "### 1.2 DecisionTree su X_train (training set originale) con PCA"
   ]
  },
  {
   "cell_type": "code",
   "execution_count": 12,
   "id": "3c91661c",
   "metadata": {},
   "outputs": [],
   "source": [
    "# standardization di X_train\n",
    "scaler = StandardScaler()\n",
    "scaled_X_train = scaler.fit_transform(X_train)"
   ]
  },
  {
   "cell_type": "code",
   "execution_count": 13,
   "id": "f547bdac",
   "metadata": {},
   "outputs": [],
   "source": [
    "# proiezione standardizzazione su X_test\n",
    "scaled_X_test = scaler.transform(X_test)"
   ]
  },
  {
   "cell_type": "code",
   "execution_count": 14,
   "id": "369746a2",
   "metadata": {},
   "outputs": [],
   "source": [
    "# riduzione dimensionalità a 26 PC\n",
    "pca = PCA(n_components=26)\n",
    "pca.fit(scaled_X_train)\n",
    "X_train_pca = pca.transform(scaled_X_train)"
   ]
  },
  {
   "cell_type": "code",
   "execution_count": 15,
   "id": "806566c9",
   "metadata": {},
   "outputs": [
    {
     "name": "stdout",
     "output_type": "stream",
     "text": [
      "0.8017810240386228\n"
     ]
    }
   ],
   "source": [
    "# percentage of variance explained by the first 26 components\n",
    "print(sum(pca.explained_variance_ratio_))"
   ]
  },
  {
   "cell_type": "code",
   "execution_count": 16,
   "id": "0d3f23fc",
   "metadata": {},
   "outputs": [],
   "source": [
    "# proiezione delle stesse 26 componenti su X_test \n",
    "X_test_pca = pca.transform(scaled_X_test)"
   ]
  },
  {
   "cell_type": "code",
   "execution_count": 17,
   "id": "80ddac39",
   "metadata": {},
   "outputs": [
    {
     "name": "stdout",
     "output_type": "stream",
     "text": [
      "              precision    recall  f1-score   support\n",
      "\n",
      "           1       0.74      0.83      0.78       496\n",
      "           2       0.78      0.74      0.76       471\n",
      "           3       0.72      0.65      0.68       420\n",
      "           4       0.65      0.65      0.65       491\n",
      "           5       0.70      0.74      0.72       532\n",
      "           6       0.97      0.91      0.94       537\n",
      "\n",
      "    accuracy                           0.76      2947\n",
      "   macro avg       0.76      0.75      0.76      2947\n",
      "weighted avg       0.76      0.76      0.76      2947\n",
      "\n"
     ]
    }
   ],
   "source": [
    "# DT senza parameter tuning\n",
    "clf = DecisionTreeClassifier(random_state=42)\n",
    "clf.fit(X_train_pca, y_train)\n",
    "\n",
    "y_pred = clf.predict(X_test_pca)\n",
    "\n",
    "print(classification_report(y_test, y_pred))"
   ]
  },
  {
   "cell_type": "markdown",
   "id": "8e16989f",
   "metadata": {},
   "source": [
    "#### Parameter tuning"
   ]
  },
  {
   "cell_type": "code",
   "execution_count": 18,
   "id": "d7a82df2",
   "metadata": {},
   "outputs": [],
   "source": [
    "# k folds per cross validation\n",
    "kf = KFold(n_splits=5, random_state=42, shuffle=True)\n",
    "\n",
    "# parametri per grid search\n",
    "param_list = {'max_depth': [4, 10, 15, 20],\n",
    "             'min_samples_split': [2, 5, 10, 20],\n",
    "             'min_samples_leaf': [1, 5, 10, 20]\n",
    "             }\n",
    "\n",
    "\n",
    "grid_search = GridSearchCV(clf, param_grid=param_list, cv=kf ,scoring='f1')\n",
    "grid_search.fit(X_train_pca, y_train)\n",
    "\n",
    "# results of the grid search\n",
    "res = grid_search.cv_results_"
   ]
  },
  {
   "cell_type": "code",
   "execution_count": 19,
   "id": "9eb81347",
   "metadata": {},
   "outputs": [
    {
     "name": "stdout",
     "output_type": "stream",
     "text": [
      "Model with rank: 1\n",
      "Mean validation score: nan (std: nan)\n",
      "Parameters: {'max_depth': 4, 'min_samples_leaf': 1, 'min_samples_split': 2}\n",
      "\n",
      "Model with rank: 2\n",
      "Mean validation score: nan (std: nan)\n",
      "Parameters: {'max_depth': 15, 'min_samples_leaf': 1, 'min_samples_split': 10}\n",
      "\n",
      "Model with rank: 3\n",
      "Mean validation score: nan (std: nan)\n",
      "Parameters: {'max_depth': 15, 'min_samples_leaf': 1, 'min_samples_split': 20}\n",
      "\n"
     ]
    }
   ],
   "source": [
    "# grid search best 3 results\n",
    "report(res, n_top=3)"
   ]
  },
  {
   "cell_type": "code",
   "execution_count": 20,
   "id": "df882da1",
   "metadata": {},
   "outputs": [
    {
     "name": "stdout",
     "output_type": "stream",
     "text": [
      "              precision    recall  f1-score   support\n",
      "\n",
      "           1       0.63      0.94      0.76       496\n",
      "           2       0.88      0.76      0.81       471\n",
      "           3       0.80      0.47      0.59       420\n",
      "           4       0.61      0.58      0.60       491\n",
      "           5       0.68      0.78      0.72       532\n",
      "           6       0.97      0.87      0.92       537\n",
      "\n",
      "    accuracy                           0.74      2947\n",
      "   macro avg       0.76      0.73      0.73      2947\n",
      "weighted avg       0.76      0.74      0.74      2947\n",
      "\n"
     ]
    }
   ],
   "source": [
    "# DT con parameter tuning (Model with rank: 1)\n",
    "clf = DecisionTreeClassifier(max_depth=4, min_samples_leaf=1, min_samples_split=2, random_state=42)\n",
    "clf.fit(X_train_pca, y_train)\n",
    "\n",
    "y_pred = clf.predict(X_test_pca)\n",
    "\n",
    "print(classification_report(y_test, y_pred))"
   ]
  },
  {
   "cell_type": "code",
   "execution_count": 21,
   "id": "e49a721c",
   "metadata": {},
   "outputs": [
    {
     "name": "stdout",
     "output_type": "stream",
     "text": [
      "              precision    recall  f1-score   support\n",
      "\n",
      "           1       0.74      0.81      0.77       496\n",
      "           2       0.77      0.76      0.76       471\n",
      "           3       0.70      0.64      0.67       420\n",
      "           4       0.63      0.66      0.65       491\n",
      "           5       0.71      0.73      0.72       532\n",
      "           6       0.97      0.90      0.94       537\n",
      "\n",
      "    accuracy                           0.75      2947\n",
      "   macro avg       0.75      0.75      0.75      2947\n",
      "weighted avg       0.76      0.75      0.76      2947\n",
      "\n"
     ]
    }
   ],
   "source": [
    "# DT con parameter tuning (Model with rank: 2)\n",
    "clf = DecisionTreeClassifier(max_depth=15, min_samples_leaf=1, min_samples_split=10, random_state=42)\n",
    "clf.fit(X_train_pca, y_train)\n",
    "\n",
    "y_pred = clf.predict(X_test_pca)\n",
    "\n",
    "print(classification_report(y_test, y_pred))"
   ]
  },
  {
   "cell_type": "code",
   "execution_count": 22,
   "id": "e4b4c9e7",
   "metadata": {},
   "outputs": [
    {
     "name": "stdout",
     "output_type": "stream",
     "text": [
      "              precision    recall  f1-score   support\n",
      "\n",
      "           1       0.70      0.83      0.76       496\n",
      "           2       0.76      0.73      0.75       471\n",
      "           3       0.72      0.59      0.65       420\n",
      "           4       0.64      0.69      0.66       491\n",
      "           5       0.73      0.73      0.73       532\n",
      "           6       0.97      0.90      0.93       537\n",
      "\n",
      "    accuracy                           0.75      2947\n",
      "   macro avg       0.75      0.75      0.75      2947\n",
      "weighted avg       0.76      0.75      0.75      2947\n",
      "\n"
     ]
    }
   ],
   "source": [
    "# DT con parameter tuning (Model with rank: 3)\n",
    "clf = DecisionTreeClassifier(max_depth=15, min_samples_leaf=1, min_samples_split=20, random_state=42)\n",
    "clf.fit(X_train_pca, y_train)\n",
    "\n",
    "y_pred = clf.predict(X_test_pca)\n",
    "\n",
    "print(classification_report(y_test, y_pred))"
   ]
  },
  {
   "cell_type": "markdown",
   "id": "b7c61b78",
   "metadata": {},
   "source": [
    "### 1.3 DecisionTree su X_train_151var (training set senza variabili correlate)"
   ]
  },
  {
   "cell_type": "code",
   "execution_count": 23,
   "id": "a7a7a6ac",
   "metadata": {},
   "outputs": [],
   "source": [
    "# proiettare le variabili scelte su X_test\n",
    "X_test_151var = pd.read_csv('.\\data\\csv_data\\TEST_SET_DM2.csv')"
   ]
  },
  {
   "cell_type": "code",
   "execution_count": 24,
   "id": "078e0cd8",
   "metadata": {},
   "outputs": [
    {
     "name": "stdout",
     "output_type": "stream",
     "text": [
      "              precision    recall  f1-score   support\n",
      "\n",
      "           1       0.80      0.89      0.84       496\n",
      "           2       0.82      0.76      0.79       471\n",
      "           3       0.80      0.75      0.77       420\n",
      "           4       0.80      0.76      0.78       491\n",
      "           5       0.79      0.83      0.81       532\n",
      "           6       1.00      1.00      1.00       537\n",
      "\n",
      "    accuracy                           0.84      2947\n",
      "   macro avg       0.83      0.83      0.83      2947\n",
      "weighted avg       0.84      0.84      0.84      2947\n",
      "\n"
     ]
    }
   ],
   "source": [
    "# DT senza parameter tuning\n",
    "clf = DecisionTreeClassifier(random_state=42)\n",
    "clf.fit(X_train_151var, y_train)\n",
    "\n",
    "y_pred = clf.predict(X_test_151var)\n",
    "\n",
    "print(classification_report(y_test, y_pred))"
   ]
  },
  {
   "cell_type": "markdown",
   "id": "0f80cb22",
   "metadata": {},
   "source": [
    "#### Parameter tuning"
   ]
  },
  {
   "cell_type": "code",
   "execution_count": 25,
   "id": "6ab786c2",
   "metadata": {},
   "outputs": [],
   "source": [
    "# grid search con stessi parametri di prima tra cui scegliere \n",
    "grid_search = GridSearchCV(clf, param_grid=param_list, cv=kf ,scoring='f1')\n",
    "grid_search.fit(X_train_151var, y_train)\n",
    "\n",
    "# results of the grid search\n",
    "res = grid_search.cv_results_"
   ]
  },
  {
   "cell_type": "code",
   "execution_count": 26,
   "id": "16520453",
   "metadata": {},
   "outputs": [
    {
     "name": "stdout",
     "output_type": "stream",
     "text": [
      "Model with rank: 1\n",
      "Mean validation score: nan (std: nan)\n",
      "Parameters: {'max_depth': 4, 'min_samples_leaf': 1, 'min_samples_split': 2}\n",
      "\n",
      "Model with rank: 2\n",
      "Mean validation score: nan (std: nan)\n",
      "Parameters: {'max_depth': 15, 'min_samples_leaf': 1, 'min_samples_split': 10}\n",
      "\n",
      "Model with rank: 3\n",
      "Mean validation score: nan (std: nan)\n",
      "Parameters: {'max_depth': 15, 'min_samples_leaf': 1, 'min_samples_split': 20}\n",
      "\n"
     ]
    }
   ],
   "source": [
    "# grid search best 3 results\n",
    "report(res, n_top=3)"
   ]
  },
  {
   "cell_type": "code",
   "execution_count": 28,
   "id": "7c86de50",
   "metadata": {},
   "outputs": [
    {
     "name": "stdout",
     "output_type": "stream",
     "text": [
      "              precision    recall  f1-score   support\n",
      "\n",
      "           1       0.67      0.80      0.73       496\n",
      "           2       0.90      0.62      0.74       471\n",
      "           3       0.68      0.76      0.72       420\n",
      "           4       0.79      0.81      0.80       491\n",
      "           5       0.82      0.80      0.81       532\n",
      "           6       1.00      1.00      1.00       537\n",
      "\n",
      "    accuracy                           0.80      2947\n",
      "   macro avg       0.81      0.80      0.80      2947\n",
      "weighted avg       0.82      0.80      0.80      2947\n",
      "\n"
     ]
    }
   ],
   "source": [
    "# DT con parameter tuning (Model with rank: 1)\n",
    "clf = DecisionTreeClassifier(max_depth=4, min_samples_leaf=1, min_samples_split=2, random_state=42)\n",
    "clf.fit(X_train_151var, y_train)\n",
    "\n",
    "y_pred = clf.predict(X_test_151var)\n",
    "\n",
    "print(classification_report(y_test, y_pred))"
   ]
  },
  {
   "cell_type": "code",
   "execution_count": 29,
   "id": "424deacd",
   "metadata": {},
   "outputs": [
    {
     "name": "stdout",
     "output_type": "stream",
     "text": [
      "              precision    recall  f1-score   support\n",
      "\n",
      "           1       0.82      0.88      0.85       496\n",
      "           2       0.80      0.76      0.78       471\n",
      "           3       0.78      0.75      0.76       420\n",
      "           4       0.82      0.74      0.78       491\n",
      "           5       0.79      0.86      0.82       532\n",
      "           6       1.00      1.00      1.00       537\n",
      "\n",
      "    accuracy                           0.84      2947\n",
      "   macro avg       0.83      0.83      0.83      2947\n",
      "weighted avg       0.84      0.84      0.84      2947\n",
      "\n"
     ]
    }
   ],
   "source": [
    "# DT con parameter tuning (Model with rank: 2)\n",
    "clf = DecisionTreeClassifier(max_depth=15, min_samples_leaf=1, min_samples_split=10, random_state=42)\n",
    "clf.fit(X_train_151var, y_train)\n",
    "\n",
    "y_pred = clf.predict(X_test_151var)\n",
    "\n",
    "print(classification_report(y_test, y_pred))"
   ]
  },
  {
   "cell_type": "code",
   "execution_count": 30,
   "id": "b68e8b4b",
   "metadata": {},
   "outputs": [
    {
     "name": "stdout",
     "output_type": "stream",
     "text": [
      "              precision    recall  f1-score   support\n",
      "\n",
      "           1       0.80      0.90      0.85       496\n",
      "           2       0.78      0.73      0.75       471\n",
      "           3       0.80      0.73      0.76       420\n",
      "           4       0.83      0.73      0.77       491\n",
      "           5       0.78      0.87      0.82       532\n",
      "           6       1.00      1.00      1.00       537\n",
      "\n",
      "    accuracy                           0.83      2947\n",
      "   macro avg       0.83      0.83      0.83      2947\n",
      "weighted avg       0.83      0.83      0.83      2947\n",
      "\n"
     ]
    }
   ],
   "source": [
    "# DT con parameter tuning (Model with rank: 3)\n",
    "clf = DecisionTreeClassifier(max_depth=15, min_samples_leaf=1, min_samples_split=20, random_state=42)\n",
    "clf.fit(X_train_151var, y_train)\n",
    "\n",
    "y_pred = clf.predict(X_test_151var)\n",
    "\n",
    "print(classification_report(y_test, y_pred))"
   ]
  },
  {
   "cell_type": "markdown",
   "id": "c5cc394d",
   "metadata": {},
   "source": [
    "### 1.4 DecisionTree su X_train_151var (training set senza variabili correlate) con PCA"
   ]
  },
  {
   "cell_type": "code",
   "execution_count": 31,
   "id": "3257f112",
   "metadata": {},
   "outputs": [],
   "source": [
    "# standardization di X_train\n",
    "scaler = StandardScaler()\n",
    "scaled_X_train_151var = scaler.fit_transform(X_train_151var)"
   ]
  },
  {
   "cell_type": "code",
   "execution_count": 32,
   "id": "31e3623c",
   "metadata": {},
   "outputs": [],
   "source": [
    "# proiezione standardizzazione su X_test_151var\n",
    "scaled_X_test_151var = scaler.transform(X_test_151var)"
   ]
  },
  {
   "cell_type": "code",
   "execution_count": 33,
   "id": "9b82b75f",
   "metadata": {},
   "outputs": [],
   "source": [
    "# riduzione dimensionalità a 51 PC\n",
    "pca = PCA(n_components=51)\n",
    "pca.fit(scaled_X_train_151var)\n",
    "X_train_151var_pca = pca.transform(scaled_X_train_151var)"
   ]
  },
  {
   "cell_type": "code",
   "execution_count": 34,
   "id": "ad289f1e",
   "metadata": {},
   "outputs": [
    {
     "name": "stdout",
     "output_type": "stream",
     "text": [
      "0.8011650289350646\n"
     ]
    }
   ],
   "source": [
    "# percentage of variance explained by the first 51 components\n",
    "print(sum(pca.explained_variance_ratio_))"
   ]
  },
  {
   "cell_type": "code",
   "execution_count": 35,
   "id": "b3bd6ccf",
   "metadata": {},
   "outputs": [],
   "source": [
    "# proiezione delle stesse 51 componenti su X_test_151var \n",
    "X_test_151var_pca = pca.transform(scaled_X_test_151var)"
   ]
  },
  {
   "cell_type": "code",
   "execution_count": 36,
   "id": "64e19951",
   "metadata": {},
   "outputs": [
    {
     "name": "stdout",
     "output_type": "stream",
     "text": [
      "              precision    recall  f1-score   support\n",
      "\n",
      "           1       0.68      0.80      0.73       496\n",
      "           2       0.77      0.62      0.69       471\n",
      "           3       0.66      0.64      0.65       420\n",
      "           4       0.54      0.60      0.57       491\n",
      "           5       0.68      0.70      0.69       532\n",
      "           6       0.83      0.74      0.78       537\n",
      "\n",
      "    accuracy                           0.69      2947\n",
      "   macro avg       0.69      0.68      0.69      2947\n",
      "weighted avg       0.69      0.69      0.69      2947\n",
      "\n"
     ]
    }
   ],
   "source": [
    "# DT senza parameter tuning\n",
    "clf = DecisionTreeClassifier(random_state=42)\n",
    "clf.fit(X_train_151var_pca, y_train)\n",
    "\n",
    "y_pred = clf.predict(X_test_151var_pca)\n",
    "\n",
    "print(classification_report(y_test, y_pred))"
   ]
  },
  {
   "cell_type": "markdown",
   "id": "71d95895",
   "metadata": {},
   "source": [
    "#### Parameter tuning"
   ]
  },
  {
   "cell_type": "code",
   "execution_count": 37,
   "id": "a22dd1d2",
   "metadata": {},
   "outputs": [],
   "source": [
    "# grid search con stessi parametri di prima tra cui scegliere \n",
    "grid_search = GridSearchCV(clf, param_grid=param_list, cv=kf ,scoring='f1')\n",
    "grid_search.fit(X_train_151var_pca, y_train)\n",
    "\n",
    "# results of the grid search\n",
    "res = grid_search.cv_results_"
   ]
  },
  {
   "cell_type": "code",
   "execution_count": 38,
   "id": "89c3e0cc",
   "metadata": {},
   "outputs": [
    {
     "name": "stdout",
     "output_type": "stream",
     "text": [
      "Model with rank: 1\n",
      "Mean validation score: nan (std: nan)\n",
      "Parameters: {'max_depth': 4, 'min_samples_leaf': 1, 'min_samples_split': 2}\n",
      "\n",
      "Model with rank: 2\n",
      "Mean validation score: nan (std: nan)\n",
      "Parameters: {'max_depth': 15, 'min_samples_leaf': 1, 'min_samples_split': 10}\n",
      "\n",
      "Model with rank: 3\n",
      "Mean validation score: nan (std: nan)\n",
      "Parameters: {'max_depth': 15, 'min_samples_leaf': 1, 'min_samples_split': 20}\n",
      "\n"
     ]
    }
   ],
   "source": [
    "# grid search best 3 results\n",
    "report(res, n_top=3)"
   ]
  },
  {
   "cell_type": "code",
   "execution_count": 39,
   "id": "b915eff8",
   "metadata": {},
   "outputs": [
    {
     "name": "stdout",
     "output_type": "stream",
     "text": [
      "              precision    recall  f1-score   support\n",
      "\n",
      "           1       0.66      0.84      0.74       496\n",
      "           2       0.89      0.70      0.79       471\n",
      "           3       0.74      0.65      0.69       420\n",
      "           4       0.47      0.47      0.47       491\n",
      "           5       0.61      0.60      0.60       532\n",
      "           6       0.81      0.85      0.83       537\n",
      "\n",
      "    accuracy                           0.69      2947\n",
      "   macro avg       0.70      0.68      0.69      2947\n",
      "weighted avg       0.69      0.69      0.69      2947\n",
      "\n"
     ]
    }
   ],
   "source": [
    "# DT con parameter tuning (Model with rank: 1)\n",
    "clf = DecisionTreeClassifier(max_depth=4, min_samples_leaf=1, min_samples_split=2, random_state=42)\n",
    "clf.fit(X_train_151var_pca, y_train)\n",
    "\n",
    "y_pred = clf.predict(X_test_151var_pca)\n",
    "\n",
    "print(classification_report(y_test, y_pred))"
   ]
  },
  {
   "cell_type": "code",
   "execution_count": 40,
   "id": "5af03089",
   "metadata": {},
   "outputs": [
    {
     "name": "stdout",
     "output_type": "stream",
     "text": [
      "              precision    recall  f1-score   support\n",
      "\n",
      "           1       0.68      0.80      0.73       496\n",
      "           2       0.80      0.68      0.73       471\n",
      "           3       0.69      0.65      0.67       420\n",
      "           4       0.57      0.61      0.59       491\n",
      "           5       0.68      0.72      0.70       532\n",
      "           6       0.86      0.77      0.81       537\n",
      "\n",
      "    accuracy                           0.71      2947\n",
      "   macro avg       0.71      0.70      0.71      2947\n",
      "weighted avg       0.71      0.71      0.71      2947\n",
      "\n"
     ]
    }
   ],
   "source": [
    "# DT con parameter tuning (Model with rank: 2)\n",
    "clf = DecisionTreeClassifier(max_depth=15, min_samples_leaf=1, min_samples_split=10, random_state=42)\n",
    "clf.fit(X_train_151var_pca, y_train)\n",
    "\n",
    "y_pred = clf.predict(X_test_151var_pca)\n",
    "\n",
    "print(classification_report(y_test, y_pred))"
   ]
  },
  {
   "cell_type": "code",
   "execution_count": 41,
   "id": "f23b1323",
   "metadata": {},
   "outputs": [
    {
     "name": "stdout",
     "output_type": "stream",
     "text": [
      "              precision    recall  f1-score   support\n",
      "\n",
      "           1       0.68      0.81      0.74       496\n",
      "           2       0.79      0.70      0.74       471\n",
      "           3       0.71      0.62      0.66       420\n",
      "           4       0.55      0.57      0.56       491\n",
      "           5       0.65      0.69      0.67       532\n",
      "           6       0.86      0.80      0.83       537\n",
      "\n",
      "    accuracy                           0.70      2947\n",
      "   macro avg       0.71      0.70      0.70      2947\n",
      "weighted avg       0.71      0.70      0.70      2947\n",
      "\n"
     ]
    }
   ],
   "source": [
    "# DT con parameter tuning (Model with rank: 3)\n",
    "clf = DecisionTreeClassifier(max_depth=15, min_samples_leaf=1, min_samples_split=20, random_state=42)\n",
    "clf.fit(X_train_151var_pca, y_train)\n",
    "\n",
    "y_pred = clf.predict(X_test_151var_pca)\n",
    "\n",
    "print(classification_report(y_test, y_pred))"
   ]
  }
 ],
 "metadata": {
  "kernelspec": {
   "display_name": "Python 3",
   "language": "python",
   "name": "python3"
  },
  "language_info": {
   "codemirror_mode": {
    "name": "ipython",
    "version": 3
   },
   "file_extension": ".py",
   "mimetype": "text/x-python",
   "name": "python",
   "nbconvert_exporter": "python",
   "pygments_lexer": "ipython3",
   "version": "3.11.1"
  },
  "vscode": {
   "interpreter": {
    "hash": "83bbea76cd4e0a75412f7c0275ae85744c819a0c5ea450c59d21b804f1344e0b"
   }
  }
 },
 "nbformat": 4,
 "nbformat_minor": 5
}
