{
 "cells": [
  {
   "cell_type": "code",
   "execution_count": 1,
   "id": "bd954758",
   "metadata": {},
   "outputs": [],
   "source": [
    "import numpy as np\n",
    "import pandas as pd\n",
    "import matplotlib.pyplot as plt\n",
    "import seaborn as sns\n",
    "%matplotlib inline\n",
    "from sklearn.preprocessing import StandardScaler\n",
    "\n",
    "from sklearn.neighbors import KNeighborsClassifier\n",
    "from sklearn.metrics import roc_curve, auc, roc_auc_score\n",
    "from sklearn.model_selection import cross_val_score \n",
    "from collections import Counter\n",
    "from collections import defaultdict\n",
    "from sklearn.model_selection import GridSearchCV\n",
    "from sklearn.model_selection import KFold\n",
    "from sklearn.decomposition import PCA\n",
    "from sklearn.metrics import accuracy_score, precision_score, recall_score, confusion_matrix, f1_score, classification_report\n",
    "\n",
    "import warnings\n",
    "warnings.filterwarnings('ignore')"
   ]
  },
  {
   "cell_type": "code",
   "execution_count": 2,
   "id": "bccb5329",
   "metadata": {},
   "outputs": [],
   "source": [
    "# datasets\n",
    "Xtrain = pd.read_csv('.\\data\\csv_data\\X_train.csv')\n",
    "Xtest = pd.read_csv('.\\data\\csv_data\\X_test.csv')\n",
    "ytrain = pd.read_csv('.\\data\\csv_data\\y_train.csv')\n",
    "ytest = pd.read_csv('.\\data\\csv_data\\y_test.csv')\n",
    "Xtrain_151var = pd.read_csv('.\\data\\csv_data\\TRAINING_SET_DM2.csv')\n",
    "Xtest_151var = pd.read_csv('.\\data\\csv_data\\TEST_SET_DM2.csv')"
   ]
  },
  {
   "cell_type": "code",
   "execution_count": 3,
   "id": "7ec92523",
   "metadata": {},
   "outputs": [],
   "source": [
    "# Target variable from integer to categorical\n",
    "ytrain['Label'] = pd.Categorical(ytrain[\"Label\"])\n",
    "ytest['Label'] = pd.Categorical(ytest[\"Label\"])"
   ]
  },
  {
   "cell_type": "code",
   "execution_count": 4,
   "id": "5ee80e10",
   "metadata": {},
   "outputs": [],
   "source": [
    "# arrays\n",
    "X_train = Xtrain.values\n",
    "X_test = Xtest.values\n",
    "y_train = ytrain.values\n",
    "y_test = ytest.values\n",
    "X_train_151var = Xtrain_151var.values\n",
    "X_test_151var = Xtest_151var.values"
   ]
  },
  {
   "cell_type": "code",
   "execution_count": 5,
   "id": "3c91661c",
   "metadata": {},
   "outputs": [],
   "source": [
    "# standardization di X_train\n",
    "scaler = StandardScaler()\n",
    "X_train_scaled = scaler.fit_transform(X_train)\n",
    "X_test_scaled = scaler.transform(X_test)\n",
    "X_train_151var_scaled = scaler.fit_transform(X_train_151var)\n",
    "X_test_151var_scaled = scaler.transform(X_test_151var)"
   ]
  },
  {
   "cell_type": "markdown",
   "id": "2d214035",
   "metadata": {},
   "source": [
    "# kNN"
   ]
  },
  {
   "cell_type": "markdown",
   "id": "2862cadf",
   "metadata": {},
   "source": [
    "### 1.1 su X_train (training set originale)"
   ]
  },
  {
   "cell_type": "code",
   "execution_count": 7,
   "id": "44a68b4a",
   "metadata": {},
   "outputs": [
    {
     "name": "stdout",
     "output_type": "stream",
     "text": [
      "              precision    recall  f1-score   support\n",
      "\n",
      "           1       0.82      0.97      0.89       496\n",
      "           2       0.88      0.90      0.89       471\n",
      "           3       0.96      0.73      0.83       420\n",
      "           4       0.88      0.76      0.82       491\n",
      "           5       0.80      0.93      0.86       532\n",
      "           6       1.00      0.95      0.97       537\n",
      "\n",
      "    accuracy                           0.88      2947\n",
      "   macro avg       0.89      0.87      0.88      2947\n",
      "weighted avg       0.89      0.88      0.88      2947\n",
      "\n"
     ]
    }
   ],
   "source": [
    "# kNN senza parameter tuning\n",
    "clf = KNeighborsClassifier() # default k = 5\n",
    "clf.fit(X_train_scaled, y_train)\n",
    "\n",
    "y_pred = clf.predict(X_test_scaled)\n",
    "\n",
    "print(classification_report(y_test, y_pred))"
   ]
  },
  {
   "cell_type": "markdown",
   "id": "e943a82f",
   "metadata": {},
   "source": [
    "#### Parameter tuning"
   ]
  },
  {
   "cell_type": "code",
   "execution_count": 14,
   "id": "170a3c1e",
   "metadata": {},
   "outputs": [],
   "source": [
    "# k folds per cross validation\n",
    "kf = KFold(n_splits=5, random_state=42, shuffle=True)\n",
    "\n",
    "# parametri per grid search\n",
    "param_list = {'n_neighbors': [3, 5, 7, 9, 11, 13, 15]}\n",
    "\n",
    "\n",
    "grid_search = GridSearchCV(clf, param_grid=param_list, cv=kf)\n",
    "grid_search.fit(X_train_scaled, y_train)\n",
    "\n",
    "# results of the grid search\n",
    "res = grid_search.cv_results_"
   ]
  },
  {
   "cell_type": "code",
   "execution_count": 15,
   "id": "0ca2d92b",
   "metadata": {},
   "outputs": [],
   "source": [
    "# funzione del tutor per printare i risultati\n",
    "def report(results, n_top=3):\n",
    "    for i in range(1, n_top + 1):\n",
    "        candidates = np.flatnonzero(results['rank_test_score'] == i)\n",
    "        for candidate in candidates:\n",
    "            print(\"Model with rank: {0}\".format(i))\n",
    "            print(\"Mean validation score: {0:.3f} (std: {1:.3f})\".format(\n",
    "                  results['mean_test_score'][candidate],\n",
    "                  results['std_test_score'][candidate]))\n",
    "            print(\"Parameters: {0}\".format(results['params'][candidate]))\n",
    "            print(\"\")"
   ]
  },
  {
   "cell_type": "code",
   "execution_count": 16,
   "id": "740c8a65",
   "metadata": {},
   "outputs": [
    {
     "name": "stdout",
     "output_type": "stream",
     "text": [
      "Model with rank: 1\n",
      "Mean validation score: 0.962 (std: 0.004)\n",
      "Parameters: {'n_neighbors': 5}\n",
      "\n",
      "Model with rank: 2\n",
      "Mean validation score: 0.962 (std: 0.005)\n",
      "Parameters: {'n_neighbors': 3}\n",
      "\n",
      "Model with rank: 3\n",
      "Mean validation score: 0.958 (std: 0.006)\n",
      "Parameters: {'n_neighbors': 7}\n",
      "\n",
      "Model with rank: 4\n",
      "Mean validation score: 0.956 (std: 0.005)\n",
      "Parameters: {'n_neighbors': 9}\n",
      "\n"
     ]
    }
   ],
   "source": [
    "# best 3 parameter combinations\n",
    "report(res, n_top=4)"
   ]
  },
  {
   "cell_type": "code",
   "execution_count": 17,
   "id": "489ae2b4",
   "metadata": {},
   "outputs": [
    {
     "name": "stdout",
     "output_type": "stream",
     "text": [
      "              precision    recall  f1-score   support\n",
      "\n",
      "           1       0.83      0.98      0.90       496\n",
      "           2       0.88      0.91      0.89       471\n",
      "           3       0.97      0.74      0.84       420\n",
      "           4       0.89      0.77      0.82       491\n",
      "           5       0.81      0.94      0.87       532\n",
      "           6       0.99      0.95      0.97       537\n",
      "\n",
      "    accuracy                           0.89      2947\n",
      "   macro avg       0.90      0.88      0.88      2947\n",
      "weighted avg       0.89      0.89      0.89      2947\n",
      "\n"
     ]
    }
   ],
   "source": [
    "# kNN \n",
    "clf = KNeighborsClassifier(n_neighbors = 7) # default k = 5\n",
    "clf.fit(X_train_scaled, y_train)\n",
    "\n",
    "y_pred = clf.predict(X_test_scaled)\n",
    "\n",
    "print(classification_report(y_test, y_pred))"
   ]
  },
  {
   "cell_type": "code",
   "execution_count": 20,
   "id": "5d1f748b",
   "metadata": {},
   "outputs": [
    {
     "data": {
      "text/plain": [
       "<sklearn.metrics._plot.confusion_matrix.ConfusionMatrixDisplay at 0x22c7c542f70>"
      ]
     },
     "execution_count": 20,
     "metadata": {},
     "output_type": "execute_result"
    },
    {
     "data": {
      "image/png": "[encoded data removed]",
      "text/plain": [
       "<Figure size 432x288 with 1 Axes>"
      ]
     },
     "metadata": {
      "needs_background": "light"
     },
     "output_type": "display_data"
    }
   ],
   "source": [
    "from sklearn.metrics import plot_confusion_matrix\n",
    "plot_confusion_matrix(clf, X_test_scaled, y_test, cmap='Greys', colorbar=False)"
   ]
  },
  {
   "cell_type": "markdown",
   "id": "c5e0224b",
   "metadata": {},
   "source": [
    "### 1.2 su X_train (training set originale) con PCA"
   ]
  },
  {
   "cell_type": "code",
   "execution_count": 23,
   "id": "369746a2",
   "metadata": {},
   "outputs": [],
   "source": [
    "# riduzione dimensionalità a 26 PC\n",
    "pca = PCA(n_components=26)\n",
    "pca.fit(X_train_scaled)\n",
    "X_train_pca = pca.transform(X_train_scaled)"
   ]
  },
  {
   "cell_type": "code",
   "execution_count": 24,
   "id": "806566c9",
   "metadata": {},
   "outputs": [
    {
     "name": "stdout",
     "output_type": "stream",
     "text": [
      "0.8017931630563353\n"
     ]
    }
   ],
   "source": [
    "# percentage of variance explained by the first 26 components\n",
    "print(sum(pca.explained_variance_ratio_))"
   ]
  },
  {
   "cell_type": "code",
   "execution_count": 25,
   "id": "0d3f23fc",
   "metadata": {},
   "outputs": [],
   "source": [
    "# proiezione delle stesse 26 componenti su X_test \n",
    "X_test_pca = pca.transform(X_test_scaled)"
   ]
  },
  {
   "cell_type": "code",
   "execution_count": 31,
   "id": "80ddac39",
   "metadata": {},
   "outputs": [
    {
     "name": "stdout",
     "output_type": "stream",
     "text": [
      "              precision    recall  f1-score   support\n",
      "\n",
      "           1       0.80      0.94      0.87       496\n",
      "           2       0.86      0.87      0.86       471\n",
      "           3       0.92      0.72      0.81       420\n",
      "           4       0.77      0.70      0.74       491\n",
      "           5       0.75      0.86      0.80       532\n",
      "           6       1.00      0.93      0.96       537\n",
      "\n",
      "    accuracy                           0.84      2947\n",
      "   macro avg       0.85      0.84      0.84      2947\n",
      "weighted avg       0.85      0.84      0.84      2947\n",
      "\n"
     ]
    }
   ],
   "source": [
    "# kNN senza parameter tuning\n",
    "clf = KNeighborsClassifier(n_neighbors = 5)\n",
    "clf.fit(X_train_pca, y_train)\n",
    "\n",
    "y_pred = clf.predict(X_test_pca)\n",
    "\n",
    "print(classification_report(y_test, y_pred))"
   ]
  },
  {
   "cell_type": "markdown",
   "id": "8e16989f",
   "metadata": {},
   "source": [
    "#### Parameter tuning"
   ]
  },
  {
   "cell_type": "code",
   "execution_count": 29,
   "id": "d7a82df2",
   "metadata": {},
   "outputs": [],
   "source": [
    "# k folds per cross validation\n",
    "kf = KFold(n_splits=5, random_state=42, shuffle=True)\n",
    "\n",
    "# parametri per grid search\n",
    "param_list = {'n_neighbors': [3, 5, 7, 9, 11, 13, 15]}\n",
    "\n",
    "\n",
    "grid_search = GridSearchCV(clf, param_grid=param_list, cv=kf)\n",
    "grid_search.fit(X_train_pca, y_train)\n",
    "\n",
    "# results of the grid search\n",
    "res = grid_search.cv_results_"
   ]
  },
  {
   "cell_type": "code",
   "execution_count": 30,
   "id": "9eb81347",
   "metadata": {},
   "outputs": [
    {
     "name": "stdout",
     "output_type": "stream",
     "text": [
      "Model with rank: 1\n",
      "Mean validation score: 0.928 (std: 0.006)\n",
      "Parameters: {'n_neighbors': 5}\n",
      "\n",
      "Model with rank: 2\n",
      "Mean validation score: 0.926 (std: 0.005)\n",
      "Parameters: {'n_neighbors': 7}\n",
      "\n",
      "Model with rank: 3\n",
      "Mean validation score: 0.926 (std: 0.006)\n",
      "Parameters: {'n_neighbors': 9}\n",
      "\n",
      "Model with rank: 4\n",
      "Mean validation score: 0.925 (std: 0.003)\n",
      "Parameters: {'n_neighbors': 11}\n",
      "\n"
     ]
    }
   ],
   "source": [
    "# grid search best 3 results\n",
    "report(res, n_top=4)"
   ]
  },
  {
   "cell_type": "code",
   "execution_count": 32,
   "id": "df882da1",
   "metadata": {},
   "outputs": [
    {
     "name": "stdout",
     "output_type": "stream",
     "text": [
      "              precision    recall  f1-score   support\n",
      "\n",
      "           1       0.81      0.95      0.87       496\n",
      "           2       0.86      0.87      0.87       471\n",
      "           3       0.91      0.71      0.80       420\n",
      "           4       0.79      0.69      0.74       491\n",
      "           5       0.75      0.88      0.81       532\n",
      "           6       1.00      0.93      0.97       537\n",
      "\n",
      "    accuracy                           0.85      2947\n",
      "   macro avg       0.85      0.84      0.84      2947\n",
      "weighted avg       0.85      0.85      0.84      2947\n",
      "\n"
     ]
    }
   ],
   "source": [
    "# kNN\n",
    "clf = KNeighborsClassifier(n_neighbors = 7)\n",
    "clf.fit(X_train_pca, y_train)\n",
    "\n",
    "y_pred = clf.predict(X_test_pca)\n",
    "\n",
    "print(classification_report(y_test, y_pred))"
   ]
  },
  {
   "cell_type": "code",
   "execution_count": 33,
   "id": "0369615e",
   "metadata": {},
   "outputs": [
    {
     "data": {
      "text/plain": [
       "<sklearn.metrics._plot.confusion_matrix.ConfusionMatrixDisplay at 0x22c045ddc70>"
      ]
     },
     "execution_count": 33,
     "metadata": {},
     "output_type": "execute_result"
    },
    {
     "data": {
      "image/png": "[encoded data removed]",
      "text/plain": [
       "<Figure size 432x288 with 1 Axes>"
      ]
     },
     "metadata": {
      "needs_background": "light"
     },
     "output_type": "display_data"
    }
   ],
   "source": [
    "plot_confusion_matrix(clf, X_test_pca, y_test, cmap='Greys', colorbar=False)"
   ]
  },
  {
   "cell_type": "markdown",
   "id": "b7c61b78",
   "metadata": {},
   "source": [
    "### 1.3 su X_train_151var (training set senza variabili correlate)"
   ]
  },
  {
   "cell_type": "code",
   "execution_count": 35,
   "id": "078e0cd8",
   "metadata": {},
   "outputs": [
    {
     "name": "stdout",
     "output_type": "stream",
     "text": [
      "              precision    recall  f1-score   support\n",
      "\n",
      "           1       0.74      0.99      0.85       496\n",
      "           2       0.89      0.83      0.86       471\n",
      "           3       0.97      0.68      0.80       420\n",
      "           4       0.76      0.76      0.76       491\n",
      "           5       0.78      0.89      0.83       532\n",
      "           6       0.99      0.84      0.91       537\n",
      "\n",
      "    accuracy                           0.84      2947\n",
      "   macro avg       0.86      0.83      0.84      2947\n",
      "weighted avg       0.85      0.84      0.84      2947\n",
      "\n"
     ]
    }
   ],
   "source": [
    "# kNN senza parameter tuning\n",
    "clf = KNeighborsClassifier()   # defaulf k=5\n",
    "clf.fit(X_train_151var_scaled, y_train)\n",
    "\n",
    "y_pred = clf.predict(X_test_151var_scaled)\n",
    "\n",
    "print(classification_report(y_test, y_pred))"
   ]
  },
  {
   "cell_type": "markdown",
   "id": "0f80cb22",
   "metadata": {},
   "source": [
    "#### Parameter tuning"
   ]
  },
  {
   "cell_type": "code",
   "execution_count": 38,
   "id": "6ab786c2",
   "metadata": {},
   "outputs": [],
   "source": [
    "# grid search con stessi parametri di prima tra cui scegliere \n",
    "grid_search = GridSearchCV(clf, param_grid=param_list, cv=kf)\n",
    "grid_search.fit(X_train_151var_scaled, y_train)\n",
    "\n",
    "# results of the grid search\n",
    "res = grid_search.cv_results_"
   ]
  },
  {
   "cell_type": "code",
   "execution_count": 39,
   "id": "16520453",
   "metadata": {},
   "outputs": [
    {
     "name": "stdout",
     "output_type": "stream",
     "text": [
      "Model with rank: 1\n",
      "Mean validation score: 0.946 (std: 0.007)\n",
      "Parameters: {'n_neighbors': 3}\n",
      "\n",
      "Model with rank: 2\n",
      "Mean validation score: 0.939 (std: 0.004)\n",
      "Parameters: {'n_neighbors': 5}\n",
      "\n",
      "Model with rank: 2\n",
      "Mean validation score: 0.939 (std: 0.005)\n",
      "Parameters: {'n_neighbors': 7}\n",
      "\n",
      "Model with rank: 4\n",
      "Mean validation score: 0.936 (std: 0.003)\n",
      "Parameters: {'n_neighbors': 9}\n",
      "\n"
     ]
    }
   ],
   "source": [
    "# grid search best 3 results\n",
    "report(res, n_top=4)"
   ]
  },
  {
   "cell_type": "code",
   "execution_count": 43,
   "id": "7c86de50",
   "metadata": {},
   "outputs": [
    {
     "name": "stdout",
     "output_type": "stream",
     "text": [
      "              precision    recall  f1-score   support\n",
      "\n",
      "           1       0.75      0.99      0.85       496\n",
      "           2       0.88      0.83      0.85       471\n",
      "           3       0.97      0.67      0.79       420\n",
      "           4       0.77      0.76      0.77       491\n",
      "           5       0.78      0.91      0.84       532\n",
      "           6       0.99      0.83      0.90       537\n",
      "\n",
      "    accuracy                           0.84      2947\n",
      "   macro avg       0.86      0.83      0.83      2947\n",
      "weighted avg       0.85      0.84      0.84      2947\n",
      "\n"
     ]
    }
   ],
   "source": [
    "# DT con parameter tuning (Model with rank: 1)\n",
    "clf = KNeighborsClassifier(n_neighbors = 7) \n",
    "clf.fit(X_train_151var_scaled, y_train)\n",
    "\n",
    "y_pred = clf.predict(X_test_151var_scaled)\n",
    "\n",
    "print(classification_report(y_test, y_pred))"
   ]
  },
  {
   "cell_type": "code",
   "execution_count": 45,
   "id": "59edcd88",
   "metadata": {},
   "outputs": [
    {
     "data": {
      "text/plain": [
       "<sklearn.metrics._plot.confusion_matrix.ConfusionMatrixDisplay at 0x22c04639ee0>"
      ]
     },
     "execution_count": 45,
     "metadata": {},
     "output_type": "execute_result"
    },
    {
     "data": {
      "image/png": "[encoded data removed]",
      "text/plain": [
       "<Figure size 432x288 with 1 Axes>"
      ]
     },
     "metadata": {
      "needs_background": "light"
     },
     "output_type": "display_data"
    }
   ],
   "source": [
    "plot_confusion_matrix(clf, X_test_151var_scaled, y_test, cmap='Greys', colorbar=False)"
   ]
  },
  {
   "cell_type": "markdown",
   "id": "c5cc394d",
   "metadata": {},
   "source": [
    "### 1.4 su X_train_151var (training set senza variabili correlate) con PCA"
   ]
  },
  {
   "cell_type": "code",
   "execution_count": 47,
   "id": "9b82b75f",
   "metadata": {},
   "outputs": [],
   "source": [
    "# riduzione dimensionalità a 51 PC\n",
    "pca = PCA(n_components=51)\n",
    "pca.fit(X_train_151var_scaled)\n",
    "X_train_151var_pca = pca.transform(X_train_151var_scaled)"
   ]
  },
  {
   "cell_type": "code",
   "execution_count": 48,
   "id": "ad289f1e",
   "metadata": {},
   "outputs": [
    {
     "name": "stdout",
     "output_type": "stream",
     "text": [
      "0.8010816037208113\n"
     ]
    }
   ],
   "source": [
    "# percentage of variance explained by the first 51 components\n",
    "print(sum(pca.explained_variance_ratio_))"
   ]
  },
  {
   "cell_type": "code",
   "execution_count": 50,
   "id": "b3bd6ccf",
   "metadata": {},
   "outputs": [],
   "source": [
    "# proiezione delle stesse 51 componenti su X_test_151var \n",
    "X_test_151var_pca = pca.transform(X_test_151var_scaled)"
   ]
  },
  {
   "cell_type": "code",
   "execution_count": 51,
   "id": "64e19951",
   "metadata": {},
   "outputs": [
    {
     "name": "stdout",
     "output_type": "stream",
     "text": [
      "              precision    recall  f1-score   support\n",
      "\n",
      "           1       0.75      0.98      0.85       496\n",
      "           2       0.88      0.79      0.83       471\n",
      "           3       0.93      0.72      0.81       420\n",
      "           4       0.73      0.71      0.72       491\n",
      "           5       0.75      0.88      0.81       532\n",
      "           6       0.98      0.82      0.90       537\n",
      "\n",
      "    accuracy                           0.82      2947\n",
      "   macro avg       0.84      0.82      0.82      2947\n",
      "weighted avg       0.83      0.82      0.82      2947\n",
      "\n"
     ]
    }
   ],
   "source": [
    "# kNN senza parameter tuning\n",
    "clf = KNeighborsClassifier(n_neighbors = 5) \n",
    "clf.fit(X_train_151var_pca, y_train)\n",
    "\n",
    "y_pred = clf.predict(X_test_151var_pca)\n",
    "\n",
    "print(classification_report(y_test, y_pred))"
   ]
  },
  {
   "cell_type": "markdown",
   "id": "71d95895",
   "metadata": {},
   "source": [
    "#### Parameter tuning"
   ]
  },
  {
   "cell_type": "code",
   "execution_count": 54,
   "id": "a22dd1d2",
   "metadata": {},
   "outputs": [],
   "source": [
    "# grid search con stessi parametri di prima tra cui scegliere \n",
    "grid_search = GridSearchCV(clf, param_grid=param_list, cv=kf)\n",
    "grid_search.fit(X_train_151var_pca, y_train)\n",
    "\n",
    "# results of the grid search\n",
    "res = grid_search.cv_results_"
   ]
  },
  {
   "cell_type": "code",
   "execution_count": 55,
   "id": "89c3e0cc",
   "metadata": {},
   "outputs": [
    {
     "name": "stdout",
     "output_type": "stream",
     "text": [
      "Model with rank: 1\n",
      "Mean validation score: 0.924 (std: 0.008)\n",
      "Parameters: {'n_neighbors': 3}\n",
      "\n",
      "Model with rank: 2\n",
      "Mean validation score: 0.923 (std: 0.007)\n",
      "Parameters: {'n_neighbors': 5}\n",
      "\n",
      "Model with rank: 2\n",
      "Mean validation score: 0.923 (std: 0.008)\n",
      "Parameters: {'n_neighbors': 7}\n",
      "\n"
     ]
    }
   ],
   "source": [
    "# grid search best 3 results\n",
    "report(res, n_top=3)"
   ]
  },
  {
   "cell_type": "code",
   "execution_count": 56,
   "id": "f23b1323",
   "metadata": {},
   "outputs": [
    {
     "name": "stdout",
     "output_type": "stream",
     "text": [
      "              precision    recall  f1-score   support\n",
      "\n",
      "           1       0.75      0.96      0.84       496\n",
      "           2       0.89      0.78      0.83       471\n",
      "           3       0.89      0.74      0.81       420\n",
      "           4       0.69      0.69      0.69       491\n",
      "           5       0.75      0.85      0.80       532\n",
      "           6       0.97      0.81      0.88       537\n",
      "\n",
      "    accuracy                           0.81      2947\n",
      "   macro avg       0.82      0.81      0.81      2947\n",
      "weighted avg       0.82      0.81      0.81      2947\n",
      "\n"
     ]
    }
   ],
   "source": [
    "# kNN con parameter tuning \n",
    "clf = KNeighborsClassifier(n_neighbors = 3) \n",
    "clf.fit(X_train_151var_pca, y_train)\n",
    "\n",
    "y_pred = clf.predict(X_test_151var_pca)\n",
    "\n",
    "print(classification_report(y_test, y_pred))"
   ]
  },
  {
   "cell_type": "code",
   "execution_count": 57,
   "id": "4b5e1c6f",
   "metadata": {},
   "outputs": [
    {
     "data": {
      "text/plain": [
       "<sklearn.metrics._plot.confusion_matrix.ConfusionMatrixDisplay at 0x22c0084ed30>"
      ]
     },
     "execution_count": 57,
     "metadata": {},
     "output_type": "execute_result"
    },
    {
     "data": {
      "image/png": "[encoded data removed]",
      "text/plain": [
       "<Figure size 432x288 with 1 Axes>"
      ]
     },
     "metadata": {
      "needs_background": "light"
     },
     "output_type": "display_data"
    }
   ],
   "source": [
    "plot_confusion_matrix(clf, X_test_151var_pca, y_test, cmap='Greys', colorbar=False)"
   ]
  }
 ],
 "metadata": {
  "kernelspec": {
   "display_name": "Python 3",
   "language": "python",
   "name": "python3"
  },
  "language_info": {
   "codemirror_mode": {
    "name": "ipython",
    "version": 3
   },
   "file_extension": ".py",
   "mimetype": "text/x-python",
   "name": "python",
   "nbconvert_exporter": "python",
   "pygments_lexer": "ipython3",
   "version": "3.8.8"
  }
 },
 "nbformat": 4,
 "nbformat_minor": 5
}
