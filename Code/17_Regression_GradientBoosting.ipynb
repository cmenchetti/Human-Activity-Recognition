{
 "cells": [
  {
   "cell_type": "markdown",
   "id": "95642422",
   "metadata": {},
   "source": [
    "# Gradient Boosting for Regression"
   ]
  },
  {
   "cell_type": "code",
   "execution_count": 7,
   "id": "004cb421",
   "metadata": {},
   "outputs": [],
   "source": [
    "%matplotlib inline\n",
    "\n",
    "import numpy as np\n",
    "import pandas as pd\n",
    "import matplotlib.pyplot as plt\n",
    "from sklearn.metrics import accuracy_score, f1_score, classification_report\n",
    "from sklearn.metrics import r2_score, mean_squared_error, mean_absolute_error\n",
    "from sklearn.metrics import roc_curve, auc, roc_auc_score\n",
    "\n",
    "import warnings\n",
    "warnings.filterwarnings('ignore')"
   ]
  },
  {
   "cell_type": "code",
   "execution_count": 8,
   "id": "542ac6ad",
   "metadata": {},
   "outputs": [],
   "source": [
    "# datasets\n",
    "train = pd.read_csv('.\\data\\csv_data\\X_TR_151_SENZA_OUTLIERS.csv')\n",
    "test = pd.read_csv('.\\data\\csv_data\\X_TST_151_SENZA_OUTLIERS.csv')"
   ]
  },
  {
   "cell_type": "code",
   "execution_count": 9,
   "id": "fd983941",
   "metadata": {},
   "outputs": [],
   "source": [
    "# creo X_train & y_train come per la regressione lineare\n",
    "X_train = train.drop('tBodyAcc-entropy()-X', axis=1)\n",
    "y_train = pd.DataFrame(train['tBodyAcc-entropy()-X'])"
   ]
  },
  {
   "cell_type": "code",
   "execution_count": 10,
   "id": "fc49f505",
   "metadata": {},
   "outputs": [
    {
     "data": {
      "text/plain": [
       "(7278, 150)"
      ]
     },
     "execution_count": 10,
     "metadata": {},
     "output_type": "execute_result"
    }
   ],
   "source": [
    "X_train.shape"
   ]
  },
  {
   "cell_type": "code",
   "execution_count": 11,
   "id": "ff258541",
   "metadata": {},
   "outputs": [
    {
     "name": "stdout",
     "output_type": "stream",
     "text": [
      "<class 'pandas.core.frame.DataFrame'>\n",
      "RangeIndex: 7278 entries, 0 to 7277\n",
      "Columns: 150 entries, tBodyAcc-mean()-X to angle(tBodyGyroJerkMean,gravityMean)\n",
      "dtypes: float64(150)\n",
      "memory usage: 8.3 MB\n"
     ]
    }
   ],
   "source": [
    "X_train.info()"
   ]
  },
  {
   "cell_type": "code",
   "execution_count": 12,
   "id": "50051883",
   "metadata": {},
   "outputs": [
    {
     "data": {
      "text/plain": [
       "(7278, 1)"
      ]
     },
     "execution_count": 12,
     "metadata": {},
     "output_type": "execute_result"
    }
   ],
   "source": [
    "y_train.shape"
   ]
  },
  {
   "cell_type": "code",
   "execution_count": 13,
   "id": "9dddcfb6",
   "metadata": {},
   "outputs": [
    {
     "name": "stdout",
     "output_type": "stream",
     "text": [
      "<class 'pandas.core.frame.DataFrame'>\n",
      "RangeIndex: 7278 entries, 0 to 7277\n",
      "Data columns (total 1 columns):\n",
      " #   Column                Non-Null Count  Dtype  \n",
      "---  ------                --------------  -----  \n",
      " 0   tBodyAcc-entropy()-X  7278 non-null   float64\n",
      "dtypes: float64(1)\n",
      "memory usage: 57.0 KB\n"
     ]
    }
   ],
   "source": [
    "y_train.info()"
   ]
  },
  {
   "cell_type": "code",
   "execution_count": 14,
   "id": "45ca7ae2",
   "metadata": {},
   "outputs": [],
   "source": [
    "# divido allo stesso modo il test\n",
    "X_test = test.drop('tBodyAcc-entropy()-X', axis=1)\n",
    "y_test = pd.DataFrame(test['tBodyAcc-entropy()-X'])"
   ]
  },
  {
   "cell_type": "markdown",
   "id": "60adbc84",
   "metadata": {},
   "source": [
    "**Gradient Boosting Regressor**"
   ]
  },
  {
   "cell_type": "code",
   "execution_count": 15,
   "id": "50f20335",
   "metadata": {},
   "outputs": [],
   "source": [
    "from sklearn.ensemble import GradientBoostingRegressor"
   ]
  },
  {
   "cell_type": "markdown",
   "id": "d64441f9",
   "metadata": {},
   "source": [
    ">class sklearn.ensemble.GradientBoostingRegressor(*, loss='squared_error', learning_rate=0.1, n_estimators=100, subsample=1.0, criterion='friedman_mse', min_samples_split=2, min_samples_leaf=1, min_weight_fraction_leaf=0.0, max_depth=3, min_impurity_decrease=0.0, init=None, random_state=None, max_features=None, alpha=0.9, verbose=0, max_leaf_nodes=None, warm_start=False, validation_fraction=0.1, n_iter_no_change=None, tol=0.0001, ccp_alpha=0.0)"
   ]
  },
  {
   "cell_type": "code",
   "execution_count": 16,
   "id": "f4f75f64",
   "metadata": {},
   "outputs": [
    {
     "data": {
      "text/plain": [
       "GradientBoostingRegressor(random_state=42)"
      ]
     },
     "execution_count": 16,
     "metadata": {},
     "output_type": "execute_result"
    }
   ],
   "source": [
    "reg = GradientBoostingRegressor(random_state=42) # max_depth=3\n",
    "reg.fit(X_train, y_train)\n",
    "y_pred = reg.predict(X_test)"
   ]
  },
  {
   "cell_type": "code",
   "execution_count": 18,
   "id": "ab8c0da9",
   "metadata": {},
   "outputs": [
    {
     "name": "stdout",
     "output_type": "stream",
     "text": [
      "R2: 0.94362\n",
      "MSE: 0.01118\n",
      "MAE: 0.07574\n"
     ]
    }
   ],
   "source": [
    "print('R2: %.5f' % r2_score(y_test, y_pred))\n",
    "print('MSE: %.5f' % mean_squared_error(y_test, y_pred))\n",
    "print('MAE: %.5f' % mean_absolute_error(y_test, y_pred))"
   ]
  },
  {
   "cell_type": "code",
   "execution_count": 19,
   "id": "3c27a413",
   "metadata": {},
   "outputs": [
    {
     "name": "stdout",
     "output_type": "stream",
     "text": [
      "R2: 0.94935\n",
      "MSE: 0.01004\n",
      "MAE: 0.07014\n"
     ]
    }
   ],
   "source": [
    "reg = GradientBoostingRegressor(max_depth=5, random_state=42)\n",
    "reg.fit(X_train, y_train)\n",
    "y_pred = reg.predict(X_test)\n",
    "\n",
    "print('R2: %.5f' % r2_score(y_test, y_pred))\n",
    "print('MSE: %.5f' % mean_squared_error(y_test, y_pred))\n",
    "print('MAE: %.5f' % mean_absolute_error(y_test, y_pred))"
   ]
  }
 ],
 "metadata": {
  "kernelspec": {
   "display_name": "Python 3",
   "language": "python",
   "name": "python3"
  },
  "language_info": {
   "codemirror_mode": {
    "name": "ipython",
    "version": 3
   },
   "file_extension": ".py",
   "mimetype": "text/x-python",
   "name": "python",
   "nbconvert_exporter": "python",
   "pygments_lexer": "ipython3",
   "version": "3.8.8"
  }
 },
 "nbformat": 4,
 "nbformat_minor": 5
}
