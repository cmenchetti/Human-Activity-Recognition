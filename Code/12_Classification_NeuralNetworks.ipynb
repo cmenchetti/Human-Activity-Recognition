{
 "cells": [
  {
   "attachments": {},
   "cell_type": "markdown",
   "id": "a35ea1de",
   "metadata": {},
   "source": [
    "# Neural Networks"
   ]
  },
  {
   "cell_type": "code",
   "execution_count": 1,
   "id": "46ee5fd8",
   "metadata": {},
   "outputs": [],
   "source": [
    "%matplotlib inline\n",
    "\n",
    "import numpy as np\n",
    "import pandas as pd\n",
    "import matplotlib.pyplot as plt\n",
    "from sklearn.preprocessing import StandardScaler\n",
    "from sklearn.model_selection import KFold\n",
    "from sklearn.metrics import accuracy_score, f1_score, classification_report\n",
    "from sklearn.naive_bayes import GaussianNB\n",
    "from sklearn.svm import SVC\n",
    "from sklearn.datasets import load_digits\n",
    "from sklearn.model_selection import learning_curve\n",
    "from sklearn.model_selection import ShuffleSplit\n",
    "from sklearn.linear_model import LogisticRegression\n",
    "from sklearn.model_selection import StratifiedKFold, cross_val_score\n",
    "from sklearn.model_selection import GridSearchCV\n",
    "\n",
    "import warnings\n",
    "warnings.filterwarnings('ignore')\n",
    "from sklearn.exceptions import ConvergenceWarning"
   ]
  },
  {
   "cell_type": "code",
   "execution_count": 2,
   "id": "5574546d",
   "metadata": {},
   "outputs": [],
   "source": [
    "X_train = pd.read_csv('.\\data\\csv_data\\X_TR_561_SENZA_OUTLIERS.csv')\n",
    "X_test = pd.read_csv('.\\data\\csv_data\\X_test.csv')\n",
    "y_train = pd.read_csv('.\\data\\csv_data\\Y_TR_561_SENZA_OUTLIERS.csv')\n",
    "y_test = pd.read_csv('.\\data\\csv_data\\y_test.csv')"
   ]
  },
  {
   "cell_type": "code",
   "execution_count": 3,
   "id": "5369f8d0",
   "metadata": {},
   "outputs": [],
   "source": [
    "# standardizzazione\n",
    "scaler = StandardScaler()\n",
    "scaler.fit(X_train)\n",
    "X_train = scaler.transform(X_train)\n",
    "X_test = scaler.transform(X_test)"
   ]
  },
  {
   "cell_type": "markdown",
   "id": "35ead356",
   "metadata": {},
   "source": [
    "## MLPClassifier"
   ]
  },
  {
   "cell_type": "code",
   "execution_count": 4,
   "id": "59397d09",
   "metadata": {},
   "outputs": [],
   "source": [
    "from sklearn.neural_network import MLPClassifier"
   ]
  },
  {
   "cell_type": "markdown",
   "id": "44033877",
   "metadata": {},
   "source": [
    "> class sklearn.neural_network.MLPClassifier(hidden_layer_sizes=(100,), activation='relu', *, solver='adam', alpha=0.0001, batch_size='auto', learning_rate='constant', learning_rate_init=0.001, power_t=0.5, max_iter=200, shuffle=True, random_state=None, tol=0.0001, verbose=False, warm_start=False, momentum=0.9, nesterovs_momentum=True, early_stopping=False, validation_fraction=0.1, beta_1=0.9, beta_2=0.999, epsilon=1e-08, n_iter_no_change=10, max_fun=15000)"
   ]
  },
  {
   "cell_type": "markdown",
   "id": "627f88ae",
   "metadata": {},
   "source": [
    "**PARAMETRI PER MLPClassifier**"
   ]
  },
  {
   "cell_type": "code",
   "execution_count": 6,
   "id": "84c6d145",
   "metadata": {},
   "outputs": [],
   "source": [
    "mlp = MLPClassifier()"
   ]
  },
  {
   "cell_type": "code",
   "execution_count": 7,
   "id": "19c46683",
   "metadata": {},
   "outputs": [],
   "source": [
    "# k folds per cross validation\n",
    "kf = KFold(n_splits=3, random_state=42, shuffle=True)\n",
    "\n",
    "# parametri per grid search\n",
    "param_list = {\n",
    "    'solver': ['sgd', 'adam'],\n",
    "    'momentum' : [0, 0.1, 0.2, 0.3, 0.5, 0.7, 0.9],\n",
    "    'hidden_layer_sizes':[(128, 64, 23,), (100, 69,), (128, 64, 32,)],\n",
    "    'learning_rate': ['constant', 'invscaling', 'adaptive']\n",
    "}"
   ]
  },
  {
   "cell_type": "code",
   "execution_count": 8,
   "id": "c06ee140",
   "metadata": {},
   "outputs": [
    {
     "data": {
      "text/plain": [
       "GridSearchCV(cv=KFold(n_splits=3, random_state=42, shuffle=True),\n",
       "             estimator=MLPClassifier(),\n",
       "             param_grid={'hidden_layer_sizes': [(128, 64, 23), (100, 69),\n",
       "                                                (128, 64, 32)],\n",
       "                         'learning_rate': ['constant', 'invscaling',\n",
       "                                           'adaptive'],\n",
       "                         'momentum': [0, 0.1, 0.2, 0.3, 0.5, 0.7, 0.9],\n",
       "                         'solver': ['sgd', 'adam']})"
      ]
     },
     "execution_count": 8,
     "metadata": {},
     "output_type": "execute_result"
    }
   ],
   "source": [
    "grid_search = GridSearchCV(mlp, param_grid=param_list, cv=kf)\n",
    "grid_search.fit(X_train, y_train)"
   ]
  },
  {
   "cell_type": "code",
   "execution_count": 9,
   "id": "c628350a",
   "metadata": {
    "scrolled": true
   },
   "outputs": [
    {
     "name": "stdout",
     "output_type": "stream",
     "text": [
      "Best parameters found:\n",
      " {'hidden_layer_sizes': (128, 64, 23), 'learning_rate': 'adaptive', 'momentum': 0, 'solver': 'adam'}\n",
      "0.947 (+/-0.004) for {'hidden_layer_sizes': (128, 64, 23), 'learning_rate': 'constant', 'momentum': 0, 'solver': 'sgd'}\n",
      "0.982 (+/-0.003) for {'hidden_layer_sizes': (128, 64, 23), 'learning_rate': 'constant', 'momentum': 0, 'solver': 'adam'}\n",
      "0.951 (+/-0.010) for {'hidden_layer_sizes': (128, 64, 23), 'learning_rate': 'constant', 'momentum': 0.1, 'solver': 'sgd'}\n",
      "0.982 (+/-0.004) for {'hidden_layer_sizes': (128, 64, 23), 'learning_rate': 'constant', 'momentum': 0.1, 'solver': 'adam'}\n",
      "0.951 (+/-0.008) for {'hidden_layer_sizes': (128, 64, 23), 'learning_rate': 'constant', 'momentum': 0.2, 'solver': 'sgd'}\n",
      "0.983 (+/-0.006) for {'hidden_layer_sizes': (128, 64, 23), 'learning_rate': 'constant', 'momentum': 0.2, 'solver': 'adam'}\n",
      "0.958 (+/-0.003) for {'hidden_layer_sizes': (128, 64, 23), 'learning_rate': 'constant', 'momentum': 0.3, 'solver': 'sgd'}\n",
      "0.983 (+/-0.002) for {'hidden_layer_sizes': (128, 64, 23), 'learning_rate': 'constant', 'momentum': 0.3, 'solver': 'adam'}\n",
      "0.967 (+/-0.001) for {'hidden_layer_sizes': (128, 64, 23), 'learning_rate': 'constant', 'momentum': 0.5, 'solver': 'sgd'}\n",
      "0.982 (+/-0.006) for {'hidden_layer_sizes': (128, 64, 23), 'learning_rate': 'constant', 'momentum': 0.5, 'solver': 'adam'}\n",
      "0.974 (+/-0.004) for {'hidden_layer_sizes': (128, 64, 23), 'learning_rate': 'constant', 'momentum': 0.7, 'solver': 'sgd'}\n",
      "0.982 (+/-0.001) for {'hidden_layer_sizes': (128, 64, 23), 'learning_rate': 'constant', 'momentum': 0.7, 'solver': 'adam'}\n",
      "0.980 (+/-0.002) for {'hidden_layer_sizes': (128, 64, 23), 'learning_rate': 'constant', 'momentum': 0.9, 'solver': 'sgd'}\n",
      "0.982 (+/-0.004) for {'hidden_layer_sizes': (128, 64, 23), 'learning_rate': 'constant', 'momentum': 0.9, 'solver': 'adam'}\n",
      "0.205 (+/-0.073) for {'hidden_layer_sizes': (128, 64, 23), 'learning_rate': 'invscaling', 'momentum': 0, 'solver': 'sgd'}\n",
      "0.982 (+/-0.006) for {'hidden_layer_sizes': (128, 64, 23), 'learning_rate': 'invscaling', 'momentum': 0, 'solver': 'adam'}\n",
      "0.195 (+/-0.042) for {'hidden_layer_sizes': (128, 64, 23), 'learning_rate': 'invscaling', 'momentum': 0.1, 'solver': 'sgd'}\n",
      "0.982 (+/-0.004) for {'hidden_layer_sizes': (128, 64, 23), 'learning_rate': 'invscaling', 'momentum': 0.1, 'solver': 'adam'}\n",
      "0.275 (+/-0.075) for {'hidden_layer_sizes': (128, 64, 23), 'learning_rate': 'invscaling', 'momentum': 0.2, 'solver': 'sgd'}\n",
      "0.983 (+/-0.004) for {'hidden_layer_sizes': (128, 64, 23), 'learning_rate': 'invscaling', 'momentum': 0.2, 'solver': 'adam'}\n",
      "0.244 (+/-0.060) for {'hidden_layer_sizes': (128, 64, 23), 'learning_rate': 'invscaling', 'momentum': 0.3, 'solver': 'sgd'}\n",
      "0.981 (+/-0.006) for {'hidden_layer_sizes': (128, 64, 23), 'learning_rate': 'invscaling', 'momentum': 0.3, 'solver': 'adam'}\n",
      "0.305 (+/-0.072) for {'hidden_layer_sizes': (128, 64, 23), 'learning_rate': 'invscaling', 'momentum': 0.5, 'solver': 'sgd'}\n",
      "0.981 (+/-0.002) for {'hidden_layer_sizes': (128, 64, 23), 'learning_rate': 'invscaling', 'momentum': 0.5, 'solver': 'adam'}\n",
      "0.384 (+/-0.148) for {'hidden_layer_sizes': (128, 64, 23), 'learning_rate': 'invscaling', 'momentum': 0.7, 'solver': 'sgd'}\n",
      "0.981 (+/-0.005) for {'hidden_layer_sizes': (128, 64, 23), 'learning_rate': 'invscaling', 'momentum': 0.7, 'solver': 'adam'}\n",
      "0.561 (+/-0.114) for {'hidden_layer_sizes': (128, 64, 23), 'learning_rate': 'invscaling', 'momentum': 0.9, 'solver': 'sgd'}\n",
      "0.982 (+/-0.004) for {'hidden_layer_sizes': (128, 64, 23), 'learning_rate': 'invscaling', 'momentum': 0.9, 'solver': 'adam'}\n",
      "0.951 (+/-0.009) for {'hidden_layer_sizes': (128, 64, 23), 'learning_rate': 'adaptive', 'momentum': 0, 'solver': 'sgd'}\n",
      "0.984 (+/-0.006) for {'hidden_layer_sizes': (128, 64, 23), 'learning_rate': 'adaptive', 'momentum': 0, 'solver': 'adam'}\n",
      "0.947 (+/-0.011) for {'hidden_layer_sizes': (128, 64, 23), 'learning_rate': 'adaptive', 'momentum': 0.1, 'solver': 'sgd'}\n",
      "0.982 (+/-0.005) for {'hidden_layer_sizes': (128, 64, 23), 'learning_rate': 'adaptive', 'momentum': 0.1, 'solver': 'adam'}\n",
      "0.955 (+/-0.003) for {'hidden_layer_sizes': (128, 64, 23), 'learning_rate': 'adaptive', 'momentum': 0.2, 'solver': 'sgd'}\n",
      "0.982 (+/-0.001) for {'hidden_layer_sizes': (128, 64, 23), 'learning_rate': 'adaptive', 'momentum': 0.2, 'solver': 'adam'}\n",
      "0.960 (+/-0.003) for {'hidden_layer_sizes': (128, 64, 23), 'learning_rate': 'adaptive', 'momentum': 0.3, 'solver': 'sgd'}\n",
      "0.982 (+/-0.005) for {'hidden_layer_sizes': (128, 64, 23), 'learning_rate': 'adaptive', 'momentum': 0.3, 'solver': 'adam'}\n",
      "0.966 (+/-0.009) for {'hidden_layer_sizes': (128, 64, 23), 'learning_rate': 'adaptive', 'momentum': 0.5, 'solver': 'sgd'}\n",
      "0.982 (+/-0.002) for {'hidden_layer_sizes': (128, 64, 23), 'learning_rate': 'adaptive', 'momentum': 0.5, 'solver': 'adam'}\n",
      "0.972 (+/-0.001) for {'hidden_layer_sizes': (128, 64, 23), 'learning_rate': 'adaptive', 'momentum': 0.7, 'solver': 'sgd'}\n",
      "0.982 (+/-0.004) for {'hidden_layer_sizes': (128, 64, 23), 'learning_rate': 'adaptive', 'momentum': 0.7, 'solver': 'adam'}\n",
      "0.977 (+/-0.005) for {'hidden_layer_sizes': (128, 64, 23), 'learning_rate': 'adaptive', 'momentum': 0.9, 'solver': 'sgd'}\n",
      "0.982 (+/-0.003) for {'hidden_layer_sizes': (128, 64, 23), 'learning_rate': 'adaptive', 'momentum': 0.9, 'solver': 'adam'}\n",
      "0.946 (+/-0.002) for {'hidden_layer_sizes': (100, 69), 'learning_rate': 'constant', 'momentum': 0, 'solver': 'sgd'}\n",
      "0.983 (+/-0.003) for {'hidden_layer_sizes': (100, 69), 'learning_rate': 'constant', 'momentum': 0, 'solver': 'adam'}\n",
      "0.950 (+/-0.012) for {'hidden_layer_sizes': (100, 69), 'learning_rate': 'constant', 'momentum': 0.1, 'solver': 'sgd'}\n",
      "0.983 (+/-0.004) for {'hidden_layer_sizes': (100, 69), 'learning_rate': 'constant', 'momentum': 0.1, 'solver': 'adam'}\n",
      "0.952 (+/-0.003) for {'hidden_layer_sizes': (100, 69), 'learning_rate': 'constant', 'momentum': 0.2, 'solver': 'sgd'}\n",
      "0.984 (+/-0.004) for {'hidden_layer_sizes': (100, 69), 'learning_rate': 'constant', 'momentum': 0.2, 'solver': 'adam'}\n",
      "0.958 (+/-0.003) for {'hidden_layer_sizes': (100, 69), 'learning_rate': 'constant', 'momentum': 0.3, 'solver': 'sgd'}\n",
      "0.983 (+/-0.003) for {'hidden_layer_sizes': (100, 69), 'learning_rate': 'constant', 'momentum': 0.3, 'solver': 'adam'}\n",
      "0.964 (+/-0.002) for {'hidden_layer_sizes': (100, 69), 'learning_rate': 'constant', 'momentum': 0.5, 'solver': 'sgd'}\n",
      "0.984 (+/-0.007) for {'hidden_layer_sizes': (100, 69), 'learning_rate': 'constant', 'momentum': 0.5, 'solver': 'adam'}\n",
      "0.970 (+/-0.008) for {'hidden_layer_sizes': (100, 69), 'learning_rate': 'constant', 'momentum': 0.7, 'solver': 'sgd'}\n",
      "0.983 (+/-0.006) for {'hidden_layer_sizes': (100, 69), 'learning_rate': 'constant', 'momentum': 0.7, 'solver': 'adam'}\n",
      "0.978 (+/-0.003) for {'hidden_layer_sizes': (100, 69), 'learning_rate': 'constant', 'momentum': 0.9, 'solver': 'sgd'}\n",
      "0.983 (+/-0.001) for {'hidden_layer_sizes': (100, 69), 'learning_rate': 'constant', 'momentum': 0.9, 'solver': 'adam'}\n",
      "0.326 (+/-0.071) for {'hidden_layer_sizes': (100, 69), 'learning_rate': 'invscaling', 'momentum': 0, 'solver': 'sgd'}\n",
      "0.982 (+/-0.004) for {'hidden_layer_sizes': (100, 69), 'learning_rate': 'invscaling', 'momentum': 0, 'solver': 'adam'}\n",
      "0.312 (+/-0.159) for {'hidden_layer_sizes': (100, 69), 'learning_rate': 'invscaling', 'momentum': 0.1, 'solver': 'sgd'}\n",
      "0.983 (+/-0.006) for {'hidden_layer_sizes': (100, 69), 'learning_rate': 'invscaling', 'momentum': 0.1, 'solver': 'adam'}\n",
      "0.341 (+/-0.053) for {'hidden_layer_sizes': (100, 69), 'learning_rate': 'invscaling', 'momentum': 0.2, 'solver': 'sgd'}\n",
      "0.982 (+/-0.002) for {'hidden_layer_sizes': (100, 69), 'learning_rate': 'invscaling', 'momentum': 0.2, 'solver': 'adam'}\n",
      "0.386 (+/-0.137) for {'hidden_layer_sizes': (100, 69), 'learning_rate': 'invscaling', 'momentum': 0.3, 'solver': 'sgd'}\n",
      "0.983 (+/-0.005) for {'hidden_layer_sizes': (100, 69), 'learning_rate': 'invscaling', 'momentum': 0.3, 'solver': 'adam'}\n",
      "0.348 (+/-0.065) for {'hidden_layer_sizes': (100, 69), 'learning_rate': 'invscaling', 'momentum': 0.5, 'solver': 'sgd'}\n",
      "0.981 (+/-0.003) for {'hidden_layer_sizes': (100, 69), 'learning_rate': 'invscaling', 'momentum': 0.5, 'solver': 'adam'}\n",
      "0.491 (+/-0.132) for {'hidden_layer_sizes': (100, 69), 'learning_rate': 'invscaling', 'momentum': 0.7, 'solver': 'sgd'}\n",
      "0.983 (+/-0.004) for {'hidden_layer_sizes': (100, 69), 'learning_rate': 'invscaling', 'momentum': 0.7, 'solver': 'adam'}\n",
      "0.718 (+/-0.020) for {'hidden_layer_sizes': (100, 69), 'learning_rate': 'invscaling', 'momentum': 0.9, 'solver': 'sgd'}\n",
      "0.984 (+/-0.005) for {'hidden_layer_sizes': (100, 69), 'learning_rate': 'invscaling', 'momentum': 0.9, 'solver': 'adam'}\n",
      "0.950 (+/-0.004) for {'hidden_layer_sizes': (100, 69), 'learning_rate': 'adaptive', 'momentum': 0, 'solver': 'sgd'}\n",
      "0.983 (+/-0.001) for {'hidden_layer_sizes': (100, 69), 'learning_rate': 'adaptive', 'momentum': 0, 'solver': 'adam'}\n",
      "0.946 (+/-0.017) for {'hidden_layer_sizes': (100, 69), 'learning_rate': 'adaptive', 'momentum': 0.1, 'solver': 'sgd'}\n",
      "0.983 (+/-0.005) for {'hidden_layer_sizes': (100, 69), 'learning_rate': 'adaptive', 'momentum': 0.1, 'solver': 'adam'}\n",
      "0.955 (+/-0.003) for {'hidden_layer_sizes': (100, 69), 'learning_rate': 'adaptive', 'momentum': 0.2, 'solver': 'sgd'}\n",
      "0.984 (+/-0.004) for {'hidden_layer_sizes': (100, 69), 'learning_rate': 'adaptive', 'momentum': 0.2, 'solver': 'adam'}\n",
      "0.958 (+/-0.002) for {'hidden_layer_sizes': (100, 69), 'learning_rate': 'adaptive', 'momentum': 0.3, 'solver': 'sgd'}\n",
      "0.981 (+/-0.002) for {'hidden_layer_sizes': (100, 69), 'learning_rate': 'adaptive', 'momentum': 0.3, 'solver': 'adam'}\n",
      "0.965 (+/-0.006) for {'hidden_layer_sizes': (100, 69), 'learning_rate': 'adaptive', 'momentum': 0.5, 'solver': 'sgd'}\n",
      "0.984 (+/-0.004) for {'hidden_layer_sizes': (100, 69), 'learning_rate': 'adaptive', 'momentum': 0.5, 'solver': 'adam'}\n",
      "0.971 (+/-0.003) for {'hidden_layer_sizes': (100, 69), 'learning_rate': 'adaptive', 'momentum': 0.7, 'solver': 'sgd'}\n",
      "0.979 (+/-0.005) for {'hidden_layer_sizes': (100, 69), 'learning_rate': 'adaptive', 'momentum': 0.7, 'solver': 'adam'}\n",
      "0.978 (+/-0.006) for {'hidden_layer_sizes': (100, 69), 'learning_rate': 'adaptive', 'momentum': 0.9, 'solver': 'sgd'}\n",
      "0.981 (+/-0.003) for {'hidden_layer_sizes': (100, 69), 'learning_rate': 'adaptive', 'momentum': 0.9, 'solver': 'adam'}\n",
      "0.948 (+/-0.009) for {'hidden_layer_sizes': (128, 64, 32), 'learning_rate': 'constant', 'momentum': 0, 'solver': 'sgd'}\n",
      "0.982 (+/-0.006) for {'hidden_layer_sizes': (128, 64, 32), 'learning_rate': 'constant', 'momentum': 0, 'solver': 'adam'}\n",
      "0.949 (+/-0.005) for {'hidden_layer_sizes': (128, 64, 32), 'learning_rate': 'constant', 'momentum': 0.1, 'solver': 'sgd'}\n",
      "0.983 (+/-0.002) for {'hidden_layer_sizes': (128, 64, 32), 'learning_rate': 'constant', 'momentum': 0.1, 'solver': 'adam'}\n",
      "0.959 (+/-0.003) for {'hidden_layer_sizes': (128, 64, 32), 'learning_rate': 'constant', 'momentum': 0.2, 'solver': 'sgd'}\n",
      "0.983 (+/-0.002) for {'hidden_layer_sizes': (128, 64, 32), 'learning_rate': 'constant', 'momentum': 0.2, 'solver': 'adam'}\n",
      "0.962 (+/-0.006) for {'hidden_layer_sizes': (128, 64, 32), 'learning_rate': 'constant', 'momentum': 0.3, 'solver': 'sgd'}\n",
      "0.982 (+/-0.001) for {'hidden_layer_sizes': (128, 64, 32), 'learning_rate': 'constant', 'momentum': 0.3, 'solver': 'adam'}\n",
      "0.963 (+/-0.003) for {'hidden_layer_sizes': (128, 64, 32), 'learning_rate': 'constant', 'momentum': 0.5, 'solver': 'sgd'}\n",
      "0.981 (+/-0.002) for {'hidden_layer_sizes': (128, 64, 32), 'learning_rate': 'constant', 'momentum': 0.5, 'solver': 'adam'}\n",
      "0.971 (+/-0.007) for {'hidden_layer_sizes': (128, 64, 32), 'learning_rate': 'constant', 'momentum': 0.7, 'solver': 'sgd'}\n",
      "0.981 (+/-0.004) for {'hidden_layer_sizes': (128, 64, 32), 'learning_rate': 'constant', 'momentum': 0.7, 'solver': 'adam'}\n",
      "0.980 (+/-0.002) for {'hidden_layer_sizes': (128, 64, 32), 'learning_rate': 'constant', 'momentum': 0.9, 'solver': 'sgd'}\n",
      "0.981 (+/-0.001) for {'hidden_layer_sizes': (128, 64, 32), 'learning_rate': 'constant', 'momentum': 0.9, 'solver': 'adam'}\n",
      "0.221 (+/-0.096) for {'hidden_layer_sizes': (128, 64, 32), 'learning_rate': 'invscaling', 'momentum': 0, 'solver': 'sgd'}\n",
      "0.982 (+/-0.004) for {'hidden_layer_sizes': (128, 64, 32), 'learning_rate': 'invscaling', 'momentum': 0, 'solver': 'adam'}\n",
      "0.307 (+/-0.043) for {'hidden_layer_sizes': (128, 64, 32), 'learning_rate': 'invscaling', 'momentum': 0.1, 'solver': 'sgd'}\n",
      "0.982 (+/-0.004) for {'hidden_layer_sizes': (128, 64, 32), 'learning_rate': 'invscaling', 'momentum': 0.1, 'solver': 'adam'}\n",
      "0.276 (+/-0.038) for {'hidden_layer_sizes': (128, 64, 32), 'learning_rate': 'invscaling', 'momentum': 0.2, 'solver': 'sgd'}\n",
      "0.983 (+/-0.007) for {'hidden_layer_sizes': (128, 64, 32), 'learning_rate': 'invscaling', 'momentum': 0.2, 'solver': 'adam'}\n",
      "0.275 (+/-0.101) for {'hidden_layer_sizes': (128, 64, 32), 'learning_rate': 'invscaling', 'momentum': 0.3, 'solver': 'sgd'}\n",
      "0.984 (+/-0.003) for {'hidden_layer_sizes': (128, 64, 32), 'learning_rate': 'invscaling', 'momentum': 0.3, 'solver': 'adam'}\n",
      "0.337 (+/-0.077) for {'hidden_layer_sizes': (128, 64, 32), 'learning_rate': 'invscaling', 'momentum': 0.5, 'solver': 'sgd'}\n",
      "0.983 (+/-0.003) for {'hidden_layer_sizes': (128, 64, 32), 'learning_rate': 'invscaling', 'momentum': 0.5, 'solver': 'adam'}\n",
      "0.407 (+/-0.050) for {'hidden_layer_sizes': (128, 64, 32), 'learning_rate': 'invscaling', 'momentum': 0.7, 'solver': 'sgd'}\n",
      "0.983 (+/-0.002) for {'hidden_layer_sizes': (128, 64, 32), 'learning_rate': 'invscaling', 'momentum': 0.7, 'solver': 'adam'}\n",
      "0.629 (+/-0.091) for {'hidden_layer_sizes': (128, 64, 32), 'learning_rate': 'invscaling', 'momentum': 0.9, 'solver': 'sgd'}\n",
      "0.982 (+/-0.004) for {'hidden_layer_sizes': (128, 64, 32), 'learning_rate': 'invscaling', 'momentum': 0.9, 'solver': 'adam'}\n",
      "0.948 (+/-0.012) for {'hidden_layer_sizes': (128, 64, 32), 'learning_rate': 'adaptive', 'momentum': 0, 'solver': 'sgd'}\n",
      "0.982 (+/-0.004) for {'hidden_layer_sizes': (128, 64, 32), 'learning_rate': 'adaptive', 'momentum': 0, 'solver': 'adam'}\n",
      "0.954 (+/-0.005) for {'hidden_layer_sizes': (128, 64, 32), 'learning_rate': 'adaptive', 'momentum': 0.1, 'solver': 'sgd'}\n",
      "0.983 (+/-0.004) for {'hidden_layer_sizes': (128, 64, 32), 'learning_rate': 'adaptive', 'momentum': 0.1, 'solver': 'adam'}\n",
      "0.959 (+/-0.006) for {'hidden_layer_sizes': (128, 64, 32), 'learning_rate': 'adaptive', 'momentum': 0.2, 'solver': 'sgd'}\n",
      "0.983 (+/-0.005) for {'hidden_layer_sizes': (128, 64, 32), 'learning_rate': 'adaptive', 'momentum': 0.2, 'solver': 'adam'}\n",
      "0.963 (+/-0.002) for {'hidden_layer_sizes': (128, 64, 32), 'learning_rate': 'adaptive', 'momentum': 0.3, 'solver': 'sgd'}\n",
      "0.982 (+/-0.004) for {'hidden_layer_sizes': (128, 64, 32), 'learning_rate': 'adaptive', 'momentum': 0.3, 'solver': 'adam'}\n",
      "0.966 (+/-0.004) for {'hidden_layer_sizes': (128, 64, 32), 'learning_rate': 'adaptive', 'momentum': 0.5, 'solver': 'sgd'}\n",
      "0.984 (+/-0.004) for {'hidden_layer_sizes': (128, 64, 32), 'learning_rate': 'adaptive', 'momentum': 0.5, 'solver': 'adam'}\n",
      "0.975 (+/-0.009) for {'hidden_layer_sizes': (128, 64, 32), 'learning_rate': 'adaptive', 'momentum': 0.7, 'solver': 'sgd'}\n",
      "0.981 (+/-0.008) for {'hidden_layer_sizes': (128, 64, 32), 'learning_rate': 'adaptive', 'momentum': 0.7, 'solver': 'adam'}\n",
      "0.977 (+/-0.003) for {'hidden_layer_sizes': (128, 64, 32), 'learning_rate': 'adaptive', 'momentum': 0.9, 'solver': 'sgd'}\n",
      "0.981 (+/-0.003) for {'hidden_layer_sizes': (128, 64, 32), 'learning_rate': 'adaptive', 'momentum': 0.9, 'solver': 'adam'}\n"
     ]
    }
   ],
   "source": [
    "# Best paramete set\n",
    "print('Best parameters found:\\n', grid_search.best_params_)\n",
    "\n",
    "# All results\n",
    "means = grid_search.cv_results_['mean_test_score']\n",
    "stds = grid_search.cv_results_['std_test_score']\n",
    "for mean, std, params in zip(means, stds, grid_search.cv_results_['params']):\n",
    "    print(\"%0.3f (+/-%0.03f) for %r\" % (mean, std * 2, params))"
   ]
  },
  {
   "cell_type": "code",
   "execution_count": 12,
   "id": "7991b9ee",
   "metadata": {},
   "outputs": [
    {
     "name": "stdout",
     "output_type": "stream",
     "text": [
      "              precision    recall  f1-score   support\n",
      "\n",
      "           1       0.96      0.99      0.97       496\n",
      "           2       0.95      0.96      0.95       471\n",
      "           3       0.98      0.93      0.95       420\n",
      "           4       0.96      0.90      0.93       491\n",
      "           5       0.88      0.97      0.92       532\n",
      "           6       1.00      0.96      0.98       537\n",
      "\n",
      "    accuracy                           0.95      2947\n",
      "   macro avg       0.95      0.95      0.95      2947\n",
      "weighted avg       0.95      0.95      0.95      2947\n",
      "\n"
     ]
    }
   ],
   "source": [
    "# model with best parameter settings\n",
    "clf = MLPClassifier(hidden_layer_sizes=(128, 64, 32,), learning_rate='invscaling', solver='adam', momentum=0.1, random_state=42)\n",
    "clf.fit(X_train, y_train)\n",
    "\n",
    "y_pred = clf.predict(X_test)\n",
    "\n",
    "print(classification_report(y_test, y_pred))"
   ]
  },
  {
   "cell_type": "code",
   "execution_count": 11,
   "id": "618579cc",
   "metadata": {},
   "outputs": [
    {
     "name": "stdout",
     "output_type": "stream",
     "text": [
      "              precision    recall  f1-score   support\n",
      "\n",
      "           1       0.95      0.99      0.97       496\n",
      "           2       0.94      0.95      0.95       471\n",
      "           3       0.98      0.92      0.95       420\n",
      "           4       0.95      0.88      0.91       491\n",
      "           5       0.87      0.96      0.91       532\n",
      "           6       1.00      0.97      0.98       537\n",
      "\n",
      "    accuracy                           0.95      2947\n",
      "   macro avg       0.95      0.94      0.95      2947\n",
      "weighted avg       0.95      0.95      0.95      2947\n",
      "\n"
     ]
    }
   ],
   "source": [
    "# model with best parameter settings\n",
    "clf = MLPClassifier(hidden_layer_sizes=(128, 64, 23,), learning_rate='invscaling', solver='adam',momentum=0, random_state=42)\n",
    "\n",
    "clf.fit(X_train, y_train)\n",
    "\n",
    "y_pred = clf.predict(X_test)\n",
    "\n",
    "print(classification_report(y_test, y_pred))"
   ]
  },
  {
   "cell_type": "code",
   "execution_count": 7,
   "id": "3d657692",
   "metadata": {},
   "outputs": [
    {
     "name": "stdout",
     "output_type": "stream",
     "text": [
      "              precision    recall  f1-score   support\n",
      "\n",
      "           1       0.96      0.99      0.97       496\n",
      "           2       0.95      0.96      0.95       471\n",
      "           3       0.98      0.93      0.95       420\n",
      "           4       0.96      0.90      0.93       491\n",
      "           5       0.88      0.97      0.92       532\n",
      "           6       1.00      0.96      0.98       537\n",
      "\n",
      "    accuracy                           0.95      2947\n",
      "   macro avg       0.95      0.95      0.95      2947\n",
      "weighted avg       0.95      0.95      0.95      2947\n",
      "\n"
     ]
    }
   ],
   "source": [
    "# model\n",
    "clf = MLPClassifier(hidden_layer_sizes=(128, 64, 32,), learning_rate='invscaling', solver='adam',momentum=0.3, random_state=42)\n",
    "clf.fit(X_train, y_train)\n",
    "\n",
    "y_pred = clf.predict(X_test)\n",
    "\n",
    "print(classification_report(y_test, y_pred))"
   ]
  },
  {
   "cell_type": "code",
   "execution_count": 6,
   "id": "417ed7af",
   "metadata": {},
   "outputs": [
    {
     "name": "stdout",
     "output_type": "stream",
     "text": [
      "              precision    recall  f1-score   support\n",
      "\n",
      "           1       0.96      0.99      0.97       496\n",
      "           2       0.95      0.96      0.95       471\n",
      "           3       0.98      0.93      0.95       420\n",
      "           4       0.96      0.90      0.93       491\n",
      "           5       0.88      0.97      0.92       532\n",
      "           6       1.00      0.96      0.98       537\n",
      "\n",
      "    accuracy                           0.95      2947\n",
      "   macro avg       0.95      0.95      0.95      2947\n",
      "weighted avg       0.95      0.95      0.95      2947\n",
      "\n"
     ]
    }
   ],
   "source": [
    "# model\n",
    "clf = MLPClassifier(hidden_layer_sizes=(128, 64, 32,), learning_rate='constant', solver='adam',momentum=0.1, random_state=42)\n",
    "clf.fit(X_train, y_train)\n",
    "\n",
    "y_pred = clf.predict(X_test)\n",
    "\n",
    "print(classification_report(y_test, y_pred))"
   ]
  },
  {
   "cell_type": "code",
   "execution_count": 8,
   "id": "7875813a",
   "metadata": {},
   "outputs": [
    {
     "name": "stdout",
     "output_type": "stream",
     "text": [
      "              precision    recall  f1-score   support\n",
      "\n",
      "           1       0.95      0.99      0.97       496\n",
      "           2       0.95      0.95      0.95       471\n",
      "           3       0.97      0.92      0.95       420\n",
      "           4       0.96      0.87      0.91       491\n",
      "           5       0.86      0.96      0.91       532\n",
      "           6       1.00      0.97      0.98       537\n",
      "\n",
      "    accuracy                           0.94      2947\n",
      "   macro avg       0.95      0.94      0.94      2947\n",
      "weighted avg       0.95      0.94      0.94      2947\n",
      "\n"
     ]
    }
   ],
   "source": [
    "# model\n",
    "clf = MLPClassifier(hidden_layer_sizes=(128, 64, 32,), learning_rate='adaptive', solver='sgd',momentum=0.9, random_state=42)\n",
    "clf.fit(X_train, y_train)\n",
    "\n",
    "y_pred = clf.predict(X_test)\n",
    "\n",
    "print(classification_report(y_test, y_pred))"
   ]
  },
  {
   "cell_type": "code",
   "execution_count": 9,
   "id": "2aaecdd2",
   "metadata": {},
   "outputs": [
    {
     "name": "stdout",
     "output_type": "stream",
     "text": [
      "              precision    recall  f1-score   support\n",
      "\n",
      "           1       0.93      0.98      0.96       496\n",
      "           2       0.92      0.94      0.93       471\n",
      "           3       0.97      0.89      0.93       420\n",
      "           4       0.94      0.88      0.91       491\n",
      "           5       0.88      0.95      0.91       532\n",
      "           6       1.00      0.98      0.99       537\n",
      "\n",
      "    accuracy                           0.94      2947\n",
      "   macro avg       0.94      0.94      0.94      2947\n",
      "weighted avg       0.94      0.94      0.94      2947\n",
      "\n"
     ]
    }
   ],
   "source": [
    "# model\n",
    "clf = MLPClassifier(hidden_layer_sizes=(128, 64, 32,), learning_rate='adaptive', solver='sgd',momentum=0.3, random_state=42)\n",
    "clf.fit(X_train, y_train)\n",
    "\n",
    "y_pred = clf.predict(X_test)\n",
    "\n",
    "print(classification_report(y_test, y_pred))"
   ]
  },
  {
   "cell_type": "code",
   "execution_count": 19,
   "id": "06e85863",
   "metadata": {},
   "outputs": [
    {
     "name": "stdout",
     "output_type": "stream",
     "text": [
      "              precision    recall  f1-score   support\n",
      "\n",
      "           1       0.96      0.99      0.97       496\n",
      "           2       0.95      0.96      0.95       471\n",
      "           3       0.98      0.93      0.95       420\n",
      "           4       0.96      0.90      0.93       491\n",
      "           5       0.88      0.97      0.92       532\n",
      "           6       1.00      0.96      0.98       537\n",
      "\n",
      "    accuracy                           0.95      2947\n",
      "   macro avg       0.95      0.95      0.95      2947\n",
      "weighted avg       0.95      0.95      0.95      2947\n",
      "\n"
     ]
    }
   ],
   "source": [
    "# model\n",
    "clf = MLPClassifier(hidden_layer_sizes=(128, 64, 32,), learning_rate='adaptive', solver='adam',momentum=0.1, random_state=42)\n",
    "clf.fit(X_train, y_train)\n",
    "\n",
    "y_pred = clf.predict(X_test)\n",
    "\n",
    "print(classification_report(y_test, y_pred))"
   ]
  },
  {
   "cell_type": "code",
   "execution_count": 24,
   "id": "8019d55c",
   "metadata": {},
   "outputs": [
    {
     "data": {
      "image/png": "[encoded data removed]",
      "text/plain": [
       "<Figure size 432x288 with 1 Axes>"
      ]
     },
     "metadata": {
      "needs_background": "light"
     },
     "output_type": "display_data"
    }
   ],
   "source": [
    "plt.plot(clf.loss_curve_, c='k')#, label=label)\n",
    "#plt.legend(loc=\"upper center\")\n",
    "plt.xlabel('Epochs')\n",
    "plt.ylabel('Cross-Entropy')\n",
    "plt.show()"
   ]
  },
  {
   "cell_type": "code",
   "execution_count": 17,
   "id": "267f116f",
   "metadata": {},
   "outputs": [
    {
     "name": "stdout",
     "output_type": "stream",
     "text": [
      "              precision    recall  f1-score   support\n",
      "\n",
      "           1       0.94      0.99      0.96       496\n",
      "           2       0.94      0.95      0.94       471\n",
      "           3       0.98      0.91      0.94       420\n",
      "           4       0.94      0.89      0.91       491\n",
      "           5       0.87      0.94      0.91       532\n",
      "           6       1.00      0.96      0.98       537\n",
      "\n",
      "    accuracy                           0.94      2947\n",
      "   macro avg       0.94      0.94      0.94      2947\n",
      "weighted avg       0.94      0.94      0.94      2947\n",
      "\n"
     ]
    }
   ],
   "source": [
    "# model\n",
    "clf = MLPClassifier(hidden_layer_sizes=(100,100,), learning_rate='constant', solver='adam',momentum=0.2, random_state=42)\n",
    "clf.fit(X_train, y_train)\n",
    "\n",
    "y_pred = clf.predict(X_test)\n",
    "\n",
    "print(classification_report(y_test, y_pred))"
   ]
  },
  {
   "cell_type": "code",
   "execution_count": 18,
   "id": "668906f4",
   "metadata": {},
   "outputs": [
    {
     "data": {
      "image/png": "[encoded data removed]",
      "text/plain": [
       "<Figure size 432x288 with 1 Axes>"
      ]
     },
     "metadata": {
      "needs_background": "light"
     },
     "output_type": "display_data"
    }
   ],
   "source": [
    "plt.plot(clf.loss_curve_)#, label=label)\n",
    "#plt.legend(loc=\"upper center\")\n",
    "plt.show()"
   ]
  }
 ],
 "metadata": {
  "kernelspec": {
   "display_name": "Python 3",
   "language": "python",
   "name": "python3"
  },
  "language_info": {
   "codemirror_mode": {
    "name": "ipython",
    "version": 3
   },
   "file_extension": ".py",
   "mimetype": "text/x-python",
   "name": "python",
   "nbconvert_exporter": "python",
   "pygments_lexer": "ipython3",
   "version": "3.11.1"
  },
  "vscode": {
   "interpreter": {
    "hash": "83bbea76cd4e0a75412f7c0275ae85744c819a0c5ea450c59d21b804f1344e0b"
   }
  }
 },
 "nbformat": 4,
 "nbformat_minor": 5
}
