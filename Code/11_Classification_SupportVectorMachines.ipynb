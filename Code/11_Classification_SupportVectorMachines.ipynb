{
 "cells": [
  {
   "attachments": {},
   "cell_type": "markdown",
   "id": "f088f2ac",
   "metadata": {},
   "source": [
    "# Support Vector Machines"
   ]
  },
  {
   "cell_type": "code",
   "execution_count": 27,
   "id": "5fcab2ee",
   "metadata": {},
   "outputs": [],
   "source": [
    "%matplotlib inline\n",
    "\n",
    "import numpy as np\n",
    "import pandas as pd\n",
    "import matplotlib.pyplot as plt\n",
    "from sklearn.metrics import accuracy_score, f1_score, classification_report\n",
    "from sklearn.metrics import roc_curve, auc, roc_auc_score\n",
    "import seaborn as sns\n",
    "sns.set_style(style=\"whitegrid\")\n",
    "\n",
    "from collections import defaultdict\n",
    "import warnings\n",
    "warnings.filterwarnings('ignore')"
   ]
  },
  {
   "cell_type": "code",
   "execution_count": 28,
   "id": "24392190",
   "metadata": {},
   "outputs": [],
   "source": [
    "# datasets\n",
    "X_train = pd.read_csv('.\\data\\csv_data\\X_TR_151_SENZA_OUTLIERS.csv')\n",
    "X_test = pd.read_csv('.\\data\\csv_data\\X_TST_151_SENZA_OUTLIERS.csv')\n",
    "y_train = pd.read_csv('.\\data\\csv_data\\Y_TR_151_SENZA_OUTLIERS.csv')\n",
    "y_test = pd.read_csv('.\\data\\csv_data\\y_test.csv')"
   ]
  },
  {
   "cell_type": "code",
   "execution_count": 29,
   "id": "4743313d",
   "metadata": {},
   "outputs": [],
   "source": [
    "# Target variable from integer to categorical\n",
    "y_train['Label'] = pd.Categorical(y_train[\"Label\"])\n",
    "y_test['Label'] = pd.Categorical(y_test[\"Label\"])"
   ]
  },
  {
   "cell_type": "code",
   "execution_count": 30,
   "id": "0964fb1a",
   "metadata": {},
   "outputs": [],
   "source": [
    "from sklearn.preprocessing import StandardScaler\n",
    "scaler = StandardScaler()\n",
    "scaler.fit(X_train)\n",
    "X_train = scaler.transform(X_train)\n",
    "X_test = scaler.transform(X_test)"
   ]
  },
  {
   "cell_type": "markdown",
   "id": "2fff3daa",
   "metadata": {},
   "source": [
    "# LINEAR SVM"
   ]
  },
  {
   "cell_type": "code",
   "execution_count": 34,
   "id": "00c8ae59",
   "metadata": {},
   "outputs": [],
   "source": [
    "from sklearn.svm import LinearSVC"
   ]
  },
  {
   "cell_type": "code",
   "execution_count": 35,
   "id": "ae58731f",
   "metadata": {
    "scrolled": false
   },
   "outputs": [
    {
     "name": "stdout",
     "output_type": "stream",
     "text": [
      "              precision    recall  f1-score   support\n",
      "\n",
      "           1       0.92      0.99      0.96       496\n",
      "           2       0.95      0.92      0.93       471\n",
      "           3       0.98      0.95      0.96       420\n",
      "           4       0.92      0.87      0.89       491\n",
      "           5       0.89      0.93      0.91       532\n",
      "           6       1.00      1.00      1.00       537\n",
      "\n",
      "    accuracy                           0.94      2947\n",
      "   macro avg       0.94      0.94      0.94      2947\n",
      "weighted avg       0.94      0.94      0.94      2947\n",
      "\n"
     ]
    }
   ],
   "source": [
    "clf = LinearSVC(C=0.01, random_state=42)\n",
    "clf.fit(X_train, y_train)\n",
    "\n",
    "y_pred = clf.predict(X_test)\n",
    "\n",
    "print(classification_report(y_test, y_pred))"
   ]
  },
  {
   "cell_type": "code",
   "execution_count": 36,
   "id": "a7ebf48c",
   "metadata": {},
   "outputs": [
    {
     "name": "stdout",
     "output_type": "stream",
     "text": [
      "              precision    recall  f1-score   support\n",
      "\n",
      "           1       0.93      0.98      0.95       496\n",
      "           2       0.94      0.93      0.93       471\n",
      "           3       0.98      0.94      0.96       420\n",
      "           4       0.94      0.87      0.90       491\n",
      "           5       0.88      0.95      0.91       532\n",
      "           6       1.00      0.99      0.99       537\n",
      "\n",
      "    accuracy                           0.94      2947\n",
      "   macro avg       0.94      0.94      0.94      2947\n",
      "weighted avg       0.94      0.94      0.94      2947\n",
      "\n"
     ]
    }
   ],
   "source": [
    "clf = LinearSVC(C=0.1, random_state=42)\n",
    "clf.fit(X_train, y_train)\n",
    "\n",
    "y_pred = clf.predict(X_test)\n",
    "\n",
    "print(classification_report(y_test, y_pred))"
   ]
  },
  {
   "cell_type": "code",
   "execution_count": 37,
   "id": "1a874a0c",
   "metadata": {},
   "outputs": [
    {
     "name": "stdout",
     "output_type": "stream",
     "text": [
      "\n",
      "              precision    recall  f1-score   support\n",
      "\n",
      "           1       0.95      0.97      0.96       496\n",
      "           2       0.93      0.92      0.93       471\n",
      "           3       0.97      0.94      0.95       420\n",
      "           4       0.93      0.86      0.90       491\n",
      "           5       0.88      0.94      0.91       532\n",
      "           6       0.99      0.99      0.99       537\n",
      "\n",
      "    accuracy                           0.94      2947\n",
      "   macro avg       0.94      0.94      0.94      2947\n",
      "weighted avg       0.94      0.94      0.94      2947\n",
      "\n"
     ]
    }
   ],
   "source": [
    "clf = LinearSVC(C=1.0, random_state=42)\n",
    "clf.fit(X_train, y_train)\n",
    "\n",
    "y_pred = clf.predict(X_test)\n",
    "print('')\n",
    "print(classification_report(y_test, y_pred))"
   ]
  },
  {
   "cell_type": "code",
   "execution_count": 38,
   "id": "15b6055d",
   "metadata": {},
   "outputs": [
    {
     "name": "stdout",
     "output_type": "stream",
     "text": [
      "              precision    recall  f1-score   support\n",
      "\n",
      "           1       0.96      0.96      0.96       496\n",
      "           2       0.93      0.91      0.92       471\n",
      "           3       0.96      0.94      0.95       420\n",
      "           4       0.91      0.86      0.89       491\n",
      "           5       0.89      0.93      0.91       532\n",
      "           6       0.96      1.00      0.98       537\n",
      "\n",
      "    accuracy                           0.93      2947\n",
      "   macro avg       0.94      0.93      0.93      2947\n",
      "weighted avg       0.93      0.93      0.93      2947\n",
      "\n"
     ]
    }
   ],
   "source": [
    "clf = LinearSVC(C=10.0, random_state=42)\n",
    "clf.fit(X_train, y_train)\n",
    "\n",
    "y_pred = clf.predict(X_test)\n",
    "\n",
    "print(classification_report(y_test, y_pred))"
   ]
  },
  {
   "cell_type": "code",
   "execution_count": 39,
   "id": "b9a4fe19",
   "metadata": {},
   "outputs": [
    {
     "name": "stdout",
     "output_type": "stream",
     "text": [
      "              precision    recall  f1-score   support\n",
      "\n",
      "           1       0.96      0.96      0.96       496\n",
      "           2       0.93      0.91      0.92       471\n",
      "           3       0.96      0.94      0.95       420\n",
      "           4       0.91      0.89      0.90       491\n",
      "           5       0.91      0.92      0.91       532\n",
      "           6       0.96      1.00      0.98       537\n",
      "\n",
      "    accuracy                           0.94      2947\n",
      "   macro avg       0.94      0.94      0.94      2947\n",
      "weighted avg       0.94      0.94      0.94      2947\n",
      "\n"
     ]
    }
   ],
   "source": [
    "clf = LinearSVC(C=100.0, random_state=42)\n",
    "clf.fit(X_train, y_train)\n",
    "\n",
    "y_pred = clf.predict(X_test)\n",
    "\n",
    "print(classification_report(y_test, y_pred))"
   ]
  },
  {
   "cell_type": "markdown",
   "id": "84ea16ab",
   "metadata": {},
   "source": [
    "# NON LINEAR SVM"
   ]
  },
  {
   "cell_type": "code",
   "execution_count": 14,
   "id": "fc6da5de",
   "metadata": {},
   "outputs": [],
   "source": [
    "from sklearn.svm import SVC"
   ]
  },
  {
   "cell_type": "markdown",
   "id": "4aa489be",
   "metadata": {},
   "source": [
    "## kernel = 'poly'"
   ]
  },
  {
   "cell_type": "code",
   "execution_count": 40,
   "id": "22ef1039",
   "metadata": {},
   "outputs": [
    {
     "name": "stdout",
     "output_type": "stream",
     "text": [
      "              precision    recall  f1-score   support\n",
      "\n",
      "           1       0.36      0.05      0.09       496\n",
      "           2       0.90      0.04      0.07       471\n",
      "           3       1.00      0.00      0.01       420\n",
      "           4       0.88      0.01      0.03       491\n",
      "           5       0.19      1.00      0.32       532\n",
      "           6       0.98      0.18      0.30       537\n",
      "\n",
      "    accuracy                           0.23      2947\n",
      "   macro avg       0.72      0.21      0.14      2947\n",
      "weighted avg       0.71      0.23      0.14      2947\n",
      "\n"
     ]
    }
   ],
   "source": [
    "clf = SVC(gamma='auto', kernel = 'poly', C=0.01, random_state=42)\n",
    "clf.fit(X_train, y_train)\n",
    "\n",
    "y_pred = clf.predict(X_test)\n",
    "\n",
    "print(classification_report(y_test, y_pred))"
   ]
  },
  {
   "cell_type": "code",
   "execution_count": 41,
   "id": "1cf14754",
   "metadata": {},
   "outputs": [
    {
     "name": "stdout",
     "output_type": "stream",
     "text": [
      "              precision    recall  f1-score   support\n",
      "\n",
      "           1       0.59      1.00      0.74       496\n",
      "           2       0.96      0.61      0.75       471\n",
      "           3       0.99      0.59      0.74       420\n",
      "           4       0.89      0.44      0.59       491\n",
      "           5       0.61      0.99      0.75       532\n",
      "           6       1.00      0.83      0.91       537\n",
      "\n",
      "    accuracy                           0.75      2947\n",
      "   macro avg       0.84      0.74      0.75      2947\n",
      "weighted avg       0.83      0.75      0.75      2947\n",
      "\n"
     ]
    }
   ],
   "source": [
    "clf = SVC(gamma='auto', kernel = 'poly', C=0.1, random_state=42)\n",
    "clf.fit(X_train, y_train)\n",
    "\n",
    "y_pred = clf.predict(X_test)\n",
    "\n",
    "print(classification_report(y_test, y_pred))"
   ]
  },
  {
   "cell_type": "code",
   "execution_count": 42,
   "id": "f64f960a",
   "metadata": {},
   "outputs": [
    {
     "name": "stdout",
     "output_type": "stream",
     "text": [
      "              precision    recall  f1-score   support\n",
      "\n",
      "           1       0.82      1.00      0.90       496\n",
      "           2       0.95      0.84      0.89       471\n",
      "           3       0.98      0.88      0.93       420\n",
      "           4       0.91      0.87      0.89       491\n",
      "           5       0.87      0.95      0.91       532\n",
      "           6       1.00      0.93      0.96       537\n",
      "\n",
      "    accuracy                           0.91      2947\n",
      "   macro avg       0.92      0.91      0.91      2947\n",
      "weighted avg       0.92      0.91      0.91      2947\n",
      "\n"
     ]
    }
   ],
   "source": [
    "clf = SVC(gamma='auto', kernel='poly', C=1.0, random_state=42)\n",
    "clf.fit(X_train, y_train)\n",
    "\n",
    "y_pred = clf.predict(X_test)\n",
    "\n",
    "print(classification_report(y_test, y_pred))"
   ]
  },
  {
   "cell_type": "code",
   "execution_count": 43,
   "id": "6a91ad34",
   "metadata": {},
   "outputs": [
    {
     "name": "stdout",
     "output_type": "stream",
     "text": [
      "              precision    recall  f1-score   support\n",
      "\n",
      "           1       0.84      1.00      0.91       496\n",
      "           2       0.95      0.85      0.90       471\n",
      "           3       0.98      0.90      0.94       420\n",
      "           4       0.90      0.90      0.90       491\n",
      "           5       0.89      0.94      0.91       532\n",
      "           6       1.00      0.93      0.96       537\n",
      "\n",
      "    accuracy                           0.92      2947\n",
      "   macro avg       0.93      0.92      0.92      2947\n",
      "weighted avg       0.93      0.92      0.92      2947\n",
      "\n"
     ]
    }
   ],
   "source": [
    "clf = SVC(gamma='auto', kernel='poly', C=10.0, random_state=42)\n",
    "clf.fit(X_train, y_train)\n",
    "\n",
    "y_pred = clf.predict(X_test)\n",
    "\n",
    "print(classification_report(y_test, y_pred))"
   ]
  },
  {
   "cell_type": "code",
   "execution_count": 45,
   "id": "b0fc64e4",
   "metadata": {},
   "outputs": [
    {
     "name": "stdout",
     "output_type": "stream",
     "text": [
      "\n",
      "              precision    recall  f1-score   support\n",
      "\n",
      "           1       0.84      1.00      0.91       496\n",
      "           2       0.95      0.85      0.90       471\n",
      "           3       0.98      0.90      0.94       420\n",
      "           4       0.90      0.90      0.90       491\n",
      "           5       0.89      0.94      0.91       532\n",
      "           6       1.00      0.93      0.96       537\n",
      "\n",
      "    accuracy                           0.92      2947\n",
      "   macro avg       0.93      0.92      0.92      2947\n",
      "weighted avg       0.93      0.92      0.92      2947\n",
      "\n"
     ]
    }
   ],
   "source": [
    "clf = SVC(gamma='auto', kernel='poly', C=100.0, random_state=42)\n",
    "clf.fit(X_train, y_train)\n",
    "\n",
    "y_pred = clf.predict(X_test)\n",
    "print('')\n",
    "print(classification_report(y_test, y_pred))"
   ]
  },
  {
   "cell_type": "markdown",
   "id": "b0660cdc",
   "metadata": {},
   "source": [
    "## kernel = 'rbf'"
   ]
  },
  {
   "cell_type": "code",
   "execution_count": 46,
   "id": "a6a86376",
   "metadata": {},
   "outputs": [
    {
     "name": "stdout",
     "output_type": "stream",
     "text": [
      "              precision    recall  f1-score   support\n",
      "\n",
      "           1       0.42      1.00      0.59       496\n",
      "           2       0.89      0.50      0.64       471\n",
      "           3       0.00      0.00      0.00       420\n",
      "           4       0.98      0.12      0.21       491\n",
      "           5       0.59      0.95      0.73       532\n",
      "           6       0.86      0.95      0.90       537\n",
      "\n",
      "    accuracy                           0.61      2947\n",
      "   macro avg       0.62      0.59      0.51      2947\n",
      "weighted avg       0.64      0.61      0.53      2947\n",
      "\n"
     ]
    }
   ],
   "source": [
    "clf = SVC(gamma='auto', kernel='rbf', C=0.01, random_state=42)\n",
    "clf.fit(X_train, y_train)\n",
    "\n",
    "y_pred = clf.predict(X_test)\n",
    "\n",
    "print(classification_report(y_test, y_pred))"
   ]
  },
  {
   "cell_type": "code",
   "execution_count": 47,
   "id": "7cf34a13",
   "metadata": {},
   "outputs": [
    {
     "name": "stdout",
     "output_type": "stream",
     "text": [
      "              precision    recall  f1-score   support\n",
      "\n",
      "           1       0.95      0.98      0.96       496\n",
      "           2       0.95      0.95      0.95       471\n",
      "           3       0.94      0.91      0.92       420\n",
      "           4       0.86      0.86      0.86       491\n",
      "           5       0.89      0.90      0.89       532\n",
      "           6       0.97      0.96      0.96       537\n",
      "\n",
      "    accuracy                           0.93      2947\n",
      "   macro avg       0.93      0.93      0.93      2947\n",
      "weighted avg       0.93      0.93      0.93      2947\n",
      "\n"
     ]
    }
   ],
   "source": [
    "clf = SVC(gamma='auto', kernel='rbf', C=0.1, random_state=42)\n",
    "clf.fit(X_train, y_train)\n",
    "\n",
    "y_pred = clf.predict(X_test)\n",
    "\n",
    "print(classification_report(y_test, y_pred))"
   ]
  },
  {
   "cell_type": "code",
   "execution_count": 48,
   "id": "c593b781",
   "metadata": {},
   "outputs": [
    {
     "name": "stdout",
     "output_type": "stream",
     "text": [
      "              precision    recall  f1-score   support\n",
      "\n",
      "           1       0.95      0.99      0.97       496\n",
      "           2       0.98      0.93      0.95       471\n",
      "           3       0.97      0.96      0.97       420\n",
      "           4       0.92      0.91      0.91       491\n",
      "           5       0.91      0.93      0.92       532\n",
      "           6       0.99      0.98      0.98       537\n",
      "\n",
      "    accuracy                           0.95      2947\n",
      "   macro avg       0.95      0.95      0.95      2947\n",
      "weighted avg       0.95      0.95      0.95      2947\n",
      "\n"
     ]
    }
   ],
   "source": [
    "clf = SVC(gamma='auto', kernel='rbf', C=1.0, random_state=42)\n",
    "clf.fit(X_train, y_train)\n",
    "\n",
    "y_pred = clf.predict(X_test)\n",
    "\n",
    "print(classification_report(y_test, y_pred))"
   ]
  },
  {
   "cell_type": "code",
   "execution_count": 49,
   "id": "22a760d3",
   "metadata": {},
   "outputs": [
    {
     "name": "stdout",
     "output_type": "stream",
     "text": [
      "              precision    recall  f1-score   support\n",
      "\n",
      "           1       0.95      0.99      0.97       496\n",
      "           2       0.97      0.92      0.94       471\n",
      "           3       0.96      0.96      0.96       420\n",
      "           4       0.93      0.90      0.92       491\n",
      "           5       0.91      0.94      0.92       532\n",
      "           6       0.99      0.98      0.98       537\n",
      "\n",
      "    accuracy                           0.95      2947\n",
      "   macro avg       0.95      0.95      0.95      2947\n",
      "weighted avg       0.95      0.95      0.95      2947\n",
      "\n"
     ]
    }
   ],
   "source": [
    "clf = SVC(gamma='auto', kernel='rbf', C=10.0, random_state=42)\n",
    "clf.fit(X_train, y_train)\n",
    "\n",
    "y_pred = clf.predict(X_test)\n",
    "\n",
    "print(classification_report(y_test, y_pred))"
   ]
  },
  {
   "cell_type": "code",
   "execution_count": 50,
   "id": "2521453f",
   "metadata": {},
   "outputs": [
    {
     "name": "stdout",
     "output_type": "stream",
     "text": [
      "              precision    recall  f1-score   support\n",
      "\n",
      "           1       0.95      0.99      0.97       496\n",
      "           2       0.97      0.92      0.94       471\n",
      "           3       0.96      0.96      0.96       420\n",
      "           4       0.93      0.90      0.92       491\n",
      "           5       0.90      0.94      0.92       532\n",
      "           6       0.99      0.98      0.98       537\n",
      "\n",
      "    accuracy                           0.95      2947\n",
      "   macro avg       0.95      0.95      0.95      2947\n",
      "weighted avg       0.95      0.95      0.95      2947\n",
      "\n"
     ]
    }
   ],
   "source": [
    "clf = SVC(gamma='auto', kernel='rbf', C=100.0, random_state=42)\n",
    "clf.fit(X_train, y_train)\n",
    "\n",
    "y_pred = clf.predict(X_test)\n",
    "\n",
    "print(classification_report(y_test, y_pred))"
   ]
  },
  {
   "cell_type": "markdown",
   "id": "26df34e0",
   "metadata": {},
   "source": [
    "## kernel = 'sigmoid'"
   ]
  },
  {
   "cell_type": "code",
   "execution_count": 51,
   "id": "806512fe",
   "metadata": {},
   "outputs": [
    {
     "name": "stdout",
     "output_type": "stream",
     "text": [
      "              precision    recall  f1-score   support\n",
      "\n",
      "           1       0.74      1.00      0.85       496\n",
      "           2       0.91      0.93      0.92       471\n",
      "           3       0.97      0.58      0.73       420\n",
      "           4       0.87      0.64      0.74       491\n",
      "           5       0.74      0.95      0.83       532\n",
      "           6       0.98      0.92      0.95       537\n",
      "\n",
      "    accuracy                           0.85      2947\n",
      "   macro avg       0.87      0.84      0.84      2947\n",
      "weighted avg       0.87      0.85      0.84      2947\n",
      "\n"
     ]
    }
   ],
   "source": [
    "clf = SVC(gamma='auto', kernel='sigmoid', C=0.01, random_state=42)\n",
    "clf.fit(X_train, y_train)\n",
    "\n",
    "y_pred = clf.predict(X_test)\n",
    "\n",
    "print(classification_report(y_test, y_pred))"
   ]
  },
  {
   "cell_type": "code",
   "execution_count": 52,
   "id": "b717750e",
   "metadata": {},
   "outputs": [
    {
     "name": "stdout",
     "output_type": "stream",
     "text": [
      "              precision    recall  f1-score   support\n",
      "\n",
      "           1       0.92      0.99      0.95       496\n",
      "           2       0.94      0.93      0.93       471\n",
      "           3       0.95      0.90      0.93       420\n",
      "           4       0.87      0.86      0.87       491\n",
      "           5       0.88      0.91      0.89       532\n",
      "           6       1.00      0.96      0.98       537\n",
      "\n",
      "    accuracy                           0.93      2947\n",
      "   macro avg       0.93      0.92      0.92      2947\n",
      "weighted avg       0.93      0.93      0.93      2947\n",
      "\n"
     ]
    }
   ],
   "source": [
    "clf = SVC(gamma='auto', kernel='sigmoid', C=0.1, random_state=42)\n",
    "clf.fit(X_train, y_train)\n",
    "\n",
    "y_pred = clf.predict(X_test)\n",
    "\n",
    "print(classification_report(y_test, y_pred))"
   ]
  },
  {
   "cell_type": "code",
   "execution_count": 53,
   "id": "5a008a13",
   "metadata": {},
   "outputs": [
    {
     "name": "stdout",
     "output_type": "stream",
     "text": [
      "              precision    recall  f1-score   support\n",
      "\n",
      "           1       0.91      0.95      0.93       496\n",
      "           2       0.93      0.89      0.91       471\n",
      "           3       0.89      0.88      0.89       420\n",
      "           4       0.88      0.86      0.87       491\n",
      "           5       0.87      0.91      0.89       532\n",
      "           6       0.98      0.96      0.97       537\n",
      "\n",
      "    accuracy                           0.91      2947\n",
      "   macro avg       0.91      0.91      0.91      2947\n",
      "weighted avg       0.91      0.91      0.91      2947\n",
      "\n"
     ]
    }
   ],
   "source": [
    "clf = SVC(gamma='auto', kernel='sigmoid', C=1.0, random_state=42)\n",
    "clf.fit(X_train, y_train)\n",
    "\n",
    "y_pred = clf.predict(X_test)\n",
    "\n",
    "print(classification_report(y_test, y_pred))"
   ]
  },
  {
   "cell_type": "code",
   "execution_count": 54,
   "id": "65b0ad1c",
   "metadata": {},
   "outputs": [
    {
     "name": "stdout",
     "output_type": "stream",
     "text": [
      "              precision    recall  f1-score   support\n",
      "\n",
      "           1       0.88      0.95      0.92       496\n",
      "           2       0.90      0.88      0.89       471\n",
      "           3       0.88      0.84      0.86       420\n",
      "           4       0.81      0.80      0.81       491\n",
      "           5       0.83      0.85      0.84       532\n",
      "           6       0.97      0.94      0.95       537\n",
      "\n",
      "    accuracy                           0.88      2947\n",
      "   macro avg       0.88      0.88      0.88      2947\n",
      "weighted avg       0.88      0.88      0.88      2947\n",
      "\n"
     ]
    }
   ],
   "source": [
    "clf = SVC(gamma='auto', kernel='sigmoid', C=10.0, random_state=42)\n",
    "clf.fit(X_train, y_train)\n",
    "\n",
    "y_pred = clf.predict(X_test)\n",
    "\n",
    "print(classification_report(y_test, y_pred))"
   ]
  },
  {
   "cell_type": "code",
   "execution_count": 55,
   "id": "e212b202",
   "metadata": {},
   "outputs": [
    {
     "name": "stdout",
     "output_type": "stream",
     "text": [
      "              precision    recall  f1-score   support\n",
      "\n",
      "           1       0.86      0.98      0.91       496\n",
      "           2       0.91      0.87      0.89       471\n",
      "           3       0.91      0.80      0.85       420\n",
      "           4       0.82      0.84      0.83       491\n",
      "           5       0.84      0.85      0.84       532\n",
      "           6       0.95      0.91      0.93       537\n",
      "\n",
      "    accuracy                           0.88      2947\n",
      "   macro avg       0.88      0.88      0.88      2947\n",
      "weighted avg       0.88      0.88      0.88      2947\n",
      "\n"
     ]
    }
   ],
   "source": [
    "clf = SVC(gamma='auto', kernel='sigmoid', C=100.0, random_state=42)\n",
    "clf.fit(X_train, y_train)\n",
    "\n",
    "y_pred = clf.predict(X_test)\n",
    "\n",
    "print(classification_report(y_test, y_pred))"
   ]
  }
 ],
 "metadata": {
  "kernelspec": {
   "display_name": "Python 3",
   "language": "python",
   "name": "python3"
  },
  "language_info": {
   "codemirror_mode": {
    "name": "ipython",
    "version": 3
   },
   "file_extension": ".py",
   "mimetype": "text/x-python",
   "name": "python",
   "nbconvert_exporter": "python",
   "pygments_lexer": "ipython3",
   "version": "3.11.1"
  },
  "vscode": {
   "interpreter": {
    "hash": "83bbea76cd4e0a75412f7c0275ae85744c819a0c5ea450c59d21b804f1344e0b"
   }
  }
 },
 "nbformat": 4,
 "nbformat_minor": 5
}
